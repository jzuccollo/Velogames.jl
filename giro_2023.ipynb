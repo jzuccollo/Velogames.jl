{
 "cells": [
  {
   "attachments": {},
   "cell_type": "markdown",
   "metadata": {},
   "source": [
    "# Velogames solver: Giro d'Italia 2023\n",
    "\n",
    "A script to calculate the optimal team that could have been chosen for a given race in [Velogames fantasy cycling](https://www.velogames.com/)\n",
    "\n",
    "This Julia script uses the [Gumbo](https://github.com/JuliaWeb/Gumbo.jl) and [Cascadia](https://github.com/Algocircle/Cascadia.jl) libraries to scrape rider data, and the [JuMP](https://jump.dev/JuMP.jl/stable/) optimisation library / [HiGHS](https://highs.dev/) solver to construct and solve a mixed-integer program (MIP) described below\n",
    "\n",
    "In Velogames fantasy cycling, you must select a team of 9 riders, each with a specific cost based on their expected performance, spending no more than 100 points.\n",
    "\n",
    "Each rider is classed as either an All-Rounder, a Climber, a Sprinter or is Unclassed. A team must contain 2 All-Rounders, 2 Climbers, 1 Sprinter and 3 Unclassed riders. The 9th selection can be from any of these categories.\n",
    "\n",
    "At the end of the race, each rider will have accumulated a score based on their performance, and the aim is to pick a team with the highest combined score at the end of the race.\n",
    "\n",
    "The optimisation problem can be stated as:\n",
    "\n",
    "$maximise \\sum_{j=1}^{n} x_j y_j$\n",
    "\n",
    "$s.t.$\n",
    "\n",
    "$\\sum_{j=1}^{n} x_j=9$\n",
    "\n",
    "$\\sum_{j=1}^{n} x_j z_j \\leq 100$\n",
    "\n",
    "$\\sum_{j=1}^{n} x_j a_j \\geq 2$\n",
    "\n",
    "$\\sum_{j=1}^{n} x_j c_j \\geq 2$\n",
    "\n",
    "$\\sum_{j=1}^{n} x_j s_j \\geq 1$\n",
    "\n",
    "$\\sum_{j=1}^{n} x_j u_j \\geq 3$\n",
    "\n",
    "where $j=1...n$ is the set of all riders\n",
    "\n",
    "$x_j\\in[0,1]$ is a binary decision variable denoting if rider $j$ is chosen (1 for chosen, 0 for not chosen)\n",
    "\n",
    "$z_j\\in Z^+$ and $y_j\\in Z^+$ are the cost and score parameters of rider $j$ respectively\n",
    "\n",
    "$a_j\\in[0,1]$, $c_j\\in[0,1]$, $s_j\\in[0,1]$ and $u_j\\in[0,1]$ are binary parameters denoting if rider $j$ is an All-Rounder, Climber, Sprinter or Unclassed respectively, with the further parameter constraint that $a_i+c_i+s_i+u_i=1$ $\\forall i=1...n$ (i.e. each rider is allocated to one and only one of the 4 categories) and by implication $\\sum_{j=1}^{n} a_j+\\sum_{j=1}^{n} c_j+\\sum_{j=1}^{n} s_j+\\sum_{j=1}^{n} u_j=n$ (i.e. the sum of the number of riders in each category is equal to the total number of riders)\n",
    "\n",
    "## Load libraries\n"
   ]
  },
  {
   "cell_type": "code",
   "execution_count": 1,
   "metadata": {},
   "outputs": [],
   "source": [
    "using Statistics\n",
    "\n",
    "# include all files in src directory\n",
    "source_files = readdir(\"src\")\n",
    "for file in source_files\n",
    "    include(\"src/$file\")\n",
    "end"
   ]
  },
  {
   "cell_type": "code",
   "execution_count": 2,
   "metadata": {},
   "outputs": [
    {
     "data": {
      "text/plain": [
       "176-element Vector{Float64}:\n",
       " 235.00121509273075\n",
       " 288.6208484331699\n",
       " 241.40667235131102\n",
       " 399.97537838413984\n",
       " 279.5511617991899\n",
       " 248.90277126412278\n",
       " 272.1491153272223\n",
       " 185.64229375399702\n",
       "  91.29458537625239\n",
       " 121.44127051801321\n",
       "  96.07260712001704\n",
       "  97.27021956938819\n",
       " 148.73001492219143\n",
       "   ⋮\n",
       "   0.0\n",
       "   6.0\n",
       "   6.0\n",
       "   6.0\n",
       "   6.0\n",
       "   4.0\n",
       "   4.0\n",
       "  14.0\n",
       "  72.0\n",
       "  10.5\n",
       "   3.0\n",
       "   3.0"
      ]
     },
     "execution_count": 2,
     "metadata": {},
     "output_type": "execute_result"
    }
   ],
   "source": [
    "FORM_WEIGHT = 0.5\n",
    "\n",
    "rider_df = getvgriders(\"https://www.velogames.com/italy/2023/riders.php\")\n",
    "\n",
    "mycols = [:mountain, :gc, :sprint, :overall]\n",
    "# getpcsranking for each col, filter the dataframe to only the points and riderkey columns, and rename the points column to the col name.\n",
    "pcs_dfs = map(mycols) do col\n",
    "    rename(getpcsranking(col), :points => col)[:, [col, :riderkey]]\n",
    "end\n",
    "\n",
    "# use reduce to join all dataframes in pcs_dfs on the riderkey column\n",
    "pcs_df = reduce((x, y) -> outerjoin(x, y, on=:riderkey), pcs_dfs)\n",
    "\n",
    "# join the velogames and pcs dataframes on the riderkey column\n",
    "rider_df = leftjoin(rider_df, pcs_df, on=:riderkey)\n",
    "rider_df = coalesce.(rider_df, 0)\n",
    "\n",
    "# create calcpcsscore column which is the sum of All Rounder * gc, Sprinter * sprint, Climber * mountain, and Unclassed * overall\n",
    "rider_df.calcpcsscore = rider_df.allrounder .* rider_df.gc .+ rider_df.sprinter .* rider_df.sprint .+ rider_df.climber .* rider_df.mountain .+ rider_df.unclassed .* rider_df.overall\n",
    "\n",
    "# create calc_score column which is a weighted average of the calcpcsscore and points columns, adjusted for the difference in magnitude\n",
    "ADJ_FACTOR = mean(rider_df.points) / mean(rider_df.calcpcsscore)\n",
    "rider_df.calc_score = (1 - FORM_WEIGHT) .* ADJ_FACTOR .* rider_df.calcpcsscore .+ FORM_WEIGHT .* rider_df.points"
   ]
  },
  {
   "cell_type": "code",
   "execution_count": 3,
   "metadata": {},
   "outputs": [
    {
     "name": "stdout",
     "output_type": "stream",
     "text": [
      "Running HiGHS 1.5.1 [date: 1970-01-01, git hash: 93f1876e4]\n",
      "Copyright (c) 2023 HiGHS under MIT licence terms\n",
      "Presolving model\n",
      "6 rows, 176 cols, 528 nonzeros\n",
      "6 rows, 103 cols, 266 nonzeros\n",
      "6 rows, 102 cols, 264 nonzeros\n",
      "\n",
      "Solving MIP model with:\n",
      "   6 rows\n",
      "   102 cols (86 binary, 16 integer, 0 implied int., 0 continuous)\n",
      "   264 nonzeros\n",
      "\n",
      "        Nodes      |    B&B Tree     |            Objective Bounds              |  Dynamic Constraints |       Work      \n",
      "     Proc. InQueue |  Leaves   Expl. | BestBound       BestSol              Gap |   Cuts   InLp Confl. | LpIters     Time\n",
      "\n",
      "         0       0         0   0.00%   8447            -inf                 inf        0      0      0         0     0.0s\n",
      " R       0       0         0   0.00%   2273.685172     2189.042336        3.87%        0      0      0        10     0.0s\n",
      "\n",
      "61.8% inactive integer columns, restarting\n",
      "Model after restart has 6 rows, 39 cols (39 bin., 0 int., 0 impl., 0 cont.), and 104 nonzeros\n",
      "\n",
      "         0       0         0   0.00%   2273.685172     2189.042336        3.87%        0      0      0        10     0.0s\n",
      "         0       0         0   0.00%   2273.685172     2189.042336        3.87%        0      0      2        10     0.0s\n",
      "\n",
      "Solving report\n",
      "  Status            Optimal\n",
      "  Primal bound      2257.62274568\n",
      "  Dual bound        2257.62274568\n",
      "  Gap               0% (tolerance: 0.01%)\n",
      "  Solution status   feasible\n",
      "                    2257.62274568 (objective)\n",
      "                    0 (bound viol.)\n",
      "                    2.22044604925e-16 (int. viol.)\n",
      "                    0 (row viol.)\n",
      "  Timing            0.00 (total)\n",
      "                    0.00 (presolve)\n",
      "                    0.00 (postsolve)\n",
      "  Nodes             1\n",
      "  LP iterations     13 (total)\n",
      "                    0 (strong br.)\n",
      "                    3 (separation)\n",
      "                    0 (heuristics)\n"
     ]
    },
    {
     "data": {
      "text/plain": [
       "1-dimensional DenseAxisArray{Float64,1,...} with index sets:\n",
       "    Dimension 1, [\"Michael Matthews\", \"Mads Pedersen\", \"Kaden Groves\", \"Remco Evenepoel\", \"Primož Roglič\", \"Tao Geoghegan Hart\", \"João Almeida\", \"Geraint Thomas\", \"Hugh Carthy\", \"Thibaut Pinot\"  …  \"Niklas Märkl\", \"Florian Stork\", \"Martijn Tusveld\", \"Lukas Pöstlberger\", \"Callum Scotson\", \"Campbell Stewart\", \"Amanuel Ghebreigzabhier\", \"Daan Hoole\", \"Alex Kirsch\", \"Otto Vergaerde\"]\n",
       "And data, a 176-element Vector{Float64}:\n",
       "  0.0\n",
       " -0.0\n",
       "  1.0\n",
       "  1.0\n",
       "  0.0\n",
       " -0.0\n",
       "  1.0\n",
       "  0.0\n",
       "  0.0\n",
       "  0.0\n",
       "  0.0\n",
       "  0.0\n",
       "  0.0\n",
       "  ⋮\n",
       "  0.0\n",
       "  0.0\n",
       "  0.0\n",
       "  0.0\n",
       "  0.0\n",
       "  0.0\n",
       "  0.0\n",
       "  0.0\n",
       "  0.0\n",
       "  0.0\n",
       "  0.0\n",
       "  0.0"
      ]
     },
     "execution_count": 3,
     "metadata": {},
     "output_type": "execute_result"
    }
   ],
   "source": [
    "model_results = build_model_stage(rider_df)"
   ]
  },
  {
   "cell_type": "code",
   "execution_count": 4,
   "metadata": {},
   "outputs": [
    {
     "data": {
      "text/plain": [
       "100.0"
      ]
     },
     "execution_count": 4,
     "metadata": {},
     "output_type": "execute_result"
    }
   ],
   "source": [
    "# total cost\n",
    "rider_df.cost .* model_results.data |> sum"
   ]
  },
  {
   "cell_type": "code",
   "execution_count": 5,
   "metadata": {},
   "outputs": [
    {
     "data": {
      "text/html": [
       "<div><div style = \"float: left;\"><span>9×7 DataFrame</span></div><div style = \"clear: both;\"></div></div><div class = \"data-frame\" style = \"overflow-x: scroll;\"><table class = \"data-frame\" style = \"margin-bottom: 6px;\"><thead><tr class = \"header\"><th class = \"rowNumber\" style = \"font-weight: bold; text-align: right;\">Row</th><th style = \"text-align: left;\">rider</th><th style = \"text-align: left;\">team</th><th style = \"text-align: left;\">class_raw</th><th style = \"text-align: left;\">selected</th><th style = \"text-align: left;\">points</th><th style = \"text-align: left;\">calcpcsscore</th><th style = \"text-align: left;\">cost</th></tr><tr class = \"subheader headerLastRow\"><th class = \"rowNumber\" style = \"font-weight: bold; text-align: right;\"></th><th title = \"String\" style = \"text-align: left;\">String</th><th title = \"String\" style = \"text-align: left;\">String</th><th title = \"String\" style = \"text-align: left;\">String</th><th title = \"String\" style = \"text-align: left;\">String</th><th title = \"Float64\" style = \"text-align: left;\">Float64</th><th title = \"Float64\" style = \"text-align: left;\">Float64</th><th title = \"Int64\" style = \"text-align: left;\">Int64</th></tr></thead><tbody><tr><td class = \"rowNumber\" style = \"font-weight: bold; text-align: right;\">1</td><td style = \"text-align: left;\">Kaden Groves</td><td style = \"text-align: left;\">Alpecin-Deceuninck</td><td style = \"text-align: left;\">Sprinter</td><td style = \"text-align: left;\">21.4%</td><td style = \"text-align: right;\">342.0</td><td style = \"text-align: right;\">391.0</td><td style = \"text-align: right;\">8</td></tr><tr><td class = \"rowNumber\" style = \"font-weight: bold; text-align: right;\">2</td><td style = \"text-align: left;\">Remco Evenepoel</td><td style = \"text-align: left;\">Soudal - Quick Step</td><td style = \"text-align: left;\">All Rounder</td><td style = \"text-align: left;\">68.7%</td><td style = \"text-align: right;\">402.0</td><td style = \"text-align: right;\">1105.0</td><td style = \"text-align: right;\">26</td></tr><tr><td class = \"rowNumber\" style = \"font-weight: bold; text-align: right;\">3</td><td style = \"text-align: left;\">João Almeida</td><td style = \"text-align: left;\">UAE Team Emirates</td><td style = \"text-align: left;\">All Rounder</td><td style = \"text-align: left;\">38.6%</td><td style = \"text-align: right;\">285.0</td><td style = \"text-align: right;\">720.0</td><td style = \"text-align: right;\">16</td></tr><tr><td class = \"rowNumber\" style = \"font-weight: bold; text-align: right;\">4</td><td style = \"text-align: left;\">Jay Vine</td><td style = \"text-align: left;\">UAE Team Emirates</td><td style = \"text-align: left;\">Climber</td><td style = \"text-align: left;\">21.8%</td><td style = \"text-align: right;\">185.0</td><td style = \"text-align: right;\">466.0</td><td style = \"text-align: right;\">12</td></tr><tr><td class = \"rowNumber\" style = \"font-weight: bold; text-align: right;\">5</td><td style = \"text-align: left;\">Stefan Küng</td><td style = \"text-align: left;\">Groupama - FDJ</td><td style = \"text-align: left;\">Unclassed</td><td style = \"text-align: left;\">19.2%</td><td style = \"text-align: right;\">174.0</td><td style = \"text-align: right;\">1100.7</td><td style = \"text-align: right;\">8</td></tr><tr><td class = \"rowNumber\" style = \"font-weight: bold; text-align: right;\">6</td><td style = \"text-align: left;\">Andreas Leknessund</td><td style = \"text-align: left;\">Team DSM</td><td style = \"text-align: left;\">Unclassed</td><td style = \"text-align: left;\">5.6%</td><td style = \"text-align: right;\">255.0</td><td style = \"text-align: right;\">519.0</td><td style = \"text-align: right;\">6</td></tr><tr><td class = \"rowNumber\" style = \"font-weight: bold; text-align: right;\">7</td><td style = \"text-align: left;\">Filippo Ganna</td><td style = \"text-align: left;\">INEOS Grenadiers</td><td style = \"text-align: left;\">Unclassed</td><td style = \"text-align: left;\">39.3%</td><td style = \"text-align: right;\">264.0</td><td style = \"text-align: right;\">1036.3</td><td style = \"text-align: right;\">10</td></tr><tr><td class = \"rowNumber\" style = \"font-weight: bold; text-align: right;\">8</td><td style = \"text-align: left;\">Vincenzo Albanese</td><td style = \"text-align: left;\">EOLO-Kometa</td><td style = \"text-align: left;\">Sprinter</td><td style = \"text-align: left;\">5.8%</td><td style = \"text-align: right;\">336.0</td><td style = \"text-align: right;\">164.0</td><td style = \"text-align: right;\">6</td></tr><tr><td class = \"rowNumber\" style = \"font-weight: bold; text-align: right;\">9</td><td style = \"text-align: left;\">Koen Bouwman</td><td style = \"text-align: left;\">Jumbo-Visma</td><td style = \"text-align: left;\">Climber</td><td style = \"text-align: left;\">3.0%</td><td style = \"text-align: right;\">146.0</td><td style = \"text-align: right;\">402.0</td><td style = \"text-align: right;\">8</td></tr></tbody></table></div>"
      ],
      "text/latex": [
       "\\begin{tabular}{r|ccccccc}\n",
       "\t& rider & team & class\\_raw & selected & points & calcpcsscore & \\\\\n",
       "\t\\hline\n",
       "\t& String & String & String & String & Float64 & Float64 & \\\\\n",
       "\t\\hline\n",
       "\t1 & Kaden Groves & Alpecin-Deceuninck & Sprinter & 21.4\\% & 342.0 & 391.0 & $\\dots$ \\\\\n",
       "\t2 & Remco Evenepoel & Soudal - Quick Step & All Rounder & 68.7\\% & 402.0 & 1105.0 & $\\dots$ \\\\\n",
       "\t3 & João Almeida & UAE Team Emirates & All Rounder & 38.6\\% & 285.0 & 720.0 & $\\dots$ \\\\\n",
       "\t4 & Jay Vine & UAE Team Emirates & Climber & 21.8\\% & 185.0 & 466.0 & $\\dots$ \\\\\n",
       "\t5 & Stefan Küng & Groupama - FDJ & Unclassed & 19.2\\% & 174.0 & 1100.7 & $\\dots$ \\\\\n",
       "\t6 & Andreas Leknessund & Team DSM & Unclassed & 5.6\\% & 255.0 & 519.0 & $\\dots$ \\\\\n",
       "\t7 & Filippo Ganna & INEOS Grenadiers & Unclassed & 39.3\\% & 264.0 & 1036.3 & $\\dots$ \\\\\n",
       "\t8 & Vincenzo Albanese & EOLO-Kometa & Sprinter & 5.8\\% & 336.0 & 164.0 & $\\dots$ \\\\\n",
       "\t9 & Koen Bouwman & Jumbo-Visma & Climber & 3.0\\% & 146.0 & 402.0 & $\\dots$ \\\\\n",
       "\\end{tabular}\n"
      ],
      "text/plain": [
       "\u001b[1m9×7 DataFrame\u001b[0m\n",
       "\u001b[1m Row \u001b[0m│\u001b[1m rider              \u001b[0m\u001b[1m team                \u001b[0m\u001b[1m class_raw   \u001b[0m\u001b[1m selected \u001b[0m\u001b[1m points \u001b[0m ⋯\n",
       "     │\u001b[90m String             \u001b[0m\u001b[90m String              \u001b[0m\u001b[90m String      \u001b[0m\u001b[90m String   \u001b[0m\u001b[90m Float64\u001b[0m ⋯\n",
       "─────┼──────────────────────────────────────────────────────────────────────────\n",
       "   1 │ Kaden Groves        Alpecin-Deceuninck   Sprinter     21.4%       342.0 ⋯\n",
       "   2 │ Remco Evenepoel     Soudal - Quick Step  All Rounder  68.7%       402.0\n",
       "   3 │ João Almeida        UAE Team Emirates    All Rounder  38.6%       285.0\n",
       "   4 │ Jay Vine            UAE Team Emirates    Climber      21.8%       185.0\n",
       "   5 │ Stefan Küng         Groupama - FDJ       Unclassed    19.2%       174.0 ⋯\n",
       "   6 │ Andreas Leknessund  Team DSM             Unclassed    5.6%        255.0\n",
       "   7 │ Filippo Ganna       INEOS Grenadiers     Unclassed    39.3%       264.0\n",
       "   8 │ Vincenzo Albanese   EOLO-Kometa          Sprinter     5.8%        336.0\n",
       "   9 │ Koen Bouwman        Jumbo-Visma          Climber      3.0%        146.0 ⋯\n",
       "\u001b[36m                                                               2 columns omitted\u001b[0m"
      ]
     },
     "execution_count": 5,
     "metadata": {},
     "output_type": "execute_result"
    }
   ],
   "source": [
    "# selected riders\n",
    "rider_df[!, :chosen] = model_results.data .|> !iszero\n",
    "chosen_team = filter(:chosen => ==(true), rider_df)\n",
    "chosen_team[:, [:rider, :team, :class_raw, :selected, :points, :calcpcsscore, :cost]]"
   ]
  }
 ],
 "metadata": {
  "kernelspec": {
   "display_name": "Julia 1.8.5",
   "language": "julia",
   "name": "julia-1.8"
  },
  "language_info": {
   "file_extension": ".jl",
   "mimetype": "application/julia",
   "name": "julia",
   "version": "1.8.5"
  },
  "orig_nbformat": 4
 },
 "nbformat": 4,
 "nbformat_minor": 2
}
