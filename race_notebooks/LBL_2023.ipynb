{
  "cells": [
    {
      "cell_type": "raw",
      "metadata": {},
      "source": [
        "---\n",
        "title: Velogames Liège-Bastogne-Liège 2023 solver\n",
        "date: 23/04/2023\n",
        "format:\n",
        "  html:\n",
        "    code-fold: true\n",
        "---"
      ]
    },
    {
      "attachments": {},
      "cell_type": "markdown",
      "metadata": {},
      "source": [
        "# Velogames solver: Liège-Bastogne-Liège 2023\n",
        "\n",
        "## Load libraries"
      ]
    },
    {
      "cell_type": "code",
      "execution_count": 72,
      "metadata": {},
      "outputs": [
        {
          "name": "stderr",
          "output_type": "stream",
          "text": [
            "WARNING: redefinition of constant PCS_RANKING_URLS. This may fail, cause incorrect answers, or produce other errors.\n"
          ]
        }
      ],
      "source": [
        "using Gadfly, Velogames"
      ]
    },
    {
      "attachments": {},
      "cell_type": "markdown",
      "metadata": {},
      "source": [
        "## Retrieve data\n",
        "\n",
        "Data is scraped from the [Velogames website](https://www.velogames.com/). Rider scores are the number of points they have accumulated in the current season.\n"
      ]
    },
    {
      "cell_type": "code",
      "execution_count": 51,
      "metadata": {},
      "outputs": [
        {
          "data": {
            "text/html": [
              "<div><div style = \"float: left;\"><span>100×5 DataFrame</span></div><div style = \"float: right;\"><span style = \"font-style: italic;\">75 rows omitted</span></div><div style = \"clear: both;\"></div></div><div class = \"data-frame\" style = \"overflow-x: scroll;\"><table class = \"data-frame\" style = \"margin-bottom: 6px;\"><thead><tr class = \"header\"><th class = \"rowNumber\" style = \"font-weight: bold; text-align: right;\">Row</th><th style = \"text-align: left;\">rank</th><th style = \"text-align: left;\">rider</th><th style = \"text-align: left;\">team</th><th style = \"text-align: left;\">points</th><th style = \"text-align: left;\">riderkey</th></tr><tr class = \"subheader headerLastRow\"><th class = \"rowNumber\" style = \"font-weight: bold; text-align: right;\"></th><th title = \"Int64\" style = \"text-align: left;\">Int64</th><th title = \"String\" style = \"text-align: left;\">String</th><th title = \"String\" style = \"text-align: left;\">String</th><th title = \"Int64\" style = \"text-align: left;\">Int64</th><th title = \"String\" style = \"text-align: left;\">String</th></tr></thead><tbody><tr><td class = \"rowNumber\" style = \"font-weight: bold; text-align: right;\">1</td><td style = \"text-align: right;\">1</td><td style = \"text-align: left;\">Pogačar Tadej</td><td style = \"text-align: left;\">UAE Team Emirates</td><td style = \"text-align: right;\">1788</td><td style = \"text-align: left;\">aaadegjoprt</td></tr><tr><td class = \"rowNumber\" style = \"font-weight: bold; text-align: right;\">2</td><td style = \"text-align: right;\">2</td><td style = \"text-align: left;\">van Aert Wout</td><td style = \"text-align: left;\">Jumbo-Visma</td><td style = \"text-align: right;\">1560</td><td style = \"text-align: left;\">aaenorttuvw</td></tr><tr><td class = \"rowNumber\" style = \"font-weight: bold; text-align: right;\">3</td><td style = \"text-align: right;\">3</td><td style = \"text-align: left;\">De Lie Arnaud</td><td style = \"text-align: left;\">Lotto Dstny</td><td style = \"text-align: right;\">1547</td><td style = \"text-align: left;\">aaddeeilnru</td></tr><tr><td class = \"rowNumber\" style = \"font-weight: bold; text-align: right;\">4</td><td style = \"text-align: right;\">4</td><td style = \"text-align: left;\">Philipsen Jasper</td><td style = \"text-align: left;\">Alpecin-Deceuninck</td><td style = \"text-align: right;\">1150</td><td style = \"text-align: left;\">aeehiijlnppprss</td></tr><tr><td class = \"rowNumber\" style = \"font-weight: bold; text-align: right;\">5</td><td style = \"text-align: right;\">5</td><td style = \"text-align: left;\">Laporte Christophe</td><td style = \"text-align: left;\">Jumbo-Visma</td><td style = \"text-align: right;\">1079</td><td style = \"text-align: left;\">aceehhiloopprrstt</td></tr><tr><td class = \"rowNumber\" style = \"font-weight: bold; text-align: right;\">6</td><td style = \"text-align: right;\">6</td><td style = \"text-align: left;\">van der Poel Mathieu</td><td style = \"text-align: left;\">Alpecin-Deceuninck</td><td style = \"text-align: right;\">1047</td><td style = \"text-align: left;\">aadeeehilmnoprtuv</td></tr><tr><td class = \"rowNumber\" style = \"font-weight: bold; text-align: right;\">7</td><td style = \"text-align: right;\">7</td><td style = \"text-align: left;\">Evenepoel Remco</td><td style = \"text-align: left;\">Soudal - Quick Step</td><td style = \"text-align: right;\">850</td><td style = \"text-align: left;\">ceeeeelmnooprv</td></tr><tr><td class = \"rowNumber\" style = \"font-weight: bold; text-align: right;\">8</td><td style = \"text-align: right;\">8</td><td style = \"text-align: left;\">Kristoff Alexander</td><td style = \"text-align: left;\">Uno-X Pro Cycling Team</td><td style = \"text-align: right;\">780</td><td style = \"text-align: left;\">aadeeffiklnorrstx</td></tr><tr><td class = \"rowNumber\" style = \"font-weight: bold; text-align: right;\">9</td><td style = \"text-align: right;\">9</td><td style = \"text-align: left;\">Pidcock Thomas</td><td style = \"text-align: left;\">INEOS Grenadiers</td><td style = \"text-align: right;\">675</td><td style = \"text-align: left;\">accdhikmoopst</td></tr><tr><td class = \"rowNumber\" style = \"font-weight: bold; text-align: right;\">10</td><td style = \"text-align: right;\">10</td><td style = \"text-align: left;\">Zingle Axel</td><td style = \"text-align: left;\">Cofidis</td><td style = \"text-align: right;\">655</td><td style = \"text-align: left;\">aeegillnxz</td></tr><tr><td class = \"rowNumber\" style = \"font-weight: bold; text-align: right;\">11</td><td style = \"text-align: right;\">11</td><td style = \"text-align: left;\">Démare Arnaud</td><td style = \"text-align: left;\">Groupama - FDJ</td><td style = \"text-align: right;\">622</td><td style = \"text-align: left;\">aaaddemnrru</td></tr><tr><td class = \"rowNumber\" style = \"font-weight: bold; text-align: right;\">12</td><td style = \"text-align: right;\">12</td><td style = \"text-align: left;\">Powless Neilson</td><td style = \"text-align: left;\">EF Education-EasyPost</td><td style = \"text-align: right;\">622</td><td style = \"text-align: left;\">eeillnnoopsssw</td></tr><tr><td class = \"rowNumber\" style = \"font-weight: bold; text-align: right;\">13</td><td style = \"text-align: right;\">13</td><td style = \"text-align: left;\">Pedersen Mads</td><td style = \"text-align: left;\">Trek - Segafredo</td><td style = \"text-align: right;\">592</td><td style = \"text-align: left;\">addeeemnprss</td></tr><tr><td style = \"text-align: right;\">&vellip;</td><td style = \"text-align: right;\">&vellip;</td><td style = \"text-align: right;\">&vellip;</td><td style = \"text-align: right;\">&vellip;</td><td style = \"text-align: right;\">&vellip;</td><td style = \"text-align: right;\">&vellip;</td></tr><tr><td class = \"rowNumber\" style = \"font-weight: bold; text-align: right;\">89</td><td style = \"text-align: right;\">89</td><td style = \"text-align: left;\">van Baarle Dylan</td><td style = \"text-align: left;\">Jumbo-Visma</td><td style = \"text-align: right;\">243</td><td style = \"text-align: left;\">aaaabdellnnrvy</td></tr><tr><td class = \"rowNumber\" style = \"font-weight: bold; text-align: right;\">90</td><td style = \"text-align: right;\">90</td><td style = \"text-align: left;\">Lampaert Yves</td><td style = \"text-align: left;\">Soudal - Quick Step</td><td style = \"text-align: right;\">243</td><td style = \"text-align: left;\">aaeelmprstvy</td></tr><tr><td class = \"rowNumber\" style = \"font-weight: bold; text-align: right;\">91</td><td style = \"text-align: right;\">91</td><td style = \"text-align: left;\">Alaphilippe Julian</td><td style = \"text-align: left;\">Soudal - Quick Step</td><td style = \"text-align: right;\">241</td><td style = \"text-align: left;\">aaaehiiijlllnpppu</td></tr><tr><td class = \"rowNumber\" style = \"font-weight: bold; text-align: right;\">92</td><td style = \"text-align: right;\">92</td><td style = \"text-align: left;\">Yates Adam</td><td style = \"text-align: left;\">UAE Team Emirates</td><td style = \"text-align: right;\">240</td><td style = \"text-align: left;\">aaademsty</td></tr><tr><td class = \"rowNumber\" style = \"font-weight: bold; text-align: right;\">93</td><td style = \"text-align: right;\">93</td><td style = \"text-align: left;\">Aranburu Alex</td><td style = \"text-align: left;\">Movistar Team</td><td style = \"text-align: right;\">240</td><td style = \"text-align: left;\">aaabelnrruux</td></tr><tr><td class = \"rowNumber\" style = \"font-weight: bold; text-align: right;\">94</td><td style = \"text-align: right;\">94</td><td style = \"text-align: left;\">Bettiol Alberto</td><td style = \"text-align: left;\">EF Education-EasyPost</td><td style = \"text-align: right;\">240</td><td style = \"text-align: left;\">abbeeilloorttt</td></tr><tr><td class = \"rowNumber\" style = \"font-weight: bold; text-align: right;\">95</td><td style = \"text-align: right;\">95</td><td style = \"text-align: left;\">Perez Anthony</td><td style = \"text-align: left;\">Cofidis</td><td style = \"text-align: right;\">238</td><td style = \"text-align: left;\">aeehnnoprtyz</td></tr><tr><td class = \"rowNumber\" style = \"font-weight: bold; text-align: right;\">96</td><td style = \"text-align: right;\">96</td><td style = \"text-align: left;\">van der Hoorn Taco</td><td style = \"text-align: left;\">Intermarché - Circus - Wanty</td><td style = \"text-align: right;\">234</td><td style = \"text-align: left;\">aacdehnnooorrtv</td></tr><tr><td class = \"rowNumber\" style = \"font-weight: bold; text-align: right;\">97</td><td style = \"text-align: right;\">97</td><td style = \"text-align: left;\">Lafay Victor</td><td style = \"text-align: left;\">Cofidis</td><td style = \"text-align: right;\">233</td><td style = \"text-align: left;\">aacfilortvy</td></tr><tr><td class = \"rowNumber\" style = \"font-weight: bold; text-align: right;\">98</td><td style = \"text-align: right;\">98</td><td style = \"text-align: left;\">Mayrhofer Marius</td><td style = \"text-align: left;\">Team DSM</td><td style = \"text-align: right;\">230</td><td style = \"text-align: left;\">aaefhimmorrrsuy</td></tr><tr><td class = \"rowNumber\" style = \"font-weight: bold; text-align: right;\">99</td><td style = \"text-align: right;\">99</td><td style = \"text-align: left;\">Goossens Kobe</td><td style = \"text-align: left;\">Intermarché - Circus - Wanty</td><td style = \"text-align: right;\">229</td><td style = \"text-align: left;\">beegknooosss</td></tr><tr><td class = \"rowNumber\" style = \"font-weight: bold; text-align: right;\">100</td><td style = \"text-align: right;\">100</td><td style = \"text-align: left;\">van Poppel Danny</td><td style = \"text-align: left;\">BORA - hansgrohe</td><td style = \"text-align: right;\">227</td><td style = \"text-align: left;\">aadelnnnopppvy</td></tr></tbody></table></div>"
            ],
            "text/latex": [
              "\\begin{tabular}{r|ccccc}\n",
              "\t& rank & rider & team & points & riderkey\\\\\n",
              "\t\\hline\n",
              "\t& Int64 & String & String & Int64 & String\\\\\n",
              "\t\\hline\n",
              "\t1 & 1 & Pogačar Tadej & UAE Team Emirates & 1788 & aaadegjoprt \\\\\n",
              "\t2 & 2 & van Aert Wout & Jumbo-Visma & 1560 & aaenorttuvw \\\\\n",
              "\t3 & 3 & De Lie Arnaud & Lotto Dstny & 1547 & aaddeeilnru \\\\\n",
              "\t4 & 4 & Philipsen Jasper & Alpecin-Deceuninck & 1150 & aeehiijlnppprss \\\\\n",
              "\t5 & 5 & Laporte Christophe & Jumbo-Visma & 1079 & aceehhiloopprrstt \\\\\n",
              "\t6 & 6 & van der Poel Mathieu & Alpecin-Deceuninck & 1047 & aadeeehilmnoprtuv \\\\\n",
              "\t7 & 7 & Evenepoel Remco & Soudal - Quick Step & 850 & ceeeeelmnooprv \\\\\n",
              "\t8 & 8 & Kristoff Alexander & Uno-X Pro Cycling Team & 780 & aadeeffiklnorrstx \\\\\n",
              "\t9 & 9 & Pidcock Thomas & INEOS Grenadiers & 675 & accdhikmoopst \\\\\n",
              "\t10 & 10 & Zingle Axel & Cofidis & 655 & aeegillnxz \\\\\n",
              "\t11 & 11 & Démare Arnaud & Groupama - FDJ & 622 & aaaddemnrru \\\\\n",
              "\t12 & 12 & Powless Neilson & EF Education-EasyPost & 622 & eeillnnoopsssw \\\\\n",
              "\t13 & 13 & Pedersen Mads & Trek - Segafredo & 592 & addeeemnprss \\\\\n",
              "\t14 & 14 & Benoot Tiesj & Jumbo-Visma & 576 & beeijnoostt \\\\\n",
              "\t15 & 15 & Thijssen Gerben & Intermarché - Circus - Wanty & 568 & beeeghijnnrsst \\\\\n",
              "\t16 & 16 & Mozzato Luca & Team Arkéa Samsic & 555 & aaclmootuzz \\\\\n",
              "\t17 & 17 & Martin Guillaume & Cofidis & 550 & aaegiillmmnrtuu \\\\\n",
              "\t18 & 18 & Skjelmose Mattias & Trek - Segafredo & 546 & aaeeijklmmossstt \\\\\n",
              "\t19 & 19 & Groenewegen Dylan & Team Jayco AlUla & 544 & adeeeegglnnnorwy \\\\\n",
              "\t20 & 20 & Madouas Valentin & Groupama - FDJ & 543 & aaadeilmnnostuv \\\\\n",
              "\t21 & 21 & Matthews Michael & Team Jayco AlUla & 539 & aaceehhilmmsttw \\\\\n",
              "\t22 & 22 & Healy Ben & EF Education-EasyPost & 532 & abeehlny \\\\\n",
              "\t23 & 23 & García Cortina Iván & Movistar Team & 515 & aaaccgiinnorrtv \\\\\n",
              "\t24 & 24 & Hirschi Marc & UAE Team Emirates & 512 & acchhiimrrs \\\\\n",
              "\t25 & 25 & Trentin Matteo & UAE Team Emirates & 510 & aeeimnnortttt \\\\\n",
              "\t26 & 26 & Cosnefroy Benoît & AG2R Citroën Team & 504 & bceefnnooorsty \\\\\n",
              "\t27 & 27 & Rota Lorenzo & Intermarché - Circus - Wanty & 501 & aelnooorrtz \\\\\n",
              "\t28 & 28 & Vanmarcke Sep & Israel - Premier Tech & 475 & aaceekmnprsv \\\\\n",
              "\t29 & 29 & Menten Milan & Lotto Dstny & 457 & aeeilmmnnnt \\\\\n",
              "\t30 & 30 & Hofstetter Hugo & Team Arkéa Samsic & 441 & eefghhoorstttu \\\\\n",
              "\t$\\dots$ & $\\dots$ & $\\dots$ & $\\dots$ & $\\dots$ & $\\dots$ \\\\\n",
              "\\end{tabular}\n"
            ],
            "text/plain": [
              "\u001b[1m100×5 DataFrame\u001b[0m\n",
              "\u001b[1m Row \u001b[0m│\u001b[1m rank  \u001b[0m\u001b[1m rider                \u001b[0m\u001b[1m team                         \u001b[0m\u001b[1m points \u001b[0m\u001b[1m ride\u001b[0m ⋯\n",
              "     │\u001b[90m Int64 \u001b[0m\u001b[90m String               \u001b[0m\u001b[90m String                       \u001b[0m\u001b[90m Int64  \u001b[0m\u001b[90m Stri\u001b[0m ⋯\n",
              "─────┼──────────────────────────────────────────────────────────────────────────\n",
              "   1 │     1  Pogačar Tadej         UAE Team Emirates               1788  aaad ⋯\n",
              "   2 │     2  van Aert Wout         Jumbo-Visma                     1560  aaen\n",
              "   3 │     3  De Lie Arnaud         Lotto Dstny                     1547  aadd\n",
              "   4 │     4  Philipsen Jasper      Alpecin-Deceuninck              1150  aeeh\n",
              "   5 │     5  Laporte Christophe    Jumbo-Visma                     1079  acee ⋯\n",
              "   6 │     6  van der Poel Mathieu  Alpecin-Deceuninck              1047  aade\n",
              "   7 │     7  Evenepoel Remco       Soudal - Quick Step              850  ceee\n",
              "   8 │     8  Kristoff Alexander    Uno-X Pro Cycling Team           780  aade\n",
              "   9 │     9  Pidcock Thomas        INEOS Grenadiers                 675  accd ⋯\n",
              "  10 │    10  Zingle Axel           Cofidis                          655  aeeg\n",
              "  11 │    11  Démare Arnaud         Groupama - FDJ                   622  aaad\n",
              "  ⋮  │   ⋮             ⋮                         ⋮                  ⋮          ⋱\n",
              "  91 │    91  Alaphilippe Julian    Soudal - Quick Step              241  aaae\n",
              "  92 │    92  Yates Adam            UAE Team Emirates                240  aaad ⋯\n",
              "  93 │    93  Aranburu Alex         Movistar Team                    240  aaab\n",
              "  94 │    94  Bettiol Alberto       EF Education-EasyPost            240  abbe\n",
              "  95 │    95  Perez Anthony         Cofidis                          238  aeeh\n",
              "  96 │    96  van der Hoorn Taco    Intermarché - Circus - Wanty     234  aacd ⋯\n",
              "  97 │    97  Lafay Victor          Cofidis                          233  aacf\n",
              "  98 │    98  Mayrhofer Marius      Team DSM                         230  aaef\n",
              "  99 │    99  Goossens Kobe         Intermarché - Circus - Wanty     229  beeg\n",
              " 100 │   100  van Poppel Danny      BORA - hansgrohe                 227  aade ⋯\n",
              "\u001b[36m                                                    1 column and 79 rows omitted\u001b[0m"
            ]
          },
          "execution_count": 51,
          "metadata": {},
          "output_type": "execute_result"
        }
      ],
      "source": [
        "rider_vg = getvgriders(\"https://www.velogames.com/spring-classics/2023/riders.php\")\n",
        "\n",
        "# keep only riders in the startlist for LBL.\n",
        "rider_vg = rider_vg[rider_vg.startlist.==\"#LiegeBastogneLiege\", :]\n",
        "\n",
        "rider_oneday = getpcsranking(:oneday)"
      ]
    },
    {
      "attachments": {},
      "cell_type": "markdown",
      "metadata": {},
      "source": [
        "Combine datasets and calculate rider value.\n"
      ]
    },
    {
      "cell_type": "code",
      "execution_count": 66,
      "metadata": {},
      "outputs": [
        {
          "data": {
            "text/html": [
              "<div><div style = \"float: left;\"><span>172×12 DataFrame</span></div><div style = \"float: right;\"><span style = \"font-style: italic;\">147 rows omitted</span></div><div style = \"clear: both;\"></div></div><div class = \"data-frame\" style = \"overflow-x: scroll;\"><table class = \"data-frame\" style = \"margin-bottom: 6px;\"><thead><tr class = \"header\"><th class = \"rowNumber\" style = \"font-weight: bold; text-align: right;\">Row</th><th style = \"text-align: left;\"></th><th style = \"text-align: left;\">rider</th><th style = \"text-align: left;\">team</th><th style = \"text-align: left;\">startlist</th><th style = \"text-align: left;\">vgpoints</th><th style = \"text-align: left;\">vgcost</th><th style = \"text-align: left;\">riderkey</th><th style = \"text-align: left;\">value</th><th style = \"text-align: left;\">pcsrank</th><th style = \"text-align: left;\">pcspoints</th><th style = \"text-align: left;\">calc_score</th><th style = \"text-align: left;\">calc_value</th></tr><tr class = \"subheader headerLastRow\"><th class = \"rowNumber\" style = \"font-weight: bold; text-align: right;\"></th><th title = \"String\" style = \"text-align: left;\">String</th><th title = \"String\" style = \"text-align: left;\">String</th><th title = \"String\" style = \"text-align: left;\">String</th><th title = \"String\" style = \"text-align: left;\">String</th><th title = \"Int64\" style = \"text-align: left;\">Int64</th><th title = \"Int64\" style = \"text-align: left;\">Int64</th><th title = \"String\" style = \"text-align: left;\">String</th><th title = \"Float64\" style = \"text-align: left;\">Float64</th><th title = \"Union{Missing, Int64}\" style = \"text-align: left;\">Int64?</th><th title = \"Union{Missing, Int64}\" style = \"text-align: left;\">Int64?</th><th title = \"Float64\" style = \"text-align: left;\">Float64</th><th title = \"Float64\" style = \"text-align: left;\">Float64</th></tr></thead><tbody><tr><td class = \"rowNumber\" style = \"font-weight: bold; text-align: right;\">1</td><td style = \"text-align: left;\"></td><td style = \"text-align: left;\">Tadej Pogačar</td><td style = \"text-align: left;\">UAE Team Emirates</td><td style = \"text-align: left;\">#LiegeBastogneLiege</td><td style = \"text-align: right;\">1858</td><td style = \"text-align: right;\">20</td><td style = \"text-align: left;\">aaadegjoprt</td><td style = \"text-align: right;\">92.9</td><td style = \"text-align: right;\">1</td><td style = \"text-align: right;\">1788</td><td style = \"text-align: right;\">1823.0</td><td style = \"text-align: right;\">91.15</td></tr><tr><td class = \"rowNumber\" style = \"font-weight: bold; text-align: right;\">2</td><td style = \"text-align: left;\"></td><td style = \"text-align: left;\">Remco Evenepoel</td><td style = \"text-align: left;\">Soudal - Quick Step</td><td style = \"text-align: left;\">#LiegeBastogneLiege</td><td style = \"text-align: right;\">520</td><td style = \"text-align: right;\">16</td><td style = \"text-align: left;\">ceeeeelmnooprv</td><td style = \"text-align: right;\">32.5</td><td style = \"text-align: right;\">7</td><td style = \"text-align: right;\">850</td><td style = \"text-align: right;\">685.0</td><td style = \"text-align: right;\">42.8125</td></tr><tr><td class = \"rowNumber\" style = \"font-weight: bold; text-align: right;\">3</td><td style = \"text-align: left;\"></td><td style = \"text-align: left;\">Julian Alaphilippe</td><td style = \"text-align: left;\">Soudal - Quick Step</td><td style = \"text-align: left;\">#LiegeBastogneLiege</td><td style = \"text-align: right;\">210</td><td style = \"text-align: right;\">14</td><td style = \"text-align: left;\">aaaehiiijlllnpppu</td><td style = \"text-align: right;\">15.0</td><td style = \"text-align: right;\">91</td><td style = \"text-align: right;\">241</td><td style = \"text-align: right;\">225.5</td><td style = \"text-align: right;\">16.1071</td></tr><tr><td class = \"rowNumber\" style = \"font-weight: bold; text-align: right;\">4</td><td style = \"text-align: left;\"></td><td style = \"text-align: left;\">Thomas Pidcock</td><td style = \"text-align: left;\">INEOS Grenadiers</td><td style = \"text-align: left;\">#LiegeBastogneLiege</td><td style = \"text-align: right;\">875</td><td style = \"text-align: right;\">14</td><td style = \"text-align: left;\">accdhikmoopst</td><td style = \"text-align: right;\">62.5</td><td style = \"text-align: right;\">9</td><td style = \"text-align: right;\">675</td><td style = \"text-align: right;\">775.0</td><td style = \"text-align: right;\">55.3571</td></tr><tr><td class = \"rowNumber\" style = \"font-weight: bold; text-align: right;\">5</td><td style = \"text-align: left;\"></td><td style = \"text-align: left;\">Matej Mohorič</td><td style = \"text-align: left;\">Bahrain - Victorious</td><td style = \"text-align: left;\">#LiegeBastogneLiege</td><td style = \"text-align: right;\">440</td><td style = \"text-align: right;\">14</td><td style = \"text-align: left;\">aehijmmoort</td><td style = \"text-align: right;\">31.4286</td><td style = \"text-align: right;\">40</td><td style = \"text-align: right;\">407</td><td style = \"text-align: right;\">423.5</td><td style = \"text-align: right;\">30.25</td></tr><tr><td class = \"rowNumber\" style = \"font-weight: bold; text-align: right;\">6</td><td style = \"text-align: left;\"></td><td style = \"text-align: left;\">Valentin Madouas</td><td style = \"text-align: left;\">Groupama - FDJ</td><td style = \"text-align: left;\">#LiegeBastogneLiege</td><td style = \"text-align: right;\">560</td><td style = \"text-align: right;\">12</td><td style = \"text-align: left;\">aaadeilmnnostuv</td><td style = \"text-align: right;\">46.6667</td><td style = \"text-align: right;\">20</td><td style = \"text-align: right;\">543</td><td style = \"text-align: right;\">551.5</td><td style = \"text-align: right;\">45.9583</td></tr><tr><td class = \"rowNumber\" style = \"font-weight: bold; text-align: right;\">7</td><td style = \"text-align: left;\"></td><td style = \"text-align: left;\">Tiesj Benoot</td><td style = \"text-align: left;\">Jumbo-Visma</td><td style = \"text-align: left;\">#LiegeBastogneLiege</td><td style = \"text-align: right;\">657</td><td style = \"text-align: right;\">12</td><td style = \"text-align: left;\">beeijnoostt</td><td style = \"text-align: right;\">54.75</td><td style = \"text-align: right;\">14</td><td style = \"text-align: right;\">576</td><td style = \"text-align: right;\">616.5</td><td style = \"text-align: right;\">51.375</td></tr><tr><td class = \"rowNumber\" style = \"font-weight: bold; text-align: right;\">8</td><td style = \"text-align: left;\"></td><td style = \"text-align: left;\">David Gaudu</td><td style = \"text-align: left;\">Groupama - FDJ</td><td style = \"text-align: left;\">#LiegeBastogneLiege</td><td style = \"text-align: right;\">0</td><td style = \"text-align: right;\">10</td><td style = \"text-align: left;\">aadddgiuuv</td><td style = \"text-align: right;\">0.0</td><td style = \"text-align: right;\">78</td><td style = \"text-align: right;\">265</td><td style = \"text-align: right;\">132.5</td><td style = \"text-align: right;\">13.25</td></tr><tr><td class = \"rowNumber\" style = \"font-weight: bold; text-align: right;\">9</td><td style = \"text-align: left;\"></td><td style = \"text-align: left;\">Sergio Higuita</td><td style = \"text-align: left;\">BORA - hansgrohe</td><td style = \"text-align: left;\">#LiegeBastogneLiege</td><td style = \"text-align: right;\">0</td><td style = \"text-align: right;\">10</td><td style = \"text-align: left;\">aegghiiiorstu</td><td style = \"text-align: right;\">0.0</td><td style = \"text-align: right;\">60</td><td style = \"text-align: right;\">321</td><td style = \"text-align: right;\">160.5</td><td style = \"text-align: right;\">16.05</td></tr><tr><td class = \"rowNumber\" style = \"font-weight: bold; text-align: right;\">10</td><td style = \"text-align: left;\"></td><td style = \"text-align: left;\">Marc Hirschi</td><td style = \"text-align: left;\">UAE Team Emirates</td><td style = \"text-align: left;\">#LiegeBastogneLiege</td><td style = \"text-align: right;\">306</td><td style = \"text-align: right;\">10</td><td style = \"text-align: left;\">acchhiimrrs</td><td style = \"text-align: right;\">30.6</td><td style = \"text-align: right;\">24</td><td style = \"text-align: right;\">512</td><td style = \"text-align: right;\">409.0</td><td style = \"text-align: right;\">40.9</td></tr><tr><td class = \"rowNumber\" style = \"font-weight: bold; text-align: right;\">11</td><td style = \"text-align: left;\"></td><td style = \"text-align: left;\">Warren Barguil</td><td style = \"text-align: left;\">Team Arkéa Samsic</td><td style = \"text-align: left;\">#LiegeBastogneLiege</td><td style = \"text-align: right;\">180</td><td style = \"text-align: right;\">10</td><td style = \"text-align: left;\">aabegilnrrruw</td><td style = \"text-align: right;\">18.0</td><td style = \"text-align: right;\">63</td><td style = \"text-align: right;\">309</td><td style = \"text-align: right;\">244.5</td><td style = \"text-align: right;\">24.45</td></tr><tr><td class = \"rowNumber\" style = \"font-weight: bold; text-align: right;\">12</td><td style = \"text-align: left;\"></td><td style = \"text-align: left;\">Benoît Cosnefroy</td><td style = \"text-align: left;\">AG2R Citroën Team</td><td style = \"text-align: left;\">#LiegeBastogneLiege</td><td style = \"text-align: right;\">500</td><td style = \"text-align: right;\">10</td><td style = \"text-align: left;\">bceefnnooorsty</td><td style = \"text-align: right;\">50.0</td><td style = \"text-align: right;\">26</td><td style = \"text-align: right;\">504</td><td style = \"text-align: right;\">502.0</td><td style = \"text-align: right;\">50.2</td></tr><tr><td class = \"rowNumber\" style = \"font-weight: bold; text-align: right;\">13</td><td style = \"text-align: left;\"></td><td style = \"text-align: left;\">Søren Kragh Andersen</td><td style = \"text-align: left;\">Alpecin-Deceuninck</td><td style = \"text-align: left;\">#LiegeBastogneLiege</td><td style = \"text-align: right;\">664</td><td style = \"text-align: right;\">10</td><td style = \"text-align: left;\">aadeeeghknnnrrrss</td><td style = \"text-align: right;\">66.4</td><td style = \"text-align: right;\">37</td><td style = \"text-align: right;\">415</td><td style = \"text-align: right;\">539.5</td><td style = \"text-align: right;\">53.95</td></tr><tr><td style = \"text-align: right;\">&vellip;</td><td style = \"text-align: right;\">&vellip;</td><td style = \"text-align: right;\">&vellip;</td><td style = \"text-align: right;\">&vellip;</td><td style = \"text-align: right;\">&vellip;</td><td style = \"text-align: right;\">&vellip;</td><td style = \"text-align: right;\">&vellip;</td><td style = \"text-align: right;\">&vellip;</td><td style = \"text-align: right;\">&vellip;</td><td style = \"text-align: right;\">&vellip;</td><td style = \"text-align: right;\">&vellip;</td><td style = \"text-align: right;\">&vellip;</td><td style = \"text-align: right;\">&vellip;</td></tr><tr><td class = \"rowNumber\" style = \"font-weight: bold; text-align: right;\">161</td><td style = \"text-align: left;\"></td><td style = \"text-align: left;\">Francisco Galván</td><td style = \"text-align: left;\">Equipo Kern Pharma</td><td style = \"text-align: left;\">#LiegeBastogneLiege</td><td style = \"text-align: right;\">0</td><td style = \"text-align: right;\">4</td><td style = \"text-align: left;\">aaccfgilnnorsv</td><td style = \"text-align: right;\">0.0</td><td style = \"text-align: right;\">0</td><td style = \"text-align: right;\">0</td><td style = \"text-align: right;\">0.0</td><td style = \"text-align: right;\">0.0</td></tr><tr><td class = \"rowNumber\" style = \"font-weight: bold; text-align: right;\">162</td><td style = \"text-align: left;\"></td><td style = \"text-align: left;\">Raúl García Pierna</td><td style = \"text-align: left;\">Equipo Kern Pharma</td><td style = \"text-align: left;\">#LiegeBastogneLiege</td><td style = \"text-align: right;\">36</td><td style = \"text-align: right;\">4</td><td style = \"text-align: left;\">aaaacegilnprrr</td><td style = \"text-align: right;\">9.0</td><td style = \"text-align: right;\">0</td><td style = \"text-align: right;\">0</td><td style = \"text-align: right;\">18.0</td><td style = \"text-align: right;\">4.5</td></tr><tr><td class = \"rowNumber\" style = \"font-weight: bold; text-align: right;\">163</td><td style = \"text-align: left;\"></td><td style = \"text-align: left;\">Pau Miquel</td><td style = \"text-align: left;\">Equipo Kern Pharma</td><td style = \"text-align: left;\">#LiegeBastogneLiege</td><td style = \"text-align: right;\">0</td><td style = \"text-align: right;\">4</td><td style = \"text-align: left;\">aeilmpquu</td><td style = \"text-align: right;\">0.0</td><td style = \"text-align: right;\">0</td><td style = \"text-align: right;\">0</td><td style = \"text-align: right;\">0.0</td><td style = \"text-align: right;\">0.0</td></tr><tr><td class = \"rowNumber\" style = \"font-weight: bold; text-align: right;\">164</td><td style = \"text-align: left;\"></td><td style = \"text-align: left;\">Yukiya Arashiro</td><td style = \"text-align: left;\">Bahrain - Victorious</td><td style = \"text-align: left;\">#LiegeBastogneLiege</td><td style = \"text-align: right;\">20</td><td style = \"text-align: right;\">4</td><td style = \"text-align: left;\">aaahiikorrsuyy</td><td style = \"text-align: right;\">5.0</td><td style = \"text-align: right;\">0</td><td style = \"text-align: right;\">0</td><td style = \"text-align: right;\">10.0</td><td style = \"text-align: right;\">2.5</td></tr><tr><td class = \"rowNumber\" style = \"font-weight: bold; text-align: right;\">165</td><td style = \"text-align: left;\"></td><td style = \"text-align: left;\">Liam Slock</td><td style = \"text-align: left;\">Lotto Dstny</td><td style = \"text-align: left;\">#LiegeBastogneLiege</td><td style = \"text-align: right;\">0</td><td style = \"text-align: right;\">4</td><td style = \"text-align: left;\">acikllmos</td><td style = \"text-align: right;\">0.0</td><td style = \"text-align: right;\">0</td><td style = \"text-align: right;\">0</td><td style = \"text-align: right;\">0.0</td><td style = \"text-align: right;\">0.0</td></tr><tr><td class = \"rowNumber\" style = \"font-weight: bold; text-align: right;\">166</td><td style = \"text-align: left;\"></td><td style = \"text-align: left;\">Ibon Ruiz</td><td style = \"text-align: left;\">Equipo Kern Pharma</td><td style = \"text-align: left;\">#LiegeBastogneLiege</td><td style = \"text-align: right;\">0</td><td style = \"text-align: right;\">4</td><td style = \"text-align: left;\">biinoruz</td><td style = \"text-align: right;\">0.0</td><td style = \"text-align: right;\">0</td><td style = \"text-align: right;\">0</td><td style = \"text-align: right;\">0.0</td><td style = \"text-align: right;\">0.0</td></tr><tr><td class = \"rowNumber\" style = \"font-weight: bold; text-align: right;\">167</td><td style = \"text-align: left;\"></td><td style = \"text-align: left;\">Harry Sweeny</td><td style = \"text-align: left;\">Lotto Dstny</td><td style = \"text-align: left;\">#LiegeBastogneLiege</td><td style = \"text-align: right;\">0</td><td style = \"text-align: right;\">4</td><td style = \"text-align: left;\">aeehnrrswyy</td><td style = \"text-align: right;\">0.0</td><td style = \"text-align: right;\">0</td><td style = \"text-align: right;\">0</td><td style = \"text-align: right;\">0.0</td><td style = \"text-align: right;\">0.0</td></tr><tr><td class = \"rowNumber\" style = \"font-weight: bold; text-align: right;\">168</td><td style = \"text-align: left;\"></td><td style = \"text-align: left;\">Danny Van Der Tuuk</td><td style = \"text-align: left;\">Equipo Kern Pharma</td><td style = \"text-align: left;\">#LiegeBastogneLiege</td><td style = \"text-align: right;\">0</td><td style = \"text-align: right;\">4</td><td style = \"text-align: left;\">aaddeknnnrtuuvy</td><td style = \"text-align: right;\">0.0</td><td style = \"text-align: right;\">0</td><td style = \"text-align: right;\">0</td><td style = \"text-align: right;\">0.0</td><td style = \"text-align: right;\">0.0</td></tr><tr><td class = \"rowNumber\" style = \"font-weight: bold; text-align: right;\">169</td><td style = \"text-align: left;\"></td><td style = \"text-align: left;\">Jorge Arcas</td><td style = \"text-align: left;\">Movistar Team</td><td style = \"text-align: left;\">#LiegeBastogneLiege</td><td style = \"text-align: right;\">0</td><td style = \"text-align: right;\">4</td><td style = \"text-align: left;\">aacegjorrs</td><td style = \"text-align: right;\">0.0</td><td style = \"text-align: right;\">0</td><td style = \"text-align: right;\">0</td><td style = \"text-align: right;\">0.0</td><td style = \"text-align: right;\">0.0</td></tr><tr><td class = \"rowNumber\" style = \"font-weight: bold; text-align: right;\">170</td><td style = \"text-align: left;\"></td><td style = \"text-align: left;\">Fabien Grellier</td><td style = \"text-align: left;\">TotalEnergies</td><td style = \"text-align: left;\">#LiegeBastogneLiege</td><td style = \"text-align: right;\">0</td><td style = \"text-align: right;\">4</td><td style = \"text-align: left;\">abeeefgiillnrr</td><td style = \"text-align: right;\">0.0</td><td style = \"text-align: right;\">0</td><td style = \"text-align: right;\">0</td><td style = \"text-align: right;\">0.0</td><td style = \"text-align: right;\">0.0</td></tr><tr><td class = \"rowNumber\" style = \"font-weight: bold; text-align: right;\">171</td><td style = \"text-align: left;\"></td><td style = \"text-align: left;\">Alan Jousseaume</td><td style = \"text-align: left;\">TotalEnergies</td><td style = \"text-align: left;\">#LiegeBastogneLiege</td><td style = \"text-align: right;\">0</td><td style = \"text-align: right;\">4</td><td style = \"text-align: left;\">aaaeejlmnossuu</td><td style = \"text-align: right;\">0.0</td><td style = \"text-align: right;\">0</td><td style = \"text-align: right;\">0</td><td style = \"text-align: right;\">0.0</td><td style = \"text-align: right;\">0.0</td></tr><tr><td class = \"rowNumber\" style = \"font-weight: bold; text-align: right;\">172</td><td style = \"text-align: left;\"></td><td style = \"text-align: left;\">Fran Miholjević</td><td style = \"text-align: left;\">Bahrain - Victorious</td><td style = \"text-align: left;\">#LiegeBastogneLiege</td><td style = \"text-align: right;\">32</td><td style = \"text-align: right;\">4</td><td style = \"text-align: left;\">aefhiijlmnorv</td><td style = \"text-align: right;\">8.0</td><td style = \"text-align: right;\">0</td><td style = \"text-align: right;\">0</td><td style = \"text-align: right;\">16.0</td><td style = \"text-align: right;\">4.0</td></tr></tbody></table></div>"
            ],
            "text/latex": [
              "\\begin{tabular}{r|ccccc}\n",
              "\t&  & rider & team & startlist & \\\\\n",
              "\t\\hline\n",
              "\t& String & String & String & String & \\\\\n",
              "\t\\hline\n",
              "\t1 &  & Tadej Pogačar & UAE Team Emirates & \\#LiegeBastogneLiege & $\\dots$ \\\\\n",
              "\t2 &  & Remco Evenepoel & Soudal - Quick Step & \\#LiegeBastogneLiege & $\\dots$ \\\\\n",
              "\t3 &  & Julian Alaphilippe & Soudal - Quick Step & \\#LiegeBastogneLiege & $\\dots$ \\\\\n",
              "\t4 &  & Thomas Pidcock & INEOS Grenadiers & \\#LiegeBastogneLiege & $\\dots$ \\\\\n",
              "\t5 &  & Matej Mohorič & Bahrain - Victorious & \\#LiegeBastogneLiege & $\\dots$ \\\\\n",
              "\t6 &  & Valentin Madouas & Groupama - FDJ & \\#LiegeBastogneLiege & $\\dots$ \\\\\n",
              "\t7 &  & Tiesj Benoot & Jumbo-Visma & \\#LiegeBastogneLiege & $\\dots$ \\\\\n",
              "\t8 &  & David Gaudu & Groupama - FDJ & \\#LiegeBastogneLiege & $\\dots$ \\\\\n",
              "\t9 &  & Sergio Higuita & BORA - hansgrohe & \\#LiegeBastogneLiege & $\\dots$ \\\\\n",
              "\t10 &  & Marc Hirschi & UAE Team Emirates & \\#LiegeBastogneLiege & $\\dots$ \\\\\n",
              "\t11 &  & Warren Barguil & Team Arkéa Samsic & \\#LiegeBastogneLiege & $\\dots$ \\\\\n",
              "\t12 &  & Benoît Cosnefroy & AG2R Citroën Team & \\#LiegeBastogneLiege & $\\dots$ \\\\\n",
              "\t13 &  & Søren Kragh Andersen & Alpecin-Deceuninck & \\#LiegeBastogneLiege & $\\dots$ \\\\\n",
              "\t14 &  & Alex Aranburu & Movistar Team & \\#LiegeBastogneLiege & $\\dots$ \\\\\n",
              "\t15 &  & Bauke Mollema & Trek - Segafredo & \\#LiegeBastogneLiege & $\\dots$ \\\\\n",
              "\t16 &  & Mattias Skjelmose & Trek - Segafredo & \\#LiegeBastogneLiege & $\\dots$ \\\\\n",
              "\t17 &  & Rui Costa & Intermarché - Circus - Wanty & \\#LiegeBastogneLiege & $\\dots$ \\\\\n",
              "\t18 &  & Guillaume Martin & Cofidis & \\#LiegeBastogneLiege & $\\dots$ \\\\\n",
              "\t19 &  & Romain Bardet & Team DSM & \\#LiegeBastogneLiege & $\\dots$ \\\\\n",
              "\t20 &  & Neilson Powless & EF Education-EasyPost & \\#LiegeBastogneLiege & $\\dots$ \\\\\n",
              "\t21 &  & Mikel Landa & Bahrain - Victorious & \\#LiegeBastogneLiege & $\\dots$ \\\\\n",
              "\t22 &  & Enric Mas & Movistar Team & \\#LiegeBastogneLiege & $\\dots$ \\\\\n",
              "\t23 &  & Andrea Bagioli & Soudal - Quick Step & \\#LiegeBastogneLiege & $\\dots$ \\\\\n",
              "\t24 &  & Patrick Konrad & BORA - hansgrohe & \\#LiegeBastogneLiege & $\\dots$ \\\\\n",
              "\t25 &  & Jesús Herrada & Cofidis & \\#LiegeBastogneLiege & $\\dots$ \\\\\n",
              "\t26 &  & Victor Lafay & Cofidis & \\#LiegeBastogneLiege & $\\dots$ \\\\\n",
              "\t27 &  & Lorenzo Rota & Intermarché - Circus - Wanty & \\#LiegeBastogneLiege & $\\dots$ \\\\\n",
              "\t28 &  & Georg Zimmermann & Intermarché - Circus - Wanty & \\#LiegeBastogneLiege & $\\dots$ \\\\\n",
              "\t29 &  & Simon Clarke & Israel - Premier Tech & \\#LiegeBastogneLiege & $\\dots$ \\\\\n",
              "\t30 &  & Mikkel Frølich Honoré & EF Education-EasyPost & \\#LiegeBastogneLiege & $\\dots$ \\\\\n",
              "\t$\\dots$ & $\\dots$ & $\\dots$ & $\\dots$ & $\\dots$ &  \\\\\n",
              "\\end{tabular}\n"
            ],
            "text/plain": [
              "\u001b[1m172×12 DataFrame\u001b[0m\n",
              "\u001b[1m Row \u001b[0m│\u001b[1m        \u001b[0m\u001b[1m rider                \u001b[0m\u001b[1m team                  \u001b[0m\u001b[1m startlist         \u001b[0m ⋯\n",
              "     │\u001b[90m String \u001b[0m\u001b[90m String               \u001b[0m\u001b[90m String                \u001b[0m\u001b[90m String            \u001b[0m ⋯\n",
              "─────┼──────────────────────────────────────────────────────────────────────────\n",
              "   1 │         Tadej Pogačar         UAE Team Emirates      #LiegeBastogneLieg ⋯\n",
              "   2 │         Remco Evenepoel       Soudal - Quick Step    #LiegeBastogneLieg\n",
              "   3 │         Julian Alaphilippe    Soudal - Quick Step    #LiegeBastogneLieg\n",
              "   4 │         Thomas Pidcock        INEOS Grenadiers       #LiegeBastogneLieg\n",
              "   5 │         Matej Mohorič         Bahrain - Victorious   #LiegeBastogneLieg ⋯\n",
              "   6 │         Valentin Madouas      Groupama - FDJ         #LiegeBastogneLieg\n",
              "   7 │         Tiesj Benoot          Jumbo-Visma            #LiegeBastogneLieg\n",
              "   8 │         David Gaudu           Groupama - FDJ         #LiegeBastogneLieg\n",
              "   9 │         Sergio Higuita        BORA - hansgrohe       #LiegeBastogneLieg ⋯\n",
              "  10 │         Marc Hirschi          UAE Team Emirates      #LiegeBastogneLieg\n",
              "  11 │         Warren Barguil        Team Arkéa Samsic      #LiegeBastogneLieg\n",
              "  ⋮  │   ⋮              ⋮                      ⋮                     ⋮         ⋱\n",
              " 163 │         Pau Miquel            Equipo Kern Pharma     #LiegeBastogneLieg\n",
              " 164 │         Yukiya Arashiro       Bahrain - Victorious   #LiegeBastogneLieg ⋯\n",
              " 165 │         Liam Slock            Lotto Dstny            #LiegeBastogneLieg\n",
              " 166 │         Ibon Ruiz             Equipo Kern Pharma     #LiegeBastogneLieg\n",
              " 167 │         Harry Sweeny          Lotto Dstny            #LiegeBastogneLieg\n",
              " 168 │         Danny Van Der Tuuk    Equipo Kern Pharma     #LiegeBastogneLieg ⋯\n",
              " 169 │         Jorge Arcas           Movistar Team          #LiegeBastogneLieg\n",
              " 170 │         Fabien Grellier       TotalEnergies          #LiegeBastogneLieg\n",
              " 171 │         Alan Jousseaume       TotalEnergies          #LiegeBastogneLieg\n",
              " 172 │         Fran Miholjević       Bahrain - Victorious   #LiegeBastogneLieg ⋯\n",
              "\u001b[36m                                                  9 columns and 151 rows omitted\u001b[0m"
            ]
          },
          "execution_count": 66,
          "metadata": {},
          "output_type": "execute_result"
        }
      ],
      "source": [
        "rider_df = leftjoin(rider_vg, rider_oneday, on=:riderkey, makeunique=true)\n",
        "\n",
        "# rename points to vgpoints\n",
        "rename!(\n",
        "    rider_df,\n",
        "    :points => :vgpoints,\n",
        "    :cost => :vgcost,\n",
        "    :rank => :pcsrank,\n",
        "    :points_1 => :pcspoints\n",
        ")\n",
        "# drop columns ending in _1\n",
        "select!(rider_df, Not([:rider_1, :team_1]))\n",
        "\n",
        "# fill in missing values in rank and points with 0\n",
        "rider_df[ismissing.(rider_df.pcsrank), :pcsrank] .= 0\n",
        "rider_df[ismissing.(rider_df.pcspoints), :pcspoints] .= 0\n",
        "# calculate rider calc_score as the mean of the velogames score and the PCS score\n",
        "rider_df[!, :calc_score] = (rider_df.pcspoints .+ rider_df.vgpoints) ./ 2\n",
        "# # calculate rider value as the ratio of rider score to rider cost\n",
        "rider_df[!, :calc_value] = rider_df.calc_score ./ rider_df.vgcost\n",
        "\n",
        "rider_df"
      ]
    },
    {
      "attachments": {},
      "cell_type": "markdown",
      "metadata": {},
      "source": [
        "## Inspect the data\n",
        "\n",
        "### Top 10 riders by points\n"
      ]
    },
    {
      "cell_type": "code",
      "execution_count": 67,
      "metadata": {},
      "outputs": [
        {
          "data": {
            "text/html": [
              "<div><div style = \"float: left;\"><span>10×12 DataFrame</span></div><div style = \"clear: both;\"></div></div><div class = \"data-frame\" style = \"overflow-x: scroll;\"><table class = \"data-frame\" style = \"margin-bottom: 6px;\"><thead><tr class = \"header\"><th class = \"rowNumber\" style = \"font-weight: bold; text-align: right;\">Row</th><th style = \"text-align: left;\"></th><th style = \"text-align: left;\">rider</th><th style = \"text-align: left;\">team</th><th style = \"text-align: left;\">startlist</th><th style = \"text-align: left;\">vgpoints</th><th style = \"text-align: left;\">vgcost</th><th style = \"text-align: left;\">riderkey</th><th style = \"text-align: left;\">value</th><th style = \"text-align: left;\">pcsrank</th><th style = \"text-align: left;\">pcspoints</th><th style = \"text-align: left;\">calc_score</th><th style = \"text-align: left;\">calc_value</th></tr><tr class = \"subheader headerLastRow\"><th class = \"rowNumber\" style = \"font-weight: bold; text-align: right;\"></th><th title = \"String\" style = \"text-align: left;\">String</th><th title = \"String\" style = \"text-align: left;\">String</th><th title = \"String\" style = \"text-align: left;\">String</th><th title = \"String\" style = \"text-align: left;\">String</th><th title = \"Int64\" style = \"text-align: left;\">Int64</th><th title = \"Int64\" style = \"text-align: left;\">Int64</th><th title = \"String\" style = \"text-align: left;\">String</th><th title = \"Float64\" style = \"text-align: left;\">Float64</th><th title = \"Union{Missing, Int64}\" style = \"text-align: left;\">Int64?</th><th title = \"Union{Missing, Int64}\" style = \"text-align: left;\">Int64?</th><th title = \"Float64\" style = \"text-align: left;\">Float64</th><th title = \"Float64\" style = \"text-align: left;\">Float64</th></tr></thead><tbody><tr><td class = \"rowNumber\" style = \"font-weight: bold; text-align: right;\">1</td><td style = \"text-align: left;\"></td><td style = \"text-align: left;\">Tadej Pogačar</td><td style = \"text-align: left;\">UAE Team Emirates</td><td style = \"text-align: left;\">#LiegeBastogneLiege</td><td style = \"text-align: right;\">1858</td><td style = \"text-align: right;\">20</td><td style = \"text-align: left;\">aaadegjoprt</td><td style = \"text-align: right;\">92.9</td><td style = \"text-align: right;\">1</td><td style = \"text-align: right;\">1788</td><td style = \"text-align: right;\">1823.0</td><td style = \"text-align: right;\">91.15</td></tr><tr><td class = \"rowNumber\" style = \"font-weight: bold; text-align: right;\">2</td><td style = \"text-align: left;\"></td><td style = \"text-align: left;\">Thomas Pidcock</td><td style = \"text-align: left;\">INEOS Grenadiers</td><td style = \"text-align: left;\">#LiegeBastogneLiege</td><td style = \"text-align: right;\">875</td><td style = \"text-align: right;\">14</td><td style = \"text-align: left;\">accdhikmoopst</td><td style = \"text-align: right;\">62.5</td><td style = \"text-align: right;\">9</td><td style = \"text-align: right;\">675</td><td style = \"text-align: right;\">775.0</td><td style = \"text-align: right;\">55.3571</td></tr><tr><td class = \"rowNumber\" style = \"font-weight: bold; text-align: right;\">3</td><td style = \"text-align: left;\"></td><td style = \"text-align: left;\">Ben Healy</td><td style = \"text-align: left;\">EF Education-EasyPost</td><td style = \"text-align: left;\">#LiegeBastogneLiege</td><td style = \"text-align: right;\">998</td><td style = \"text-align: right;\">4</td><td style = \"text-align: left;\">abeehlny</td><td style = \"text-align: right;\">249.5</td><td style = \"text-align: right;\">22</td><td style = \"text-align: right;\">532</td><td style = \"text-align: right;\">765.0</td><td style = \"text-align: right;\">191.25</td></tr><tr><td class = \"rowNumber\" style = \"font-weight: bold; text-align: right;\">4</td><td style = \"text-align: left;\"></td><td style = \"text-align: left;\">Remco Evenepoel</td><td style = \"text-align: left;\">Soudal - Quick Step</td><td style = \"text-align: left;\">#LiegeBastogneLiege</td><td style = \"text-align: right;\">520</td><td style = \"text-align: right;\">16</td><td style = \"text-align: left;\">ceeeeelmnooprv</td><td style = \"text-align: right;\">32.5</td><td style = \"text-align: right;\">7</td><td style = \"text-align: right;\">850</td><td style = \"text-align: right;\">685.0</td><td style = \"text-align: right;\">42.8125</td></tr><tr><td class = \"rowNumber\" style = \"font-weight: bold; text-align: right;\">5</td><td style = \"text-align: left;\"></td><td style = \"text-align: left;\">Neilson Powless</td><td style = \"text-align: left;\">EF Education-EasyPost</td><td style = \"text-align: left;\">#LiegeBastogneLiege</td><td style = \"text-align: right;\">740</td><td style = \"text-align: right;\">8</td><td style = \"text-align: left;\">eeillnnoopsssw</td><td style = \"text-align: right;\">92.5</td><td style = \"text-align: right;\">12</td><td style = \"text-align: right;\">622</td><td style = \"text-align: right;\">681.0</td><td style = \"text-align: right;\">85.125</td></tr><tr><td class = \"rowNumber\" style = \"font-weight: bold; text-align: right;\">6</td><td style = \"text-align: left;\"></td><td style = \"text-align: left;\">Tiesj Benoot</td><td style = \"text-align: left;\">Jumbo-Visma</td><td style = \"text-align: left;\">#LiegeBastogneLiege</td><td style = \"text-align: right;\">657</td><td style = \"text-align: right;\">12</td><td style = \"text-align: left;\">beeijnoostt</td><td style = \"text-align: right;\">54.75</td><td style = \"text-align: right;\">14</td><td style = \"text-align: right;\">576</td><td style = \"text-align: right;\">616.5</td><td style = \"text-align: right;\">51.375</td></tr><tr><td class = \"rowNumber\" style = \"font-weight: bold; text-align: right;\">7</td><td style = \"text-align: left;\"></td><td style = \"text-align: left;\">Mattias Skjelmose</td><td style = \"text-align: left;\">Trek - Segafredo</td><td style = \"text-align: left;\">#LiegeBastogneLiege</td><td style = \"text-align: right;\">560</td><td style = \"text-align: right;\">8</td><td style = \"text-align: left;\">aaeeijklmmossstt</td><td style = \"text-align: right;\">70.0</td><td style = \"text-align: right;\">18</td><td style = \"text-align: right;\">546</td><td style = \"text-align: right;\">553.0</td><td style = \"text-align: right;\">69.125</td></tr><tr><td class = \"rowNumber\" style = \"font-weight: bold; text-align: right;\">8</td><td style = \"text-align: left;\"></td><td style = \"text-align: left;\">Valentin Madouas</td><td style = \"text-align: left;\">Groupama - FDJ</td><td style = \"text-align: left;\">#LiegeBastogneLiege</td><td style = \"text-align: right;\">560</td><td style = \"text-align: right;\">12</td><td style = \"text-align: left;\">aaadeilmnnostuv</td><td style = \"text-align: right;\">46.6667</td><td style = \"text-align: right;\">20</td><td style = \"text-align: right;\">543</td><td style = \"text-align: right;\">551.5</td><td style = \"text-align: right;\">45.9583</td></tr><tr><td class = \"rowNumber\" style = \"font-weight: bold; text-align: right;\">9</td><td style = \"text-align: left;\"></td><td style = \"text-align: left;\">Søren Kragh Andersen</td><td style = \"text-align: left;\">Alpecin-Deceuninck</td><td style = \"text-align: left;\">#LiegeBastogneLiege</td><td style = \"text-align: right;\">664</td><td style = \"text-align: right;\">10</td><td style = \"text-align: left;\">aadeeeghknnnrrrss</td><td style = \"text-align: right;\">66.4</td><td style = \"text-align: right;\">37</td><td style = \"text-align: right;\">415</td><td style = \"text-align: right;\">539.5</td><td style = \"text-align: right;\">53.95</td></tr><tr><td class = \"rowNumber\" style = \"font-weight: bold; text-align: right;\">10</td><td style = \"text-align: left;\"></td><td style = \"text-align: left;\">Benoît Cosnefroy</td><td style = \"text-align: left;\">AG2R Citroën Team</td><td style = \"text-align: left;\">#LiegeBastogneLiege</td><td style = \"text-align: right;\">500</td><td style = \"text-align: right;\">10</td><td style = \"text-align: left;\">bceefnnooorsty</td><td style = \"text-align: right;\">50.0</td><td style = \"text-align: right;\">26</td><td style = \"text-align: right;\">504</td><td style = \"text-align: right;\">502.0</td><td style = \"text-align: right;\">50.2</td></tr></tbody></table></div>"
            ],
            "text/latex": [
              "\\begin{tabular}{r|cccccc}\n",
              "\t&  & rider & team & startlist & vgpoints & \\\\\n",
              "\t\\hline\n",
              "\t& String & String & String & String & Int64 & \\\\\n",
              "\t\\hline\n",
              "\t1 &  & Tadej Pogačar & UAE Team Emirates & \\#LiegeBastogneLiege & 1858 & $\\dots$ \\\\\n",
              "\t2 &  & Thomas Pidcock & INEOS Grenadiers & \\#LiegeBastogneLiege & 875 & $\\dots$ \\\\\n",
              "\t3 &  & Ben Healy & EF Education-EasyPost & \\#LiegeBastogneLiege & 998 & $\\dots$ \\\\\n",
              "\t4 &  & Remco Evenepoel & Soudal - Quick Step & \\#LiegeBastogneLiege & 520 & $\\dots$ \\\\\n",
              "\t5 &  & Neilson Powless & EF Education-EasyPost & \\#LiegeBastogneLiege & 740 & $\\dots$ \\\\\n",
              "\t6 &  & Tiesj Benoot & Jumbo-Visma & \\#LiegeBastogneLiege & 657 & $\\dots$ \\\\\n",
              "\t7 &  & Mattias Skjelmose & Trek - Segafredo & \\#LiegeBastogneLiege & 560 & $\\dots$ \\\\\n",
              "\t8 &  & Valentin Madouas & Groupama - FDJ & \\#LiegeBastogneLiege & 560 & $\\dots$ \\\\\n",
              "\t9 &  & Søren Kragh Andersen & Alpecin-Deceuninck & \\#LiegeBastogneLiege & 664 & $\\dots$ \\\\\n",
              "\t10 &  & Benoît Cosnefroy & AG2R Citroën Team & \\#LiegeBastogneLiege & 500 & $\\dots$ \\\\\n",
              "\\end{tabular}\n"
            ],
            "text/plain": [
              "\u001b[1m10×12 DataFrame\u001b[0m\n",
              "\u001b[1m Row \u001b[0m│\u001b[1m        \u001b[0m\u001b[1m rider                \u001b[0m\u001b[1m team                  \u001b[0m\u001b[1m startlist         \u001b[0m ⋯\n",
              "     │\u001b[90m String \u001b[0m\u001b[90m String               \u001b[0m\u001b[90m String                \u001b[0m\u001b[90m String            \u001b[0m ⋯\n",
              "─────┼──────────────────────────────────────────────────────────────────────────\n",
              "   1 │         Tadej Pogačar         UAE Team Emirates      #LiegeBastogneLieg ⋯\n",
              "   2 │         Thomas Pidcock        INEOS Grenadiers       #LiegeBastogneLieg\n",
              "   3 │         Ben Healy             EF Education-EasyPost  #LiegeBastogneLieg\n",
              "   4 │         Remco Evenepoel       Soudal - Quick Step    #LiegeBastogneLieg\n",
              "   5 │         Neilson Powless       EF Education-EasyPost  #LiegeBastogneLieg ⋯\n",
              "   6 │         Tiesj Benoot          Jumbo-Visma            #LiegeBastogneLieg\n",
              "   7 │         Mattias Skjelmose     Trek - Segafredo       #LiegeBastogneLieg\n",
              "   8 │         Valentin Madouas      Groupama - FDJ         #LiegeBastogneLieg\n",
              "   9 │         Søren Kragh Andersen  Alpecin-Deceuninck     #LiegeBastogneLieg ⋯\n",
              "  10 │         Benoît Cosnefroy      AG2R Citroën Team      #LiegeBastogneLieg\n",
              "\u001b[36m                                                               9 columns omitted\u001b[0m"
            ]
          },
          "execution_count": 67,
          "metadata": {},
          "output_type": "execute_result"
        }
      ],
      "source": [
        "sort(rider_df, :calc_score, rev=true)[1:10, :]"
      ]
    },
    {
      "attachments": {},
      "cell_type": "markdown",
      "metadata": {},
      "source": [
        "### Top 10 riders by value\n"
      ]
    },
    {
      "cell_type": "code",
      "execution_count": 68,
      "metadata": {},
      "outputs": [
        {
          "data": {
            "text/html": [
              "<div><div style = \"float: left;\"><span>10×12 DataFrame</span></div><div style = \"clear: both;\"></div></div><div class = \"data-frame\" style = \"overflow-x: scroll;\"><table class = \"data-frame\" style = \"margin-bottom: 6px;\"><thead><tr class = \"header\"><th class = \"rowNumber\" style = \"font-weight: bold; text-align: right;\">Row</th><th style = \"text-align: left;\"></th><th style = \"text-align: left;\">rider</th><th style = \"text-align: left;\">team</th><th style = \"text-align: left;\">startlist</th><th style = \"text-align: left;\">vgpoints</th><th style = \"text-align: left;\">vgcost</th><th style = \"text-align: left;\">riderkey</th><th style = \"text-align: left;\">value</th><th style = \"text-align: left;\">pcsrank</th><th style = \"text-align: left;\">pcspoints</th><th style = \"text-align: left;\">calc_score</th><th style = \"text-align: left;\">calc_value</th></tr><tr class = \"subheader headerLastRow\"><th class = \"rowNumber\" style = \"font-weight: bold; text-align: right;\"></th><th title = \"String\" style = \"text-align: left;\">String</th><th title = \"String\" style = \"text-align: left;\">String</th><th title = \"String\" style = \"text-align: left;\">String</th><th title = \"String\" style = \"text-align: left;\">String</th><th title = \"Int64\" style = \"text-align: left;\">Int64</th><th title = \"Int64\" style = \"text-align: left;\">Int64</th><th title = \"String\" style = \"text-align: left;\">String</th><th title = \"Float64\" style = \"text-align: left;\">Float64</th><th title = \"Union{Missing, Int64}\" style = \"text-align: left;\">Int64?</th><th title = \"Union{Missing, Int64}\" style = \"text-align: left;\">Int64?</th><th title = \"Float64\" style = \"text-align: left;\">Float64</th><th title = \"Float64\" style = \"text-align: left;\">Float64</th></tr></thead><tbody><tr><td class = \"rowNumber\" style = \"font-weight: bold; text-align: right;\">1</td><td style = \"text-align: left;\"></td><td style = \"text-align: left;\">Ben Healy</td><td style = \"text-align: left;\">EF Education-EasyPost</td><td style = \"text-align: left;\">#LiegeBastogneLiege</td><td style = \"text-align: right;\">998</td><td style = \"text-align: right;\">4</td><td style = \"text-align: left;\">abeehlny</td><td style = \"text-align: right;\">249.5</td><td style = \"text-align: right;\">22</td><td style = \"text-align: right;\">532</td><td style = \"text-align: right;\">765.0</td><td style = \"text-align: right;\">191.25</td></tr><tr><td class = \"rowNumber\" style = \"font-weight: bold; text-align: right;\">2</td><td style = \"text-align: left;\"></td><td style = \"text-align: left;\">Tadej Pogačar</td><td style = \"text-align: left;\">UAE Team Emirates</td><td style = \"text-align: left;\">#LiegeBastogneLiege</td><td style = \"text-align: right;\">1858</td><td style = \"text-align: right;\">20</td><td style = \"text-align: left;\">aaadegjoprt</td><td style = \"text-align: right;\">92.9</td><td style = \"text-align: right;\">1</td><td style = \"text-align: right;\">1788</td><td style = \"text-align: right;\">1823.0</td><td style = \"text-align: right;\">91.15</td></tr><tr><td class = \"rowNumber\" style = \"font-weight: bold; text-align: right;\">3</td><td style = \"text-align: left;\"></td><td style = \"text-align: left;\">Neilson Powless</td><td style = \"text-align: left;\">EF Education-EasyPost</td><td style = \"text-align: left;\">#LiegeBastogneLiege</td><td style = \"text-align: right;\">740</td><td style = \"text-align: right;\">8</td><td style = \"text-align: left;\">eeillnnoopsssw</td><td style = \"text-align: right;\">92.5</td><td style = \"text-align: right;\">12</td><td style = \"text-align: right;\">622</td><td style = \"text-align: right;\">681.0</td><td style = \"text-align: right;\">85.125</td></tr><tr><td class = \"rowNumber\" style = \"font-weight: bold; text-align: right;\">4</td><td style = \"text-align: left;\"></td><td style = \"text-align: left;\">Mattias Skjelmose</td><td style = \"text-align: left;\">Trek - Segafredo</td><td style = \"text-align: left;\">#LiegeBastogneLiege</td><td style = \"text-align: right;\">560</td><td style = \"text-align: right;\">8</td><td style = \"text-align: left;\">aaeeijklmmossstt</td><td style = \"text-align: right;\">70.0</td><td style = \"text-align: right;\">18</td><td style = \"text-align: right;\">546</td><td style = \"text-align: right;\">553.0</td><td style = \"text-align: right;\">69.125</td></tr><tr><td class = \"rowNumber\" style = \"font-weight: bold; text-align: right;\">5</td><td style = \"text-align: left;\"></td><td style = \"text-align: left;\">Maxim Van Gils</td><td style = \"text-align: left;\">Lotto Dstny</td><td style = \"text-align: left;\">#LiegeBastogneLiege</td><td style = \"text-align: right;\">470</td><td style = \"text-align: right;\">6</td><td style = \"text-align: left;\">aagiilmmnsvx</td><td style = \"text-align: right;\">78.3333</td><td style = \"text-align: right;\">54</td><td style = \"text-align: right;\">343</td><td style = \"text-align: right;\">406.5</td><td style = \"text-align: right;\">67.75</td></tr><tr><td class = \"rowNumber\" style = \"font-weight: bold; text-align: right;\">6</td><td style = \"text-align: left;\"></td><td style = \"text-align: left;\">Andreas Kron</td><td style = \"text-align: left;\">Lotto Dstny</td><td style = \"text-align: left;\">#LiegeBastogneLiege</td><td style = \"text-align: right;\">392</td><td style = \"text-align: right;\">6</td><td style = \"text-align: left;\">aadeknnorrs</td><td style = \"text-align: right;\">65.3333</td><td style = \"text-align: right;\">42</td><td style = \"text-align: right;\">385</td><td style = \"text-align: right;\">388.5</td><td style = \"text-align: right;\">64.75</td></tr><tr><td class = \"rowNumber\" style = \"font-weight: bold; text-align: right;\">7</td><td style = \"text-align: left;\"></td><td style = \"text-align: left;\">Andrea Bagioli</td><td style = \"text-align: left;\">Soudal - Quick Step</td><td style = \"text-align: left;\">#LiegeBastogneLiege</td><td style = \"text-align: right;\">410</td><td style = \"text-align: right;\">6</td><td style = \"text-align: left;\">aaabdegiilnor</td><td style = \"text-align: right;\">68.3333</td><td style = \"text-align: right;\">51</td><td style = \"text-align: right;\">365</td><td style = \"text-align: right;\">387.5</td><td style = \"text-align: right;\">64.5833</td></tr><tr><td class = \"rowNumber\" style = \"font-weight: bold; text-align: right;\">8</td><td style = \"text-align: left;\"></td><td style = \"text-align: left;\">Thomas Pidcock</td><td style = \"text-align: left;\">INEOS Grenadiers</td><td style = \"text-align: left;\">#LiegeBastogneLiege</td><td style = \"text-align: right;\">875</td><td style = \"text-align: right;\">14</td><td style = \"text-align: left;\">accdhikmoopst</td><td style = \"text-align: right;\">62.5</td><td style = \"text-align: right;\">9</td><td style = \"text-align: right;\">675</td><td style = \"text-align: right;\">775.0</td><td style = \"text-align: right;\">55.3571</td></tr><tr><td class = \"rowNumber\" style = \"font-weight: bold; text-align: right;\">9</td><td style = \"text-align: left;\"></td><td style = \"text-align: left;\">Søren Kragh Andersen</td><td style = \"text-align: left;\">Alpecin-Deceuninck</td><td style = \"text-align: left;\">#LiegeBastogneLiege</td><td style = \"text-align: right;\">664</td><td style = \"text-align: right;\">10</td><td style = \"text-align: left;\">aadeeeghknnnrrrss</td><td style = \"text-align: right;\">66.4</td><td style = \"text-align: right;\">37</td><td style = \"text-align: right;\">415</td><td style = \"text-align: right;\">539.5</td><td style = \"text-align: right;\">53.95</td></tr><tr><td class = \"rowNumber\" style = \"font-weight: bold; text-align: right;\">10</td><td style = \"text-align: left;\"></td><td style = \"text-align: left;\">Tiesj Benoot</td><td style = \"text-align: left;\">Jumbo-Visma</td><td style = \"text-align: left;\">#LiegeBastogneLiege</td><td style = \"text-align: right;\">657</td><td style = \"text-align: right;\">12</td><td style = \"text-align: left;\">beeijnoostt</td><td style = \"text-align: right;\">54.75</td><td style = \"text-align: right;\">14</td><td style = \"text-align: right;\">576</td><td style = \"text-align: right;\">616.5</td><td style = \"text-align: right;\">51.375</td></tr></tbody></table></div>"
            ],
            "text/latex": [
              "\\begin{tabular}{r|cccccc}\n",
              "\t&  & rider & team & startlist & vgpoints & \\\\\n",
              "\t\\hline\n",
              "\t& String & String & String & String & Int64 & \\\\\n",
              "\t\\hline\n",
              "\t1 &  & Ben Healy & EF Education-EasyPost & \\#LiegeBastogneLiege & 998 & $\\dots$ \\\\\n",
              "\t2 &  & Tadej Pogačar & UAE Team Emirates & \\#LiegeBastogneLiege & 1858 & $\\dots$ \\\\\n",
              "\t3 &  & Neilson Powless & EF Education-EasyPost & \\#LiegeBastogneLiege & 740 & $\\dots$ \\\\\n",
              "\t4 &  & Mattias Skjelmose & Trek - Segafredo & \\#LiegeBastogneLiege & 560 & $\\dots$ \\\\\n",
              "\t5 &  & Maxim Van Gils & Lotto Dstny & \\#LiegeBastogneLiege & 470 & $\\dots$ \\\\\n",
              "\t6 &  & Andreas Kron & Lotto Dstny & \\#LiegeBastogneLiege & 392 & $\\dots$ \\\\\n",
              "\t7 &  & Andrea Bagioli & Soudal - Quick Step & \\#LiegeBastogneLiege & 410 & $\\dots$ \\\\\n",
              "\t8 &  & Thomas Pidcock & INEOS Grenadiers & \\#LiegeBastogneLiege & 875 & $\\dots$ \\\\\n",
              "\t9 &  & Søren Kragh Andersen & Alpecin-Deceuninck & \\#LiegeBastogneLiege & 664 & $\\dots$ \\\\\n",
              "\t10 &  & Tiesj Benoot & Jumbo-Visma & \\#LiegeBastogneLiege & 657 & $\\dots$ \\\\\n",
              "\\end{tabular}\n"
            ],
            "text/plain": [
              "\u001b[1m10×12 DataFrame\u001b[0m\n",
              "\u001b[1m Row \u001b[0m│\u001b[1m        \u001b[0m\u001b[1m rider                \u001b[0m\u001b[1m team                  \u001b[0m\u001b[1m startlist         \u001b[0m ⋯\n",
              "     │\u001b[90m String \u001b[0m\u001b[90m String               \u001b[0m\u001b[90m String                \u001b[0m\u001b[90m String            \u001b[0m ⋯\n",
              "─────┼──────────────────────────────────────────────────────────────────────────\n",
              "   1 │         Ben Healy             EF Education-EasyPost  #LiegeBastogneLieg ⋯\n",
              "   2 │         Tadej Pogačar         UAE Team Emirates      #LiegeBastogneLieg\n",
              "   3 │         Neilson Powless       EF Education-EasyPost  #LiegeBastogneLieg\n",
              "   4 │         Mattias Skjelmose     Trek - Segafredo       #LiegeBastogneLieg\n",
              "   5 │         Maxim Van Gils        Lotto Dstny            #LiegeBastogneLieg ⋯\n",
              "   6 │         Andreas Kron          Lotto Dstny            #LiegeBastogneLieg\n",
              "   7 │         Andrea Bagioli        Soudal - Quick Step    #LiegeBastogneLieg\n",
              "   8 │         Thomas Pidcock        INEOS Grenadiers       #LiegeBastogneLieg\n",
              "   9 │         Søren Kragh Andersen  Alpecin-Deceuninck     #LiegeBastogneLieg ⋯\n",
              "  10 │         Tiesj Benoot          Jumbo-Visma            #LiegeBastogneLieg\n",
              "\u001b[36m                                                               9 columns omitted\u001b[0m"
            ]
          },
          "execution_count": 68,
          "metadata": {},
          "output_type": "execute_result"
        }
      ],
      "source": [
        "sort(rider_df, :calc_value, rev=true)[1:10, :]"
      ]
    },
    {
      "cell_type": "code",
      "execution_count": null,
      "metadata": {},
      "outputs": [],
      "source": [
        "plot(\n",
        "    rider_df,\n",
        "    x=:calc_score,\n",
        "    y=:cost,\n",
        "    Guide.xlabel(\"Score\"),\n",
        "    Guide.ylabel(\"Cost\"),\n",
        "    Guide.title(\"Rider value\")\n",
        ")"
      ]
    },
    {
      "attachments": {},
      "cell_type": "markdown",
      "metadata": {},
      "source": [
        "## Build the model\n"
      ]
    },
    {
      "cell_type": "code",
      "execution_count": 73,
      "metadata": {},
      "outputs": [
        {
          "name": "stdout",
          "output_type": "stream",
          "text": [
            "Running HiGHS 1.5.1 [date: 1970-01-01, git hash: 93f1876e4]\n",
            "Copyright (c) 2023 HiGHS under MIT licence terms\n",
            "Presolving model\n",
            "2 rows, 172 cols, 344 nonzeros\n",
            "2 rows, 96 cols, 170 nonzeros\n",
            "2 rows, 94 cols, 166 nonzeros\n",
            "Objective function is integral with scale 2\n",
            "\n",
            "Solving MIP model with:\n",
            "   2 rows\n",
            "   94 cols (84 binary, 10 integer, 0 implied int., 0 continuous)\n",
            "   166 nonzeros\n",
            "\n",
            "        Nodes      |    B&B Tree     |            Objective Bounds              |  Dynamic Constraints |       Work      \n",
            "     Proc. InQueue |  Leaves   Expl. | BestBound       BestSol              Gap |   Cuts   InLp Confl. | LpIters     Time\n",
            "\n",
            "         0       0         0   0.00%   17938.5         -inf                 inf        0      0      0         0     0.0s\n",
            " R       0       0         0   0.00%   6892.833333     6844.5             0.71%        0      0      0         3     0.0s\n",
            "\n",
            "92.6% inactive integer columns, restarting\n",
            "Model after restart has 2 rows, 7 cols (7 bin., 0 int., 0 impl., 0 cont.), and 11 nonzeros\n",
            "\n",
            "         0       0         0   0.00%   6892.833333     6844.5             0.71%        0      0      0         3     0.0s\n",
            " T       0       0         0   0.00%   6892.833333     6856.5             0.53%        0      0      0         4     0.0s\n",
            "\n",
            "Solving report\n",
            "  Status            Optimal\n",
            "  Primal bound      6856.5\n",
            "  Dual bound        6856.5\n",
            "  Gap               0% (tolerance: 0.01%)\n",
            "  Solution status   feasible\n",
            "                    6856.5 (objective)\n",
            "                    0 (bound viol.)\n",
            "                    0 (int. viol.)\n",
            "                    0 (row viol.)\n",
            "  Timing            0.00 (total)\n",
            "                    0.00 (presolve)\n",
            "                    0.00 (postsolve)\n",
            "  Nodes             1\n",
            "  LP iterations     4 (total)\n",
            "                    0 (strong br.)\n",
            "                    0 (separation)\n",
            "                    0 (heuristics)\n"
          ]
        },
        {
          "data": {
            "text/plain": [
              "1-dimensional DenseAxisArray{Float64,1,...} with index sets:\n",
              "    Dimension 1, [\"Tadej Pogačar\", \"Remco Evenepoel\", \"Julian Alaphilippe\", \"Thomas Pidcock\", \"Matej Mohorič\", \"Valentin Madouas\", \"Tiesj Benoot\", \"David Gaudu\", \"Sergio Higuita\", \"Marc Hirschi\"  …  \"Pau Miquel\", \"Yukiya Arashiro\", \"Liam Slock\", \"Ibon Ruiz\", \"Harry Sweeny\", \"Danny Van Der Tuuk\", \"Jorge Arcas\", \"Fabien Grellier\", \"Alan Jousseaume\", \"Fran Miholjević\"]\n",
              "And data, a 172-element Vector{Float64}:\n",
              " 1.0\n",
              " 1.0\n",
              " 0.0\n",
              " 1.0\n",
              " 0.0\n",
              " 1.0\n",
              " 1.0\n",
              " 0.0\n",
              " 0.0\n",
              " 0.0\n",
              " 0.0\n",
              " 0.0\n",
              " 0.0\n",
              " ⋮\n",
              " 0.0\n",
              " 0.0\n",
              " 0.0\n",
              " 0.0\n",
              " 0.0\n",
              " 0.0\n",
              " 0.0\n",
              " 0.0\n",
              " 0.0\n",
              " 0.0\n",
              " 0.0\n",
              " 0.0"
            ]
          },
          "execution_count": 73,
          "metadata": {},
          "output_type": "execute_result"
        }
      ],
      "source": [
        "model_results = build_model_oneday(rider_df)"
      ]
    },
    {
      "attachments": {},
      "cell_type": "markdown",
      "metadata": {},
      "source": [
        "## Results\n",
        "\n",
        "### Total cost of team\n",
        "\n",
        "Must be no more than 100.\n"
      ]
    },
    {
      "cell_type": "code",
      "execution_count": 75,
      "metadata": {},
      "outputs": [
        {
          "data": {
            "text/plain": [
              "100.0"
            ]
          },
          "execution_count": 75,
          "metadata": {},
          "output_type": "execute_result"
        }
      ],
      "source": [
        "# total cost\n",
        "rider_df.vgcost .* model_results.data |> sum"
      ]
    },
    {
      "attachments": {},
      "cell_type": "markdown",
      "metadata": {},
      "source": [
        "### Selected riders\n"
      ]
    },
    {
      "cell_type": "code",
      "execution_count": 77,
      "metadata": {},
      "outputs": [
        {
          "data": {
            "text/html": [
              "<div><div style = \"float: left;\"><span>9×8 DataFrame</span></div><div style = \"clear: both;\"></div></div><div class = \"data-frame\" style = \"overflow-x: scroll;\"><table class = \"data-frame\" style = \"margin-bottom: 6px;\"><thead><tr class = \"header\"><th class = \"rowNumber\" style = \"font-weight: bold; text-align: right;\">Row</th><th style = \"text-align: left;\">rider</th><th style = \"text-align: left;\">team</th><th style = \"text-align: left;\">vgcost</th><th style = \"text-align: left;\">vgpoints</th><th style = \"text-align: left;\">pcspoints</th><th style = \"text-align: left;\">pcsrank</th><th style = \"text-align: left;\">calc_score</th><th style = \"text-align: left;\">calc_value</th></tr><tr class = \"subheader headerLastRow\"><th class = \"rowNumber\" style = \"font-weight: bold; text-align: right;\"></th><th title = \"String\" style = \"text-align: left;\">String</th><th title = \"String\" style = \"text-align: left;\">String</th><th title = \"Int64\" style = \"text-align: left;\">Int64</th><th title = \"Int64\" style = \"text-align: left;\">Int64</th><th title = \"Union{Missing, Int64}\" style = \"text-align: left;\">Int64?</th><th title = \"Union{Missing, Int64}\" style = \"text-align: left;\">Int64?</th><th title = \"Float64\" style = \"text-align: left;\">Float64</th><th title = \"Float64\" style = \"text-align: left;\">Float64</th></tr></thead><tbody><tr><td class = \"rowNumber\" style = \"font-weight: bold; text-align: right;\">1</td><td style = \"text-align: left;\">Tadej Pogačar</td><td style = \"text-align: left;\">UAE Team Emirates</td><td style = \"text-align: right;\">20</td><td style = \"text-align: right;\">1858</td><td style = \"text-align: right;\">1788</td><td style = \"text-align: right;\">1</td><td style = \"text-align: right;\">1823.0</td><td style = \"text-align: right;\">91.15</td></tr><tr><td class = \"rowNumber\" style = \"font-weight: bold; text-align: right;\">2</td><td style = \"text-align: left;\">Remco Evenepoel</td><td style = \"text-align: left;\">Soudal - Quick Step</td><td style = \"text-align: right;\">16</td><td style = \"text-align: right;\">520</td><td style = \"text-align: right;\">850</td><td style = \"text-align: right;\">7</td><td style = \"text-align: right;\">685.0</td><td style = \"text-align: right;\">42.8125</td></tr><tr><td class = \"rowNumber\" style = \"font-weight: bold; text-align: right;\">3</td><td style = \"text-align: left;\">Thomas Pidcock</td><td style = \"text-align: left;\">INEOS Grenadiers</td><td style = \"text-align: right;\">14</td><td style = \"text-align: right;\">875</td><td style = \"text-align: right;\">675</td><td style = \"text-align: right;\">9</td><td style = \"text-align: right;\">775.0</td><td style = \"text-align: right;\">55.3571</td></tr><tr><td class = \"rowNumber\" style = \"font-weight: bold; text-align: right;\">4</td><td style = \"text-align: left;\">Valentin Madouas</td><td style = \"text-align: left;\">Groupama - FDJ</td><td style = \"text-align: right;\">12</td><td style = \"text-align: right;\">560</td><td style = \"text-align: right;\">543</td><td style = \"text-align: right;\">20</td><td style = \"text-align: right;\">551.5</td><td style = \"text-align: right;\">45.9583</td></tr><tr><td class = \"rowNumber\" style = \"font-weight: bold; text-align: right;\">5</td><td style = \"text-align: left;\">Tiesj Benoot</td><td style = \"text-align: left;\">Jumbo-Visma</td><td style = \"text-align: right;\">12</td><td style = \"text-align: right;\">657</td><td style = \"text-align: right;\">576</td><td style = \"text-align: right;\">14</td><td style = \"text-align: right;\">616.5</td><td style = \"text-align: right;\">51.375</td></tr><tr><td class = \"rowNumber\" style = \"font-weight: bold; text-align: right;\">6</td><td style = \"text-align: left;\">Mattias Skjelmose</td><td style = \"text-align: left;\">Trek - Segafredo</td><td style = \"text-align: right;\">8</td><td style = \"text-align: right;\">560</td><td style = \"text-align: right;\">546</td><td style = \"text-align: right;\">18</td><td style = \"text-align: right;\">553.0</td><td style = \"text-align: right;\">69.125</td></tr><tr><td class = \"rowNumber\" style = \"font-weight: bold; text-align: right;\">7</td><td style = \"text-align: left;\">Neilson Powless</td><td style = \"text-align: left;\">EF Education-EasyPost</td><td style = \"text-align: right;\">8</td><td style = \"text-align: right;\">740</td><td style = \"text-align: right;\">622</td><td style = \"text-align: right;\">12</td><td style = \"text-align: right;\">681.0</td><td style = \"text-align: right;\">85.125</td></tr><tr><td class = \"rowNumber\" style = \"font-weight: bold; text-align: right;\">8</td><td style = \"text-align: left;\">Maxim Van Gils</td><td style = \"text-align: left;\">Lotto Dstny</td><td style = \"text-align: right;\">6</td><td style = \"text-align: right;\">470</td><td style = \"text-align: right;\">343</td><td style = \"text-align: right;\">54</td><td style = \"text-align: right;\">406.5</td><td style = \"text-align: right;\">67.75</td></tr><tr><td class = \"rowNumber\" style = \"font-weight: bold; text-align: right;\">9</td><td style = \"text-align: left;\">Ben Healy</td><td style = \"text-align: left;\">EF Education-EasyPost</td><td style = \"text-align: right;\">4</td><td style = \"text-align: right;\">998</td><td style = \"text-align: right;\">532</td><td style = \"text-align: right;\">22</td><td style = \"text-align: right;\">765.0</td><td style = \"text-align: right;\">191.25</td></tr></tbody></table></div>"
            ],
            "text/latex": [
              "\\begin{tabular}{r|ccccccc}\n",
              "\t& rider & team & vgcost & vgpoints & pcspoints & pcsrank & \\\\\n",
              "\t\\hline\n",
              "\t& String & String & Int64 & Int64 & Int64? & Int64? & \\\\\n",
              "\t\\hline\n",
              "\t1 & Tadej Pogačar & UAE Team Emirates & 20 & 1858 & 1788 & 1 & $\\dots$ \\\\\n",
              "\t2 & Remco Evenepoel & Soudal - Quick Step & 16 & 520 & 850 & 7 & $\\dots$ \\\\\n",
              "\t3 & Thomas Pidcock & INEOS Grenadiers & 14 & 875 & 675 & 9 & $\\dots$ \\\\\n",
              "\t4 & Valentin Madouas & Groupama - FDJ & 12 & 560 & 543 & 20 & $\\dots$ \\\\\n",
              "\t5 & Tiesj Benoot & Jumbo-Visma & 12 & 657 & 576 & 14 & $\\dots$ \\\\\n",
              "\t6 & Mattias Skjelmose & Trek - Segafredo & 8 & 560 & 546 & 18 & $\\dots$ \\\\\n",
              "\t7 & Neilson Powless & EF Education-EasyPost & 8 & 740 & 622 & 12 & $\\dots$ \\\\\n",
              "\t8 & Maxim Van Gils & Lotto Dstny & 6 & 470 & 343 & 54 & $\\dots$ \\\\\n",
              "\t9 & Ben Healy & EF Education-EasyPost & 4 & 998 & 532 & 22 & $\\dots$ \\\\\n",
              "\\end{tabular}\n"
            ],
            "text/plain": [
              "\u001b[1m9×8 DataFrame\u001b[0m\n",
              "\u001b[1m Row \u001b[0m│\u001b[1m rider             \u001b[0m\u001b[1m team                  \u001b[0m\u001b[1m vgcost \u001b[0m\u001b[1m vgpoints \u001b[0m\u001b[1m pcspoints \u001b[0m\u001b[1m \u001b[0m ⋯\n",
              "     │\u001b[90m String            \u001b[0m\u001b[90m String                \u001b[0m\u001b[90m Int64  \u001b[0m\u001b[90m Int64    \u001b[0m\u001b[90m Int64?    \u001b[0m\u001b[90m \u001b[0m ⋯\n",
              "─────┼──────────────────────────────────────────────────────────────────────────\n",
              "   1 │ Tadej Pogačar      UAE Team Emirates          20      1858       1788   ⋯\n",
              "   2 │ Remco Evenepoel    Soudal - Quick Step        16       520        850\n",
              "   3 │ Thomas Pidcock     INEOS Grenadiers           14       875        675\n",
              "   4 │ Valentin Madouas   Groupama - FDJ             12       560        543\n",
              "   5 │ Tiesj Benoot       Jumbo-Visma                12       657        576   ⋯\n",
              "   6 │ Mattias Skjelmose  Trek - Segafredo            8       560        546\n",
              "   7 │ Neilson Powless    EF Education-EasyPost       8       740        622\n",
              "   8 │ Maxim Van Gils     Lotto Dstny                 6       470        343\n",
              "   9 │ Ben Healy          EF Education-EasyPost       4       998        532   ⋯\n",
              "\u001b[36m                                                               3 columns omitted\u001b[0m"
            ]
          },
          "execution_count": 77,
          "metadata": {},
          "output_type": "execute_result"
        }
      ],
      "source": [
        "# selected riders\n",
        "rider_df[!, :chosen] = model_results.data .|> !iszero\n",
        "chosen_team = filter(:chosen => ==(true), rider_df)\n",
        "chosen_team[:, [:rider, :team, :vgcost, :vgpoints, :pcspoints, :pcsrank, :calc_score, :calc_value]]"
      ]
    }
  ],
  "metadata": {
    "kernelspec": {
      "display_name": "Julia 1.8.5",
      "language": "julia",
      "name": "julia-1.8"
    },
    "language_info": {
      "file_extension": ".jl",
      "mimetype": "application/julia",
      "name": "julia",
      "version": "1.8.5"
    }
  },
  "nbformat": 4,
  "nbformat_minor": 4
}
