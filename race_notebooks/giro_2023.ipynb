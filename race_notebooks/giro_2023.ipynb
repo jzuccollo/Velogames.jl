{
 "cells": [
  {
   "attachments": {},
   "cell_type": "markdown",
   "metadata": {},
   "source": [
    "# Velogames solver: Giro d'Italia 2023\n",
    "\n",
    "## Load libraries"
   ]
  },
  {
   "cell_type": "code",
   "execution_count": null,
   "metadata": {},
   "outputs": [],
   "source": [
    "using Velogames"
   ]
  },
  {
   "attachments": {},
   "cell_type": "markdown",
   "metadata": {},
   "source": [
    "## Load data"
   ]
  },
  {
   "cell_type": "code",
   "execution_count": null,
   "metadata": {},
   "outputs": [],
   "source": [
    "FORM_WEIGHT = 0\n",
    "\n",
    "rider_df = getvgriders(\"https://www.velogames.com/italy/2023/riders.php\")\n",
    "\n",
    "mycols = [:mountain_me, :gc_me, :sprint_me, :overall_me]\n",
    "# getpcsranking for each col, filter the dataframe to only the points and riderkey columns, and rename the points column to the col name.\n",
    "pcs_dfs = map(mycols) do col\n",
    "    rename(getpcsranking(col), :points => col)[:, [col, :riderkey]]\n",
    "end\n",
    "\n",
    "# use reduce to join all dataframes in pcs_dfs on the riderkey column\n",
    "pcs_df = reduce((x, y) -> outerjoin(x, y, on=:riderkey), pcs_dfs)\n",
    "\n",
    "# join the velogames and pcs dataframes on the riderkey column\n",
    "rider_df = leftjoin(rider_df, pcs_df, on=:riderkey)\n",
    "rider_df = coalesce.(rider_df, 0)\n",
    "\n",
    "# create calcpcsscore column which is the sum of All Rounder * gc, Sprinter * sprint, Climber * mountain, and Unclassed * overall\n",
    "rider_df.calcpcsscore = rider_df.allrounder .* rider_df.gc_me .+ rider_df.sprinter .* rider_df.sprint_me .+ rider_df.climber .* rider_df.mountain_me .+ rider_df.unclassed .* rider_df.overall_me\n",
    "\n",
    "# create calc_score column which is a weighted average of the calcpcsscore and points columns, adjusted for the difference in magnitude\n",
    "ADJ_FACTOR = mean(rider_df.points) / mean(rider_df.calcpcsscore)\n",
    "rider_df.calc_score = (1 - FORM_WEIGHT) .* ADJ_FACTOR .* rider_df.calcpcsscore .+ FORM_WEIGHT .* rider_df.points"
   ]
  },
  {
   "cell_type": "code",
   "execution_count": null,
   "metadata": {},
   "outputs": [],
   "source": [
    "rider_df = getvgriders(\"https://www.velogames.com/italy/2023/riders.php\")\n"
   ]
  },
  {
   "cell_type": "code",
   "execution_count": null,
   "metadata": {},
   "outputs": [],
   "source": [
    "# for each rider, get pcsriderpts for that rider\n",
    "pcsriderpts = map(x -> getpcsriderpts(x), rider_df.rider)\n"
   ]
  },
  {
   "cell_type": "code",
   "execution_count": null,
   "metadata": {},
   "outputs": [],
   "source": [
    "df_pcsriderpts = vcat(DataFrame.(rider_df.pcsriderpts)...)\n",
    "rename!(\n",
    "    df_pcsriderpts, \n",
    "    [x => \"pts_\" * string(x) for x in names(df_pcsriderpts)]\n",
    "    )\n",
    "# hcat(rider_df, df_pcsriderpts)"
   ]
  },
  {
   "cell_type": "code",
   "execution_count": null,
   "metadata": {},
   "outputs": [],
   "source": [
    "show(rider_df)"
   ]
  },
  {
   "cell_type": "code",
   "execution_count": null,
   "metadata": {},
   "outputs": [],
   "source": []
  },
  {
   "attachments": {},
   "cell_type": "markdown",
   "metadata": {},
   "source": [
    "## Build model"
   ]
  },
  {
   "cell_type": "code",
   "execution_count": null,
   "metadata": {},
   "outputs": [],
   "source": [
    "model_results = build_model_stage(rider_df);"
   ]
  },
  {
   "cell_type": "code",
   "execution_count": null,
   "metadata": {},
   "outputs": [],
   "source": [
    "model_results.data |> sum"
   ]
  },
  {
   "cell_type": "code",
   "execution_count": null,
   "metadata": {},
   "outputs": [],
   "source": [
    "# total cost\n",
    "rider_df.cost .* model_results.data |> sum"
   ]
  },
  {
   "attachments": {},
   "cell_type": "markdown",
   "metadata": {},
   "source": [
    "## Results"
   ]
  },
  {
   "cell_type": "code",
   "execution_count": null,
   "metadata": {},
   "outputs": [],
   "source": [
    "# selected riders\n",
    "rider_df[!, :chosen] = model_results.data .> 0.5\n",
    "chosen_team = filter(:chosen => ==(true), rider_df)\n",
    "chosen_team[:, [:rider, :team, :class_raw, :selected, :points, :calcpcsscore, :cost]]"
   ]
  },
  {
   "attachments": {},
   "cell_type": "markdown",
   "metadata": {},
   "source": [
    "## Post-Giro analysis\n",
    "\n",
    "Looking back on the Giro, what's the best team you could have picked? And what's the cheapest team you could have picked that would have beaten the best team?\n",
    "\n",
    "### Best team you could have picked"
   ]
  },
  {
   "cell_type": "code",
   "execution_count": null,
   "metadata": {},
   "outputs": [],
   "source": [
    "rider_vg_post = getvgriders(\"https://www.velogames.com/italy/2023/riders.php\")\n",
    "model_post = Model(HiGHS.Optimizer)\n",
    "@variable(model_post, x[rider_vg_post.rider], Bin)\n",
    "@objective(model_post, Max, rider_vg_post.points' * x) # maximise the total score\n",
    "@constraint(model_post, rider_vg_post.cost' * x <= 100) # cost must be <= 100\n",
    "@constraint(model_post, sum(x) == 9) # exactly 9 riders must be chosen\n",
    "@constraint(model_post, rider_vg_post[!, \"allrounder\"]' * x >= 2) # at least 2 must be all rounders\n",
    "@constraint(model_post, rider_vg_post[!, \"sprinter\"]' * x >= 1) # at least 1 must be a sprinter\n",
    "@constraint(model_post, rider_vg_post[!, \"climber\"]' * x >= 2) # at least 2 must be climbers\n",
    "@constraint(model_post, rider_vg_post[!, \"unclassed\"]' * x >= 3) # at least 3 must be unclassed\n",
    "optimize!(model_post)\n",
    "model_post_results = value.(x)\n",
    "\n",
    "rider_vg_post[!, :chosen] = model_post_results.data .> 0.5\n",
    "chosen_team_post = filter(:chosen => ==(true), rider_vg_post)\n",
    "chosen_team_post[:, [:rider, :team, :cost, :points, :class_raw]]\n",
    "chosen_team_post.points |> sum"
   ]
  },
  {
   "attachments": {},
   "cell_type": "markdown",
   "metadata": {},
   "source": [
    "### Cheapest team that would have beaten the best team"
   ]
  },
  {
   "cell_type": "code",
   "execution_count": null,
   "metadata": {},
   "outputs": [],
   "source": [
    "model_post2 = Model(HiGHS.Optimizer)\n",
    "@variable(model_post2, x[rider_vg_post.rider], Bin)\n",
    "@objective(model_post2, Min, rider_vg_post.cost' * x) # maximise the total score\n",
    "@constraint(model_post2, rider_vg_post.points' * x >= 11672) # cost must be <= 100\n",
    "@constraint(model_post2, sum(x) == 9) # exactly 9 riders must be chosen\n",
    "@constraint(model_post2, rider_vg_post[!, \"allrounder\"]' * x >= 2) # at least 2 must be all rounders\n",
    "@constraint(model_post2, rider_vg_post[!, \"sprinter\"]' * x >= 1) # at least 1 must be a sprinter\n",
    "@constraint(model_post2, rider_vg_post[!, \"climber\"]' * x >= 2) # at least 2 must be climbers\n",
    "@constraint(model_post2, rider_vg_post[!, \"unclassed\"]' * x >= 3) # at least 3 must be unclassed\n",
    "optimize!(model_post2)\n",
    "model_post2_results = value.(x)\n",
    "\n",
    "rider_vg_post[!, :chosen2] = model_post2_results.data .> 0.5\n",
    "chosen2_team_post = filter(:chosen2 => ==(true), rider_vg_post)\n",
    "chosen2_team_post[:, [:rider, :team, :cost, :points, :class_raw]]\n",
    "chosen2_team_post.points |> sum"
   ]
  },
  {
   "attachments": {},
   "cell_type": "markdown",
   "metadata": {},
   "source": [
    "### Highest value riders"
   ]
  },
  {
   "cell_type": "code",
   "execution_count": null,
   "metadata": {},
   "outputs": [],
   "source": [
    "# calculate points per cost\n",
    "rider_vg_post[!, :value] = rider_vg_post.points ./ rider_vg_post.cost\n",
    "# sort by ppc\n",
    "sort!(rider_vg_post, :value, rev=true)\n",
    "# select the top 10 riders,\n",
    "rider_vg_post[1:10, [:rider, :team, :cost, :points, :value, :class_raw]]"
   ]
  },
  {
   "attachments": {},
   "cell_type": "markdown",
   "metadata": {},
   "source": [
    "### How would my best team have done?\n",
    "\n",
    "If I'd picked a team based on PCS scores alone, how would it have done?"
   ]
  },
  {
   "cell_type": "code",
   "execution_count": null,
   "metadata": {},
   "outputs": [],
   "source": [
    "chosen_team[:, [:rider, :team, :class_raw, :selected, :points, :calcpcsscore, :cost]]\n",
    "chosen_team.points |> sum"
   ]
  }
 ],
 "metadata": {
  "kernelspec": {
   "display_name": "Julia 1.9.0",
   "language": "julia",
   "name": "julia-1.9"
  },
  "language_info": {
   "file_extension": ".jl",
   "mimetype": "application/julia",
   "name": "julia",
   "version": "1.9.0"
  },
  "orig_nbformat": 4
 },
 "nbformat": 4,
 "nbformat_minor": 2
}
