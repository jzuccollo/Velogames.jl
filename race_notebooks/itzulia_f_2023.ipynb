{
 "cells": [
  {
   "attachments": {},
   "cell_type": "markdown",
   "metadata": {},
   "source": [
    "# Velogames solver: Itzulia Women 2023\n",
    "\n",
    "\n",
    "## Load libraries"
   ]
  },
  {
   "cell_type": "code",
   "execution_count": 24,
   "metadata": {},
   "outputs": [
    {
     "name": "stderr",
     "output_type": "stream",
     "text": [
      "WARNING: redefinition of constant PCS_RANKING_URLS. This may fail, cause incorrect answers, or produce other errors.\n"
     ]
    }
   ],
   "source": [
    "using Velogames"
   ]
  },
  {
   "attachments": {},
   "cell_type": "markdown",
   "metadata": {},
   "source": [
    "## Load data"
   ]
  },
  {
   "cell_type": "code",
   "execution_count": 29,
   "metadata": {},
   "outputs": [
    {
     "data": {
      "text/html": [
       "<div><div style = \"float: left;\"><span>113×7 DataFrame</span></div><div style = \"float: right;\"><span style = \"font-style: italic;\">88 rows omitted</span></div><div style = \"clear: both;\"></div></div><div class = \"data-frame\" style = \"overflow-x: scroll;\"><table class = \"data-frame\" style = \"margin-bottom: 6px;\"><thead><tr class = \"header\"><th class = \"rowNumber\" style = \"font-weight: bold; text-align: right;\">Row</th><th style = \"text-align: left;\"></th><th style = \"text-align: left;\">rider</th><th style = \"text-align: left;\">team</th><th style = \"text-align: left;\">vgcost</th><th style = \"text-align: left;\">points</th><th style = \"text-align: left;\">riderkey</th><th style = \"text-align: left;\">value</th></tr><tr class = \"subheader headerLastRow\"><th class = \"rowNumber\" style = \"font-weight: bold; text-align: right;\"></th><th title = \"String\" style = \"text-align: left;\">String</th><th title = \"String\" style = \"text-align: left;\">String</th><th title = \"String\" style = \"text-align: left;\">String</th><th title = \"Int64\" style = \"text-align: left;\">Int64</th><th title = \"Float64\" style = \"text-align: left;\">Float64</th><th title = \"String\" style = \"text-align: left;\">String</th><th title = \"Float64\" style = \"text-align: left;\">Float64</th></tr></thead><tbody><tr><td class = \"rowNumber\" style = \"font-weight: bold; text-align: right;\">1</td><td style = \"text-align: left;\"></td><td style = \"text-align: left;\">Demi Vollering</td><td style = \"text-align: left;\">Team SD Worx</td><td style = \"text-align: right;\">32</td><td style = \"text-align: right;\">0.0</td><td style = \"text-align: left;\">deegiillmnorv</td><td style = \"text-align: right;\">0.0</td></tr><tr><td class = \"rowNumber\" style = \"font-weight: bold; text-align: right;\">2</td><td style = \"text-align: left;\"></td><td style = \"text-align: left;\">Annemiek Van Vleuten</td><td style = \"text-align: left;\">Movistar Team</td><td style = \"text-align: right;\">24</td><td style = \"text-align: right;\">0.0</td><td style = \"text-align: left;\">aaeeeeiklmnnnntuvv</td><td style = \"text-align: right;\">0.0</td></tr><tr><td class = \"rowNumber\" style = \"font-weight: bold; text-align: right;\">3</td><td style = \"text-align: left;\"></td><td style = \"text-align: left;\">Liane Lippert</td><td style = \"text-align: left;\">Movistar Team</td><td style = \"text-align: right;\">20</td><td style = \"text-align: right;\">0.0</td><td style = \"text-align: left;\">aeeiillnpprt</td><td style = \"text-align: right;\">0.0</td></tr><tr><td class = \"rowNumber\" style = \"font-weight: bold; text-align: right;\">4</td><td style = \"text-align: left;\"></td><td style = \"text-align: left;\">Katarzyna Niewiadoma</td><td style = \"text-align: left;\">Canyon//SRAM Racing</td><td style = \"text-align: right;\">18</td><td style = \"text-align: right;\">0.0</td><td style = \"text-align: left;\">aaaaadeiikmnnortwyz</td><td style = \"text-align: right;\">0.0</td></tr><tr><td class = \"rowNumber\" style = \"font-weight: bold; text-align: right;\">5</td><td style = \"text-align: left;\"></td><td style = \"text-align: left;\">Évita Muzic</td><td style = \"text-align: left;\">FDJ - SUEZ</td><td style = \"text-align: right;\">18</td><td style = \"text-align: right;\">0.0</td><td style = \"text-align: left;\">aciimtuvz</td><td style = \"text-align: right;\">0.0</td></tr><tr><td class = \"rowNumber\" style = \"font-weight: bold; text-align: right;\">6</td><td style = \"text-align: left;\"></td><td style = \"text-align: left;\">Pauliena Rooijakkers</td><td style = \"text-align: left;\">Canyon//SRAM Racing</td><td style = \"text-align: right;\">14</td><td style = \"text-align: right;\">0.0</td><td style = \"text-align: left;\">aaaeeiijkklnooprrsu</td><td style = \"text-align: right;\">0.0</td></tr><tr><td class = \"rowNumber\" style = \"font-weight: bold; text-align: right;\">7</td><td style = \"text-align: left;\"></td><td style = \"text-align: left;\">Marta Cavalli</td><td style = \"text-align: left;\">FDJ - SUEZ</td><td style = \"text-align: right;\">14</td><td style = \"text-align: right;\">0.0</td><td style = \"text-align: left;\">aaaacillmrtv</td><td style = \"text-align: right;\">0.0</td></tr><tr><td class = \"rowNumber\" style = \"font-weight: bold; text-align: right;\">8</td><td style = \"text-align: left;\"></td><td style = \"text-align: left;\">Marlen Reusser</td><td style = \"text-align: left;\">Team SD Worx</td><td style = \"text-align: right;\">14</td><td style = \"text-align: right;\">0.0</td><td style = \"text-align: left;\">aeeelmnrrrssu</td><td style = \"text-align: right;\">0.0</td></tr><tr><td class = \"rowNumber\" style = \"font-weight: bold; text-align: right;\">9</td><td style = \"text-align: left;\"></td><td style = \"text-align: left;\">Krista Doebel-Hickok</td><td style = \"text-align: left;\">EF Education-TIBCO-SVB</td><td style = \"text-align: right;\">12</td><td style = \"text-align: right;\">0.0</td><td style = \"text-align: left;\">abcdeehiikkkloorst</td><td style = \"text-align: right;\">0.0</td></tr><tr><td class = \"rowNumber\" style = \"font-weight: bold; text-align: right;\">10</td><td style = \"text-align: left;\"></td><td style = \"text-align: left;\">Loes Adegeest</td><td style = \"text-align: left;\">FDJ - SUEZ</td><td style = \"text-align: right;\">12</td><td style = \"text-align: right;\">0.0</td><td style = \"text-align: left;\">adeeeeglosst</td><td style = \"text-align: right;\">0.0</td></tr><tr><td class = \"rowNumber\" style = \"font-weight: bold; text-align: right;\">11</td><td style = \"text-align: left;\"></td><td style = \"text-align: left;\">Niamh Fisher-Black</td><td style = \"text-align: left;\">Team SD Worx</td><td style = \"text-align: right;\">12</td><td style = \"text-align: right;\">0.0</td><td style = \"text-align: left;\">aabcefhhiiklmnrs</td><td style = \"text-align: right;\">0.0</td></tr><tr><td class = \"rowNumber\" style = \"font-weight: bold; text-align: right;\">12</td><td style = \"text-align: left;\"></td><td style = \"text-align: left;\">Sofia Bertizzolo</td><td style = \"text-align: left;\">UAE Team ADQ</td><td style = \"text-align: right;\">12</td><td style = \"text-align: right;\">0.0</td><td style = \"text-align: left;\">abefiilooorstzz</td><td style = \"text-align: right;\">0.0</td></tr><tr><td class = \"rowNumber\" style = \"font-weight: bold; text-align: right;\">13</td><td style = \"text-align: left;\"></td><td style = \"text-align: left;\">Soraya Paladin</td><td style = \"text-align: left;\">Canyon//SRAM Racing</td><td style = \"text-align: right;\">10</td><td style = \"text-align: right;\">0.0</td><td style = \"text-align: left;\">aaaadilnoprsy</td><td style = \"text-align: right;\">0.0</td></tr><tr><td style = \"text-align: right;\">&vellip;</td><td style = \"text-align: right;\">&vellip;</td><td style = \"text-align: right;\">&vellip;</td><td style = \"text-align: right;\">&vellip;</td><td style = \"text-align: right;\">&vellip;</td><td style = \"text-align: right;\">&vellip;</td><td style = \"text-align: right;\">&vellip;</td><td style = \"text-align: right;\">&vellip;</td></tr><tr><td class = \"rowNumber\" style = \"font-weight: bold; text-align: right;\">102</td><td style = \"text-align: left;\"></td><td style = \"text-align: left;\">Nahia Imaz</td><td style = \"text-align: left;\">Sopela Women&apos;s Team</td><td style = \"text-align: right;\">4</td><td style = \"text-align: right;\">0.0</td><td style = \"text-align: left;\">aaahiimnz</td><td style = \"text-align: right;\">0.0</td></tr><tr><td class = \"rowNumber\" style = \"font-weight: bold; text-align: right;\">103</td><td style = \"text-align: left;\"></td><td style = \"text-align: left;\">Sarah Kastenhuber</td><td style = \"text-align: left;\">Sopela Women&apos;s Team</td><td style = \"text-align: right;\">4</td><td style = \"text-align: right;\">0.0</td><td style = \"text-align: left;\">aaabeehhknrrsstu</td><td style = \"text-align: right;\">0.0</td></tr><tr><td class = \"rowNumber\" style = \"font-weight: bold; text-align: right;\">104</td><td style = \"text-align: left;\"></td><td style = \"text-align: left;\">Allison Mrugal</td><td style = \"text-align: left;\">Sopela Women&apos;s Team</td><td style = \"text-align: right;\">4</td><td style = \"text-align: right;\">0.0</td><td style = \"text-align: left;\">aagilllmnorsu</td><td style = \"text-align: right;\">0.0</td></tr><tr><td class = \"rowNumber\" style = \"font-weight: bold; text-align: right;\">105</td><td style = \"text-align: left;\"></td><td style = \"text-align: left;\">Agustina Reyes</td><td style = \"text-align: left;\">Sopela Women&apos;s Team</td><td style = \"text-align: right;\">4</td><td style = \"text-align: right;\">0.0</td><td style = \"text-align: left;\">aaeeginrsstuy</td><td style = \"text-align: right;\">0.0</td></tr><tr><td class = \"rowNumber\" style = \"font-weight: bold; text-align: right;\">106</td><td style = \"text-align: left;\"></td><td style = \"text-align: left;\">Stine Dale</td><td style = \"text-align: left;\">Team Coop - Hitec Products</td><td style = \"text-align: right;\">4</td><td style = \"text-align: right;\">0.0</td><td style = \"text-align: left;\">adeeilnst</td><td style = \"text-align: right;\">0.0</td></tr><tr><td class = \"rowNumber\" style = \"font-weight: bold; text-align: right;\">107</td><td style = \"text-align: left;\"></td><td style = \"text-align: left;\">Tiril Jørgensen</td><td style = \"text-align: left;\">Team Coop - Hitec Products</td><td style = \"text-align: right;\">4</td><td style = \"text-align: right;\">0.0</td><td style = \"text-align: left;\">eegiijlnnrrst</td><td style = \"text-align: right;\">0.0</td></tr><tr><td class = \"rowNumber\" style = \"font-weight: bold; text-align: right;\">108</td><td style = \"text-align: left;\"></td><td style = \"text-align: left;\">Ilona Feytou</td><td style = \"text-align: left;\">Team Groupe Abadie</td><td style = \"text-align: right;\">4</td><td style = \"text-align: right;\">0.0</td><td style = \"text-align: left;\">aefilnootuy</td><td style = \"text-align: right;\">0.0</td></tr><tr><td class = \"rowNumber\" style = \"font-weight: bold; text-align: right;\">109</td><td style = \"text-align: left;\"></td><td style = \"text-align: left;\">Leonie Laubig</td><td style = \"text-align: left;\">Team Groupe Abadie</td><td style = \"text-align: right;\">4</td><td style = \"text-align: right;\">0.0</td><td style = \"text-align: left;\">abeegiillnou</td><td style = \"text-align: right;\">0.0</td></tr><tr><td class = \"rowNumber\" style = \"font-weight: bold; text-align: right;\">110</td><td style = \"text-align: left;\"></td><td style = \"text-align: left;\">Emma Ortiz Bonilla</td><td style = \"text-align: left;\">Team Groupe Abadie</td><td style = \"text-align: right;\">4</td><td style = \"text-align: right;\">0.0</td><td style = \"text-align: left;\">aabeiillmmnoortz</td><td style = \"text-align: right;\">0.0</td></tr><tr><td class = \"rowNumber\" style = \"font-weight: bold; text-align: right;\">111</td><td style = \"text-align: left;\"></td><td style = \"text-align: left;\">Inès van der Linden</td><td style = \"text-align: left;\">Team Groupe Abadie</td><td style = \"text-align: right;\">4</td><td style = \"text-align: right;\">0.0</td><td style = \"text-align: left;\">addeeiilnnnnrsv</td><td style = \"text-align: right;\">0.0</td></tr><tr><td class = \"rowNumber\" style = \"font-weight: bold; text-align: right;\">112</td><td style = \"text-align: left;\"></td><td style = \"text-align: left;\">Carlijn Achtereekte</td><td style = \"text-align: left;\">Team Jumbo-Visma</td><td style = \"text-align: right;\">4</td><td style = \"text-align: right;\">0.0</td><td style = \"text-align: left;\">aacceeeehijklnrrtt</td><td style = \"text-align: right;\">0.0</td></tr><tr><td class = \"rowNumber\" style = \"font-weight: bold; text-align: right;\">113</td><td style = \"text-align: left;\"></td><td style = \"text-align: left;\">Rosita Reijnhout</td><td style = \"text-align: left;\">Team Jumbo-Visma</td><td style = \"text-align: right;\">4</td><td style = \"text-align: right;\">0.0</td><td style = \"text-align: left;\">aehiijnoorrsttu</td><td style = \"text-align: right;\">0.0</td></tr></tbody></table></div>"
      ],
      "text/latex": [
       "\\begin{tabular}{r|cccccc}\n",
       "\t&  & rider & team & vgcost & points & \\\\\n",
       "\t\\hline\n",
       "\t& String & String & String & Int64 & Float64 & \\\\\n",
       "\t\\hline\n",
       "\t1 &  & Demi Vollering & Team SD Worx & 32 & 0.0 & $\\dots$ \\\\\n",
       "\t2 &  & Annemiek Van Vleuten & Movistar Team & 24 & 0.0 & $\\dots$ \\\\\n",
       "\t3 &  & Liane Lippert & Movistar Team & 20 & 0.0 & $\\dots$ \\\\\n",
       "\t4 &  & Katarzyna Niewiadoma & Canyon//SRAM Racing & 18 & 0.0 & $\\dots$ \\\\\n",
       "\t5 &  & Évita Muzic & FDJ - SUEZ & 18 & 0.0 & $\\dots$ \\\\\n",
       "\t6 &  & Pauliena Rooijakkers & Canyon//SRAM Racing & 14 & 0.0 & $\\dots$ \\\\\n",
       "\t7 &  & Marta Cavalli & FDJ - SUEZ & 14 & 0.0 & $\\dots$ \\\\\n",
       "\t8 &  & Marlen Reusser & Team SD Worx & 14 & 0.0 & $\\dots$ \\\\\n",
       "\t9 &  & Krista Doebel-Hickok & EF Education-TIBCO-SVB & 12 & 0.0 & $\\dots$ \\\\\n",
       "\t10 &  & Loes Adegeest & FDJ - SUEZ & 12 & 0.0 & $\\dots$ \\\\\n",
       "\t11 &  & Niamh Fisher-Black & Team SD Worx & 12 & 0.0 & $\\dots$ \\\\\n",
       "\t12 &  & Sofia Bertizzolo & UAE Team ADQ & 12 & 0.0 & $\\dots$ \\\\\n",
       "\t13 &  & Soraya Paladin & Canyon//SRAM Racing & 10 & 0.0 & $\\dots$ \\\\\n",
       "\t14 &  & Veronica Ewers & EF Education-TIBCO-SVB & 10 & 0.0 & $\\dots$ \\\\\n",
       "\t15 &  & Tamara Dronova-Balabolina & Israel Premier Tech Roland & 10 & 0.0 & $\\dots$ \\\\\n",
       "\t16 &  & Emma Norsgaard & Movistar Team & 10 & 0.0 & $\\dots$ \\\\\n",
       "\t17 &  & Paula Patiño & Movistar Team & 10 & 0.0 & $\\dots$ \\\\\n",
       "\t18 &  & Mischa Bredewold & Team SD Worx & 10 & 0.0 & $\\dots$ \\\\\n",
       "\t19 &  & Blanka Vas & Team SD Worx & 10 & 0.0 & $\\dots$ \\\\\n",
       "\t20 &  & Olivia Baril & UAE Team ADQ & 10 & 0.0 & $\\dots$ \\\\\n",
       "\t21 &  & Silvia Zanardi & Bepink & 8 & 0.0 & $\\dots$ \\\\\n",
       "\t22 &  & Georgia Williams & EF Education-TIBCO-SVB & 8 & 0.0 & $\\dots$ \\\\\n",
       "\t23 &  & Marie Le Net & FDJ - SUEZ & 8 & 0.0 & $\\dots$ \\\\\n",
       "\t24 &  & Gladys Verhulst & FDJ - SUEZ & 8 & 0.0 & $\\dots$ \\\\\n",
       "\t25 &  & Anna Kiesenhofer & Israel Premier Tech Roland & 8 & 0.0 & $\\dots$ \\\\\n",
       "\t26 &  & Claire Steels & Israel Premier Tech Roland & 8 & 0.0 & $\\dots$ \\\\\n",
       "\t27 &  & Eider Merino & Laboral Kutxa Fundación Euskadi & 8 & 0.0 & $\\dots$ \\\\\n",
       "\t28 &  & Margaux Vigie & Lifeplus Wahoo & 8 & 0.0 & $\\dots$ \\\\\n",
       "\t29 &  & Sara Martín & Movistar Team & 8 & 0.0 & $\\dots$ \\\\\n",
       "\t30 &  & Amber Kraak & Team Jumbo-Visma & 8 & 0.0 & $\\dots$ \\\\\n",
       "\t$\\dots$ & $\\dots$ & $\\dots$ & $\\dots$ & $\\dots$ & $\\dots$ &  \\\\\n",
       "\\end{tabular}\n"
      ],
      "text/plain": [
       "\u001b[1m113×7 DataFrame\u001b[0m\n",
       "\u001b[1m Row \u001b[0m│\u001b[1m        \u001b[0m\u001b[1m rider                \u001b[0m\u001b[1m team                       \u001b[0m\u001b[1m vgcost \u001b[0m\u001b[1m point\u001b[0m ⋯\n",
       "     │\u001b[90m String \u001b[0m\u001b[90m String               \u001b[0m\u001b[90m String                     \u001b[0m\u001b[90m Int64  \u001b[0m\u001b[90m Float\u001b[0m ⋯\n",
       "─────┼──────────────────────────────────────────────────────────────────────────\n",
       "   1 │         Demi Vollering        Team SD Worx                    32      0 ⋯\n",
       "   2 │         Annemiek Van Vleuten  Movistar Team                   24      0\n",
       "   3 │         Liane Lippert         Movistar Team                   20      0\n",
       "   4 │         Katarzyna Niewiadoma  Canyon//SRAM Racing             18      0\n",
       "   5 │         Évita Muzic           FDJ - SUEZ                      18      0 ⋯\n",
       "   6 │         Pauliena Rooijakkers  Canyon//SRAM Racing             14      0\n",
       "   7 │         Marta Cavalli         FDJ - SUEZ                      14      0\n",
       "   8 │         Marlen Reusser        Team SD Worx                    14      0\n",
       "   9 │         Krista Doebel-Hickok  EF Education-TIBCO-SVB          12      0 ⋯\n",
       "  10 │         Loes Adegeest         FDJ - SUEZ                      12      0\n",
       "  11 │         Niamh Fisher-Black    Team SD Worx                    12      0\n",
       "  ⋮  │   ⋮              ⋮                        ⋮                 ⋮        ⋮  ⋱\n",
       " 104 │         Allison Mrugal        Sopela Women's Team              4      0\n",
       " 105 │         Agustina Reyes        Sopela Women's Team              4      0 ⋯\n",
       " 106 │         Stine Dale            Team Coop - Hitec Products       4      0\n",
       " 107 │         Tiril Jørgensen       Team Coop - Hitec Products       4      0\n",
       " 108 │         Ilona Feytou          Team Groupe Abadie               4      0\n",
       " 109 │         Leonie Laubig         Team Groupe Abadie               4      0 ⋯\n",
       " 110 │         Emma Ortiz Bonilla    Team Groupe Abadie               4      0\n",
       " 111 │         Inès van der Linden   Team Groupe Abadie               4      0\n",
       " 112 │         Carlijn Achtereekte   Team Jumbo-Visma                 4      0\n",
       " 113 │         Rosita Reijnhout      Team Jumbo-Visma                 4      0 ⋯\n",
       "\u001b[36m                                                   3 columns and 92 rows omitted\u001b[0m"
      ]
     },
     "execution_count": 29,
     "metadata": {},
     "output_type": "execute_result"
    }
   ],
   "source": [
    "# pull the data on riders and their current points\n",
    "rider_df = getvgriders(\"https://www.velogames.com/itzulia-women/2023/riders.php\")\n",
    "# rename cost to vgcost\n",
    "rename!(rider_df, :cost => :vgcost)"
   ]
  },
  {
   "cell_type": "code",
   "execution_count": 30,
   "metadata": {},
   "outputs": [],
   "source": [
    "mycols = [:gc_we, :oneday_we]\n",
    "# getpcsranking for each col, filter the dataframe to only the points and riderkey columns, and rename the points column to the col name.\n",
    "pcs_dfs = map(mycols) do col\n",
    "    rename(getpcsranking(col), :points => col)[:, [col, :riderkey]]\n",
    "end\n",
    "\n",
    "# use reduce to join all dataframes in pcs_dfs on the riderkey column\n",
    "pcs_df = reduce((x, y) -> outerjoin(x, y, on=:riderkey), pcs_dfs)\n",
    "\n",
    "# join the velogames and pcs dataframes on the riderkey column\n",
    "rider_df = leftjoin(rider_df, pcs_df, on=:riderkey)\n",
    "rider_df = coalesce.(rider_df, 0)\n",
    "\n",
    "# create calcpcsscore column which is the sum of All Rounder * gc, Sprinter * sprint, Climber * mountain, and Unclassed * overall\n",
    "rider_df.calc_score = mean([rider_df.gc_we, rider_df.oneday_we]);"
   ]
  },
  {
   "cell_type": "code",
   "execution_count": 31,
   "metadata": {},
   "outputs": [
    {
     "data": {
      "text/html": [
       "<div><div style = \"float: left;\"><span>113×10 DataFrame</span></div><div style = \"float: right;\"><span style = \"font-style: italic;\">88 rows omitted</span></div><div style = \"clear: both;\"></div></div><div class = \"data-frame\" style = \"overflow-x: scroll;\"><table class = \"data-frame\" style = \"margin-bottom: 6px;\"><thead><tr class = \"header\"><th class = \"rowNumber\" style = \"font-weight: bold; text-align: right;\">Row</th><th style = \"text-align: left;\"></th><th style = \"text-align: left;\">rider</th><th style = \"text-align: left;\">team</th><th style = \"text-align: left;\">vgcost</th><th style = \"text-align: left;\">points</th><th style = \"text-align: left;\">riderkey</th><th style = \"text-align: left;\">value</th><th style = \"text-align: left;\">gc_we</th><th style = \"text-align: left;\">oneday_we</th><th style = \"text-align: left;\">calc_score</th></tr><tr class = \"subheader headerLastRow\"><th class = \"rowNumber\" style = \"font-weight: bold; text-align: right;\"></th><th title = \"String\" style = \"text-align: left;\">String</th><th title = \"String\" style = \"text-align: left;\">String</th><th title = \"String\" style = \"text-align: left;\">String</th><th title = \"Int64\" style = \"text-align: left;\">Int64</th><th title = \"Float64\" style = \"text-align: left;\">Float64</th><th title = \"String\" style = \"text-align: left;\">String</th><th title = \"Float64\" style = \"text-align: left;\">Float64</th><th title = \"Float64\" style = \"text-align: left;\">Float64</th><th title = \"Float64\" style = \"text-align: left;\">Float64</th><th title = \"Float64\" style = \"text-align: left;\">Float64</th></tr></thead><tbody><tr><td class = \"rowNumber\" style = \"font-weight: bold; text-align: right;\">1</td><td style = \"text-align: left;\"></td><td style = \"text-align: left;\">Demi Vollering</td><td style = \"text-align: left;\">Team SD Worx</td><td style = \"text-align: right;\">32</td><td style = \"text-align: right;\">0.0</td><td style = \"text-align: left;\">deegiillmnorv</td><td style = \"text-align: right;\">0.0</td><td style = \"text-align: right;\">876.0</td><td style = \"text-align: right;\">1289.0</td><td style = \"text-align: right;\">1082.5</td></tr><tr><td class = \"rowNumber\" style = \"font-weight: bold; text-align: right;\">2</td><td style = \"text-align: left;\"></td><td style = \"text-align: left;\">Annemiek Van Vleuten</td><td style = \"text-align: left;\">Movistar Team</td><td style = \"text-align: right;\">24</td><td style = \"text-align: right;\">0.0</td><td style = \"text-align: left;\">aaeeeeiklmnnnntuvv</td><td style = \"text-align: right;\">0.0</td><td style = \"text-align: right;\">1040.0</td><td style = \"text-align: right;\">621.0</td><td style = \"text-align: right;\">830.5</td></tr><tr><td class = \"rowNumber\" style = \"font-weight: bold; text-align: right;\">3</td><td style = \"text-align: left;\"></td><td style = \"text-align: left;\">Liane Lippert</td><td style = \"text-align: left;\">Movistar Team</td><td style = \"text-align: right;\">20</td><td style = \"text-align: right;\">0.0</td><td style = \"text-align: left;\">aeeiillnpprt</td><td style = \"text-align: right;\">0.0</td><td style = \"text-align: right;\">668.0</td><td style = \"text-align: right;\">614.0</td><td style = \"text-align: right;\">641.0</td></tr><tr><td class = \"rowNumber\" style = \"font-weight: bold; text-align: right;\">4</td><td style = \"text-align: left;\"></td><td style = \"text-align: left;\">Marlen Reusser</td><td style = \"text-align: left;\">Team SD Worx</td><td style = \"text-align: right;\">14</td><td style = \"text-align: right;\">0.0</td><td style = \"text-align: left;\">aeeelmnrrrssu</td><td style = \"text-align: right;\">0.0</td><td style = \"text-align: right;\">142.0</td><td style = \"text-align: right;\">566.0</td><td style = \"text-align: right;\">354.0</td></tr><tr><td class = \"rowNumber\" style = \"font-weight: bold; text-align: right;\">5</td><td style = \"text-align: left;\"></td><td style = \"text-align: left;\">Katarzyna Niewiadoma</td><td style = \"text-align: left;\">Canyon//SRAM Racing</td><td style = \"text-align: right;\">18</td><td style = \"text-align: right;\">0.0</td><td style = \"text-align: left;\">aaaaadeiikmnnortwyz</td><td style = \"text-align: right;\">0.0</td><td style = \"text-align: right;\">498.0</td><td style = \"text-align: right;\">459.0</td><td style = \"text-align: right;\">478.5</td></tr><tr><td class = \"rowNumber\" style = \"font-weight: bold; text-align: right;\">6</td><td style = \"text-align: left;\"></td><td style = \"text-align: left;\">Karlijn Swinkels</td><td style = \"text-align: left;\">Team Jumbo-Visma</td><td style = \"text-align: right;\">8</td><td style = \"text-align: right;\">0.0</td><td style = \"text-align: left;\">aeiijkkllnnrssw</td><td style = \"text-align: right;\">0.0</td><td style = \"text-align: right;\">243.0</td><td style = \"text-align: right;\">338.0</td><td style = \"text-align: right;\">290.5</td></tr><tr><td class = \"rowNumber\" style = \"font-weight: bold; text-align: right;\">7</td><td style = \"text-align: left;\"></td><td style = \"text-align: left;\">Loes Adegeest</td><td style = \"text-align: left;\">FDJ - SUEZ</td><td style = \"text-align: right;\">12</td><td style = \"text-align: right;\">0.0</td><td style = \"text-align: left;\">adeeeeglosst</td><td style = \"text-align: right;\">0.0</td><td style = \"text-align: right;\">217.0</td><td style = \"text-align: right;\">326.0</td><td style = \"text-align: right;\">271.5</td></tr><tr><td class = \"rowNumber\" style = \"font-weight: bold; text-align: right;\">8</td><td style = \"text-align: left;\"></td><td style = \"text-align: left;\">Soraya Paladin</td><td style = \"text-align: left;\">Canyon//SRAM Racing</td><td style = \"text-align: right;\">10</td><td style = \"text-align: right;\">0.0</td><td style = \"text-align: left;\">aaaadilnoprsy</td><td style = \"text-align: right;\">0.0</td><td style = \"text-align: right;\">180.0</td><td style = \"text-align: right;\">325.0</td><td style = \"text-align: right;\">252.5</td></tr><tr><td class = \"rowNumber\" style = \"font-weight: bold; text-align: right;\">9</td><td style = \"text-align: left;\"></td><td style = \"text-align: left;\">Tamara Dronova-Balabolina</td><td style = \"text-align: left;\">Israel Premier Tech Roland</td><td style = \"text-align: right;\">10</td><td style = \"text-align: right;\">0.0</td><td style = \"text-align: left;\">aaaaaaabbdillmnnooorrtv</td><td style = \"text-align: right;\">0.0</td><td style = \"text-align: right;\">268.0</td><td style = \"text-align: right;\">297.0</td><td style = \"text-align: right;\">282.5</td></tr><tr><td class = \"rowNumber\" style = \"font-weight: bold; text-align: right;\">10</td><td style = \"text-align: left;\"></td><td style = \"text-align: left;\">Veronica Ewers</td><td style = \"text-align: left;\">EF Education-TIBCO-SVB</td><td style = \"text-align: right;\">10</td><td style = \"text-align: right;\">0.0</td><td style = \"text-align: left;\">aceeeinorrsvw</td><td style = \"text-align: right;\">0.0</td><td style = \"text-align: right;\">540.0</td><td style = \"text-align: right;\">262.0</td><td style = \"text-align: right;\">401.0</td></tr><tr><td class = \"rowNumber\" style = \"font-weight: bold; text-align: right;\">11</td><td style = \"text-align: left;\"></td><td style = \"text-align: left;\">Emma Norsgaard</td><td style = \"text-align: left;\">Movistar Team</td><td style = \"text-align: right;\">10</td><td style = \"text-align: right;\">0.0</td><td style = \"text-align: left;\">aaadegmmnorrs</td><td style = \"text-align: right;\">0.0</td><td style = \"text-align: right;\">175.0</td><td style = \"text-align: right;\">255.0</td><td style = \"text-align: right;\">215.0</td></tr><tr><td class = \"rowNumber\" style = \"font-weight: bold; text-align: right;\">12</td><td style = \"text-align: left;\"></td><td style = \"text-align: left;\">Évita Muzic</td><td style = \"text-align: left;\">FDJ - SUEZ</td><td style = \"text-align: right;\">18</td><td style = \"text-align: right;\">0.0</td><td style = \"text-align: left;\">aciimtuvz</td><td style = \"text-align: right;\">0.0</td><td style = \"text-align: right;\">455.0</td><td style = \"text-align: right;\">245.0</td><td style = \"text-align: right;\">350.0</td></tr><tr><td class = \"rowNumber\" style = \"font-weight: bold; text-align: right;\">13</td><td style = \"text-align: left;\"></td><td style = \"text-align: left;\">Sofia Bertizzolo</td><td style = \"text-align: left;\">UAE Team ADQ</td><td style = \"text-align: right;\">12</td><td style = \"text-align: right;\">0.0</td><td style = \"text-align: left;\">abefiilooorstzz</td><td style = \"text-align: right;\">0.0</td><td style = \"text-align: right;\">179.0</td><td style = \"text-align: right;\">227.0</td><td style = \"text-align: right;\">203.0</td></tr><tr><td style = \"text-align: right;\">&vellip;</td><td style = \"text-align: right;\">&vellip;</td><td style = \"text-align: right;\">&vellip;</td><td style = \"text-align: right;\">&vellip;</td><td style = \"text-align: right;\">&vellip;</td><td style = \"text-align: right;\">&vellip;</td><td style = \"text-align: right;\">&vellip;</td><td style = \"text-align: right;\">&vellip;</td><td style = \"text-align: right;\">&vellip;</td><td style = \"text-align: right;\">&vellip;</td><td style = \"text-align: right;\">&vellip;</td></tr><tr><td class = \"rowNumber\" style = \"font-weight: bold; text-align: right;\">102</td><td style = \"text-align: left;\"></td><td style = \"text-align: left;\">Nahia Imaz</td><td style = \"text-align: left;\">Sopela Women&apos;s Team</td><td style = \"text-align: right;\">4</td><td style = \"text-align: right;\">0.0</td><td style = \"text-align: left;\">aaahiimnz</td><td style = \"text-align: right;\">0.0</td><td style = \"text-align: right;\">0.0</td><td style = \"text-align: right;\">0.0</td><td style = \"text-align: right;\">0.0</td></tr><tr><td class = \"rowNumber\" style = \"font-weight: bold; text-align: right;\">103</td><td style = \"text-align: left;\"></td><td style = \"text-align: left;\">Sarah Kastenhuber</td><td style = \"text-align: left;\">Sopela Women&apos;s Team</td><td style = \"text-align: right;\">4</td><td style = \"text-align: right;\">0.0</td><td style = \"text-align: left;\">aaabeehhknrrsstu</td><td style = \"text-align: right;\">0.0</td><td style = \"text-align: right;\">0.0</td><td style = \"text-align: right;\">0.0</td><td style = \"text-align: right;\">0.0</td></tr><tr><td class = \"rowNumber\" style = \"font-weight: bold; text-align: right;\">104</td><td style = \"text-align: left;\"></td><td style = \"text-align: left;\">Allison Mrugal</td><td style = \"text-align: left;\">Sopela Women&apos;s Team</td><td style = \"text-align: right;\">4</td><td style = \"text-align: right;\">0.0</td><td style = \"text-align: left;\">aagilllmnorsu</td><td style = \"text-align: right;\">0.0</td><td style = \"text-align: right;\">0.0</td><td style = \"text-align: right;\">0.0</td><td style = \"text-align: right;\">0.0</td></tr><tr><td class = \"rowNumber\" style = \"font-weight: bold; text-align: right;\">105</td><td style = \"text-align: left;\"></td><td style = \"text-align: left;\">Agustina Reyes</td><td style = \"text-align: left;\">Sopela Women&apos;s Team</td><td style = \"text-align: right;\">4</td><td style = \"text-align: right;\">0.0</td><td style = \"text-align: left;\">aaeeginrsstuy</td><td style = \"text-align: right;\">0.0</td><td style = \"text-align: right;\">0.0</td><td style = \"text-align: right;\">0.0</td><td style = \"text-align: right;\">0.0</td></tr><tr><td class = \"rowNumber\" style = \"font-weight: bold; text-align: right;\">106</td><td style = \"text-align: left;\"></td><td style = \"text-align: left;\">Stine Dale</td><td style = \"text-align: left;\">Team Coop - Hitec Products</td><td style = \"text-align: right;\">4</td><td style = \"text-align: right;\">0.0</td><td style = \"text-align: left;\">adeeilnst</td><td style = \"text-align: right;\">0.0</td><td style = \"text-align: right;\">0.0</td><td style = \"text-align: right;\">0.0</td><td style = \"text-align: right;\">0.0</td></tr><tr><td class = \"rowNumber\" style = \"font-weight: bold; text-align: right;\">107</td><td style = \"text-align: left;\"></td><td style = \"text-align: left;\">Tiril Jørgensen</td><td style = \"text-align: left;\">Team Coop - Hitec Products</td><td style = \"text-align: right;\">4</td><td style = \"text-align: right;\">0.0</td><td style = \"text-align: left;\">eegiijlnnrrst</td><td style = \"text-align: right;\">0.0</td><td style = \"text-align: right;\">0.0</td><td style = \"text-align: right;\">0.0</td><td style = \"text-align: right;\">0.0</td></tr><tr><td class = \"rowNumber\" style = \"font-weight: bold; text-align: right;\">108</td><td style = \"text-align: left;\"></td><td style = \"text-align: left;\">Ilona Feytou</td><td style = \"text-align: left;\">Team Groupe Abadie</td><td style = \"text-align: right;\">4</td><td style = \"text-align: right;\">0.0</td><td style = \"text-align: left;\">aefilnootuy</td><td style = \"text-align: right;\">0.0</td><td style = \"text-align: right;\">0.0</td><td style = \"text-align: right;\">0.0</td><td style = \"text-align: right;\">0.0</td></tr><tr><td class = \"rowNumber\" style = \"font-weight: bold; text-align: right;\">109</td><td style = \"text-align: left;\"></td><td style = \"text-align: left;\">Leonie Laubig</td><td style = \"text-align: left;\">Team Groupe Abadie</td><td style = \"text-align: right;\">4</td><td style = \"text-align: right;\">0.0</td><td style = \"text-align: left;\">abeegiillnou</td><td style = \"text-align: right;\">0.0</td><td style = \"text-align: right;\">0.0</td><td style = \"text-align: right;\">0.0</td><td style = \"text-align: right;\">0.0</td></tr><tr><td class = \"rowNumber\" style = \"font-weight: bold; text-align: right;\">110</td><td style = \"text-align: left;\"></td><td style = \"text-align: left;\">Emma Ortiz Bonilla</td><td style = \"text-align: left;\">Team Groupe Abadie</td><td style = \"text-align: right;\">4</td><td style = \"text-align: right;\">0.0</td><td style = \"text-align: left;\">aabeiillmmnoortz</td><td style = \"text-align: right;\">0.0</td><td style = \"text-align: right;\">0.0</td><td style = \"text-align: right;\">0.0</td><td style = \"text-align: right;\">0.0</td></tr><tr><td class = \"rowNumber\" style = \"font-weight: bold; text-align: right;\">111</td><td style = \"text-align: left;\"></td><td style = \"text-align: left;\">Inès van der Linden</td><td style = \"text-align: left;\">Team Groupe Abadie</td><td style = \"text-align: right;\">4</td><td style = \"text-align: right;\">0.0</td><td style = \"text-align: left;\">addeeiilnnnnrsv</td><td style = \"text-align: right;\">0.0</td><td style = \"text-align: right;\">0.0</td><td style = \"text-align: right;\">0.0</td><td style = \"text-align: right;\">0.0</td></tr><tr><td class = \"rowNumber\" style = \"font-weight: bold; text-align: right;\">112</td><td style = \"text-align: left;\"></td><td style = \"text-align: left;\">Carlijn Achtereekte</td><td style = \"text-align: left;\">Team Jumbo-Visma</td><td style = \"text-align: right;\">4</td><td style = \"text-align: right;\">0.0</td><td style = \"text-align: left;\">aacceeeehijklnrrtt</td><td style = \"text-align: right;\">0.0</td><td style = \"text-align: right;\">0.0</td><td style = \"text-align: right;\">0.0</td><td style = \"text-align: right;\">0.0</td></tr><tr><td class = \"rowNumber\" style = \"font-weight: bold; text-align: right;\">113</td><td style = \"text-align: left;\"></td><td style = \"text-align: left;\">Rosita Reijnhout</td><td style = \"text-align: left;\">Team Jumbo-Visma</td><td style = \"text-align: right;\">4</td><td style = \"text-align: right;\">0.0</td><td style = \"text-align: left;\">aehiijnoorrsttu</td><td style = \"text-align: right;\">0.0</td><td style = \"text-align: right;\">0.0</td><td style = \"text-align: right;\">0.0</td><td style = \"text-align: right;\">0.0</td></tr></tbody></table></div>"
      ],
      "text/latex": [
       "\\begin{tabular}{r|cccccc}\n",
       "\t&  & rider & team & vgcost & points & \\\\\n",
       "\t\\hline\n",
       "\t& String & String & String & Int64 & Float64 & \\\\\n",
       "\t\\hline\n",
       "\t1 &  & Demi Vollering & Team SD Worx & 32 & 0.0 & $\\dots$ \\\\\n",
       "\t2 &  & Annemiek Van Vleuten & Movistar Team & 24 & 0.0 & $\\dots$ \\\\\n",
       "\t3 &  & Liane Lippert & Movistar Team & 20 & 0.0 & $\\dots$ \\\\\n",
       "\t4 &  & Marlen Reusser & Team SD Worx & 14 & 0.0 & $\\dots$ \\\\\n",
       "\t5 &  & Katarzyna Niewiadoma & Canyon//SRAM Racing & 18 & 0.0 & $\\dots$ \\\\\n",
       "\t6 &  & Karlijn Swinkels & Team Jumbo-Visma & 8 & 0.0 & $\\dots$ \\\\\n",
       "\t7 &  & Loes Adegeest & FDJ - SUEZ & 12 & 0.0 & $\\dots$ \\\\\n",
       "\t8 &  & Soraya Paladin & Canyon//SRAM Racing & 10 & 0.0 & $\\dots$ \\\\\n",
       "\t9 &  & Tamara Dronova-Balabolina & Israel Premier Tech Roland & 10 & 0.0 & $\\dots$ \\\\\n",
       "\t10 &  & Veronica Ewers & EF Education-TIBCO-SVB & 10 & 0.0 & $\\dots$ \\\\\n",
       "\t11 &  & Emma Norsgaard & Movistar Team & 10 & 0.0 & $\\dots$ \\\\\n",
       "\t12 &  & Évita Muzic & FDJ - SUEZ & 18 & 0.0 & $\\dots$ \\\\\n",
       "\t13 &  & Sofia Bertizzolo & UAE Team ADQ & 12 & 0.0 & $\\dots$ \\\\\n",
       "\t14 &  & Niamh Fisher-Black & Team SD Worx & 12 & 0.0 & $\\dots$ \\\\\n",
       "\t15 &  & Ella Wyllie & Lifeplus Wahoo & 6 & 0.0 & $\\dots$ \\\\\n",
       "\t16 &  & Krista Doebel-Hickok & EF Education-TIBCO-SVB & 12 & 0.0 & $\\dots$ \\\\\n",
       "\t17 &  & Marta Cavalli & FDJ - SUEZ & 14 & 0.0 & $\\dots$ \\\\\n",
       "\t18 &  & Pauliena Rooijakkers & Canyon//SRAM Racing & 14 & 0.0 & $\\dots$ \\\\\n",
       "\t19 &  & Georgia Williams & EF Education-TIBCO-SVB & 8 & 0.0 & $\\dots$ \\\\\n",
       "\t20 &  & Mischa Bredewold & Team SD Worx & 10 & 0.0 & $\\dots$ \\\\\n",
       "\t21 &  & Olivia Baril & UAE Team ADQ & 10 & 0.0 & $\\dots$ \\\\\n",
       "\t22 &  & Silvia Zanardi & Bepink & 8 & 0.0 & $\\dots$ \\\\\n",
       "\t23 &  & Elizabeth Holden & UAE Team ADQ & 8 & 0.0 & $\\dots$ \\\\\n",
       "\t24 &  & Gladys Verhulst & FDJ - SUEZ & 8 & 0.0 & $\\dots$ \\\\\n",
       "\t25 &  & Amber Kraak & Team Jumbo-Visma & 8 & 0.0 & $\\dots$ \\\\\n",
       "\t26 &  & Claire Steels & Israel Premier Tech Roland & 8 & 0.0 & $\\dots$ \\\\\n",
       "\t27 &  & Margaux Vigie & Lifeplus Wahoo & 8 & 0.0 & $\\dots$ \\\\\n",
       "\t28 &  & Marie Le Net & FDJ - SUEZ & 8 & 0.0 & $\\dots$ \\\\\n",
       "\t29 &  & Paula Patiño & Movistar Team & 10 & 0.0 & $\\dots$ \\\\\n",
       "\t30 &  & Blanka Vas & Team SD Worx & 10 & 0.0 & $\\dots$ \\\\\n",
       "\t$\\dots$ & $\\dots$ & $\\dots$ & $\\dots$ & $\\dots$ & $\\dots$ &  \\\\\n",
       "\\end{tabular}\n"
      ],
      "text/plain": [
       "\u001b[1m113×10 DataFrame\u001b[0m\n",
       "\u001b[1m Row \u001b[0m│\u001b[1m        \u001b[0m\u001b[1m rider                     \u001b[0m\u001b[1m team                       \u001b[0m\u001b[1m vgcost \u001b[0m\u001b[1m \u001b[0m ⋯\n",
       "     │\u001b[90m String \u001b[0m\u001b[90m String                    \u001b[0m\u001b[90m String                     \u001b[0m\u001b[90m Int64  \u001b[0m\u001b[90m \u001b[0m ⋯\n",
       "─────┼──────────────────────────────────────────────────────────────────────────\n",
       "   1 │         Demi Vollering             Team SD Worx                    32   ⋯\n",
       "   2 │         Annemiek Van Vleuten       Movistar Team                   24\n",
       "   3 │         Liane Lippert              Movistar Team                   20\n",
       "   4 │         Marlen Reusser             Team SD Worx                    14\n",
       "   5 │         Katarzyna Niewiadoma       Canyon//SRAM Racing             18   ⋯\n",
       "   6 │         Karlijn Swinkels           Team Jumbo-Visma                 8\n",
       "   7 │         Loes Adegeest              FDJ - SUEZ                      12\n",
       "   8 │         Soraya Paladin             Canyon//SRAM Racing             10\n",
       "   9 │         Tamara Dronova-Balabolina  Israel Premier Tech Roland      10   ⋯\n",
       "  10 │         Veronica Ewers             EF Education-TIBCO-SVB          10\n",
       "  11 │         Emma Norsgaard             Movistar Team                   10\n",
       "  ⋮  │   ⋮                 ⋮                          ⋮                 ⋮      ⋱\n",
       " 104 │         Allison Mrugal             Sopela Women's Team              4\n",
       " 105 │         Agustina Reyes             Sopela Women's Team              4   ⋯\n",
       " 106 │         Stine Dale                 Team Coop - Hitec Products       4\n",
       " 107 │         Tiril Jørgensen            Team Coop - Hitec Products       4\n",
       " 108 │         Ilona Feytou               Team Groupe Abadie               4\n",
       " 109 │         Leonie Laubig              Team Groupe Abadie               4   ⋯\n",
       " 110 │         Emma Ortiz Bonilla         Team Groupe Abadie               4\n",
       " 111 │         Inès van der Linden        Team Groupe Abadie               4\n",
       " 112 │         Carlijn Achtereekte        Team Jumbo-Visma                 4\n",
       " 113 │         Rosita Reijnhout           Team Jumbo-Visma                 4   ⋯\n",
       "\u001b[36m                                                   6 columns and 92 rows omitted\u001b[0m"
      ]
     },
     "execution_count": 31,
     "metadata": {},
     "output_type": "execute_result"
    }
   ],
   "source": [
    "rider_df"
   ]
  },
  {
   "attachments": {},
   "cell_type": "markdown",
   "metadata": {},
   "source": [
    "## Build model"
   ]
  },
  {
   "cell_type": "code",
   "execution_count": 32,
   "metadata": {},
   "outputs": [
    {
     "name": "stdout",
     "output_type": "stream",
     "text": [
      "Running HiGHS 1.5.1 [date: 1970-01-01, git hash: 93f1876e4]\n",
      "Copyright (c) 2023 HiGHS under MIT licence terms\n",
      "Presolving model\n",
      "2 rows, 113 cols, 226 nonzeros\n",
      "2 rows, 31 cols, 61 nonzeros\n",
      "2 rows, 28 cols, 55 nonzeros\n",
      "Objective function is integral with scale 2\n",
      "\n",
      "Solving MIP model with:\n",
      "   2 rows\n",
      "   28 cols (26 binary, 2 integer, 0 implied int., 0 continuous)\n",
      "   55 nonzeros\n",
      "\n",
      "        Nodes      |    B&B Tree     |            Objective Bounds              |  Dynamic Constraints |       Work      \n",
      "     Proc. InQueue |  Leaves   Expl. | BestBound       BestSol              Gap |   Cuts   InLp Confl. | LpIters     Time\n",
      "\n",
      "         0       0         0   0.00%   7581.5          -inf                 inf        0      0      0         0     0.0s\n",
      " R       0       0         0   0.00%   2960.142857     2805.5             5.51%        0      0      0         2     0.0s\n",
      "\n",
      "14.3% inactive integer columns, restarting\n",
      "Model after restart has 2 rows, 24 cols (23 bin., 1 int., 0 impl., 0 cont.), and 47 nonzeros\n",
      "\n",
      "         0       0         0   0.00%   2960.142857     2805.5             5.51%        0      0      0         2     0.0s\n",
      "         0       0         0   0.00%   2960.142857     2805.5             5.51%        0      0      2         2     0.0s\n",
      "\n",
      "Solving report\n",
      "  Status            Optimal\n",
      "  Primal bound      2945.5\n",
      "  Dual bound        2945.5\n",
      "  Gap               0% (tolerance: 0.01%)\n",
      "  Solution status   feasible\n",
      "                    2945.5 (objective)\n",
      "                    0 (bound viol.)\n",
      "                    0 (int. viol.)\n",
      "                    0 (row viol.)\n",
      "  Timing            0.02 (total)\n",
      "                    0.01 (presolve)\n",
      "                    0.00 (postsolve)\n",
      "  Nodes             1\n",
      "  LP iterations     4 (total)\n",
      "                    0 (strong br.)\n",
      "                    1 (separation)\n",
      "                    1 (heuristics)\n"
     ]
    }
   ],
   "source": [
    "model_results = build_model_oneday(rider_df);"
   ]
  },
  {
   "cell_type": "code",
   "execution_count": 33,
   "metadata": {},
   "outputs": [
    {
     "data": {
      "text/plain": [
       "9.0"
      ]
     },
     "execution_count": 33,
     "metadata": {},
     "output_type": "execute_result"
    }
   ],
   "source": [
    "# number of riders selected\n",
    "model_results.data |> sum"
   ]
  },
  {
   "cell_type": "code",
   "execution_count": 35,
   "metadata": {},
   "outputs": [
    {
     "data": {
      "text/plain": [
       "100.0"
      ]
     },
     "execution_count": 35,
     "metadata": {},
     "output_type": "execute_result"
    }
   ],
   "source": [
    "# total cost\n",
    "rider_df.vgcost .* model_results.data |> sum"
   ]
  },
  {
   "attachments": {},
   "cell_type": "markdown",
   "metadata": {},
   "source": [
    "## Results"
   ]
  },
  {
   "cell_type": "code",
   "execution_count": 37,
   "metadata": {},
   "outputs": [
    {
     "data": {
      "text/html": [
       "<div><div style = \"float: left;\"><span>9×6 DataFrame</span></div><div style = \"clear: both;\"></div></div><div class = \"data-frame\" style = \"overflow-x: scroll;\"><table class = \"data-frame\" style = \"margin-bottom: 6px;\"><thead><tr class = \"header\"><th class = \"rowNumber\" style = \"font-weight: bold; text-align: right;\">Row</th><th style = \"text-align: left;\">rider</th><th style = \"text-align: left;\">team</th><th style = \"text-align: left;\">chosen</th><th style = \"text-align: left;\">points</th><th style = \"text-align: left;\">calc_score</th><th style = \"text-align: left;\">vgcost</th></tr><tr class = \"subheader headerLastRow\"><th class = \"rowNumber\" style = \"font-weight: bold; text-align: right;\"></th><th title = \"String\" style = \"text-align: left;\">String</th><th title = \"String\" style = \"text-align: left;\">String</th><th title = \"Bool\" style = \"text-align: left;\">Bool</th><th title = \"Float64\" style = \"text-align: left;\">Float64</th><th title = \"Float64\" style = \"text-align: left;\">Float64</th><th title = \"Int64\" style = \"text-align: left;\">Int64</th></tr></thead><tbody><tr><td class = \"rowNumber\" style = \"font-weight: bold; text-align: right;\">1</td><td style = \"text-align: left;\">Annemiek Van Vleuten</td><td style = \"text-align: left;\">Movistar Team</td><td style = \"text-align: right;\">true</td><td style = \"text-align: right;\">0.0</td><td style = \"text-align: right;\">830.5</td><td style = \"text-align: right;\">24</td></tr><tr><td class = \"rowNumber\" style = \"font-weight: bold; text-align: right;\">2</td><td style = \"text-align: left;\">Liane Lippert</td><td style = \"text-align: left;\">Movistar Team</td><td style = \"text-align: right;\">true</td><td style = \"text-align: right;\">0.0</td><td style = \"text-align: right;\">641.0</td><td style = \"text-align: right;\">20</td></tr><tr><td class = \"rowNumber\" style = \"font-weight: bold; text-align: right;\">3</td><td style = \"text-align: left;\">Karlijn Swinkels</td><td style = \"text-align: left;\">Team Jumbo-Visma</td><td style = \"text-align: right;\">true</td><td style = \"text-align: right;\">0.0</td><td style = \"text-align: right;\">290.5</td><td style = \"text-align: right;\">8</td></tr><tr><td class = \"rowNumber\" style = \"font-weight: bold; text-align: right;\">4</td><td style = \"text-align: left;\">Soraya Paladin</td><td style = \"text-align: left;\">Canyon//SRAM Racing</td><td style = \"text-align: right;\">true</td><td style = \"text-align: right;\">0.0</td><td style = \"text-align: right;\">252.5</td><td style = \"text-align: right;\">10</td></tr><tr><td class = \"rowNumber\" style = \"font-weight: bold; text-align: right;\">5</td><td style = \"text-align: left;\">Tamara Dronova-Balabolina</td><td style = \"text-align: left;\">Israel Premier Tech Roland</td><td style = \"text-align: right;\">true</td><td style = \"text-align: right;\">0.0</td><td style = \"text-align: right;\">282.5</td><td style = \"text-align: right;\">10</td></tr><tr><td class = \"rowNumber\" style = \"font-weight: bold; text-align: right;\">6</td><td style = \"text-align: left;\">Veronica Ewers</td><td style = \"text-align: left;\">EF Education-TIBCO-SVB</td><td style = \"text-align: right;\">true</td><td style = \"text-align: right;\">0.0</td><td style = \"text-align: right;\">401.0</td><td style = \"text-align: right;\">10</td></tr><tr><td class = \"rowNumber\" style = \"font-weight: bold; text-align: right;\">7</td><td style = \"text-align: left;\">Ella Wyllie</td><td style = \"text-align: left;\">Lifeplus Wahoo</td><td style = \"text-align: right;\">true</td><td style = \"text-align: right;\">0.0</td><td style = \"text-align: right;\">107.5</td><td style = \"text-align: right;\">6</td></tr><tr><td class = \"rowNumber\" style = \"font-weight: bold; text-align: right;\">8</td><td style = \"text-align: left;\">Georgia Williams</td><td style = \"text-align: left;\">EF Education-TIBCO-SVB</td><td style = \"text-align: right;\">true</td><td style = \"text-align: right;\">0.0</td><td style = \"text-align: right;\">140.0</td><td style = \"text-align: right;\">8</td></tr><tr><td class = \"rowNumber\" style = \"font-weight: bold; text-align: right;\">9</td><td style = \"text-align: left;\">Rosita Reijnhout</td><td style = \"text-align: left;\">Team Jumbo-Visma</td><td style = \"text-align: right;\">true</td><td style = \"text-align: right;\">0.0</td><td style = \"text-align: right;\">0.0</td><td style = \"text-align: right;\">4</td></tr></tbody></table></div>"
      ],
      "text/latex": [
       "\\begin{tabular}{r|cccccc}\n",
       "\t& rider & team & chosen & points & calc\\_score & \\\\\n",
       "\t\\hline\n",
       "\t& String & String & Bool & Float64 & Float64 & \\\\\n",
       "\t\\hline\n",
       "\t1 & Annemiek Van Vleuten & Movistar Team & 1 & 0.0 & 830.5 & $\\dots$ \\\\\n",
       "\t2 & Liane Lippert & Movistar Team & 1 & 0.0 & 641.0 & $\\dots$ \\\\\n",
       "\t3 & Karlijn Swinkels & Team Jumbo-Visma & 1 & 0.0 & 290.5 & $\\dots$ \\\\\n",
       "\t4 & Soraya Paladin & Canyon//SRAM Racing & 1 & 0.0 & 252.5 & $\\dots$ \\\\\n",
       "\t5 & Tamara Dronova-Balabolina & Israel Premier Tech Roland & 1 & 0.0 & 282.5 & $\\dots$ \\\\\n",
       "\t6 & Veronica Ewers & EF Education-TIBCO-SVB & 1 & 0.0 & 401.0 & $\\dots$ \\\\\n",
       "\t7 & Ella Wyllie & Lifeplus Wahoo & 1 & 0.0 & 107.5 & $\\dots$ \\\\\n",
       "\t8 & Georgia Williams & EF Education-TIBCO-SVB & 1 & 0.0 & 140.0 & $\\dots$ \\\\\n",
       "\t9 & Rosita Reijnhout & Team Jumbo-Visma & 1 & 0.0 & 0.0 & $\\dots$ \\\\\n",
       "\\end{tabular}\n"
      ],
      "text/plain": [
       "\u001b[1m9×6 DataFrame\u001b[0m\n",
       "\u001b[1m Row \u001b[0m│\u001b[1m rider                     \u001b[0m\u001b[1m team                       \u001b[0m\u001b[1m chosen \u001b[0m\u001b[1m points  \u001b[0m\u001b[1m\u001b[0m ⋯\n",
       "     │\u001b[90m String                    \u001b[0m\u001b[90m String                     \u001b[0m\u001b[90m Bool   \u001b[0m\u001b[90m Float64 \u001b[0m\u001b[90m\u001b[0m ⋯\n",
       "─────┼──────────────────────────────────────────────────────────────────────────\n",
       "   1 │ Annemiek Van Vleuten       Movistar Team                 true      0.0  ⋯\n",
       "   2 │ Liane Lippert              Movistar Team                 true      0.0\n",
       "   3 │ Karlijn Swinkels           Team Jumbo-Visma              true      0.0\n",
       "   4 │ Soraya Paladin             Canyon//SRAM Racing           true      0.0\n",
       "   5 │ Tamara Dronova-Balabolina  Israel Premier Tech Roland    true      0.0  ⋯\n",
       "   6 │ Veronica Ewers             EF Education-TIBCO-SVB        true      0.0\n",
       "   7 │ Ella Wyllie                Lifeplus Wahoo                true      0.0\n",
       "   8 │ Georgia Williams           EF Education-TIBCO-SVB        true      0.0\n",
       "   9 │ Rosita Reijnhout           Team Jumbo-Visma              true      0.0  ⋯\n",
       "\u001b[36m                                                               2 columns omitted\u001b[0m"
      ]
     },
     "execution_count": 37,
     "metadata": {},
     "output_type": "execute_result"
    }
   ],
   "source": [
    "# selected riders\n",
    "rider_df[!, :chosen] = model_results.data .> 0.5\n",
    "chosen_team = filter(:chosen => ==(true), rider_df)\n",
    "chosen_team[:, [:rider, :team, :chosen, :points, :calc_score, :vgcost]]"
   ]
  }
 ],
 "metadata": {
  "kernelspec": {
   "display_name": "Julia 1.8.5",
   "language": "julia",
   "name": "julia-1.8"
  },
  "language_info": {
   "file_extension": ".jl",
   "mimetype": "application/julia",
   "name": "julia",
   "version": "1.8.5"
  },
  "orig_nbformat": 4
 },
 "nbformat": 4,
 "nbformat_minor": 2
}
