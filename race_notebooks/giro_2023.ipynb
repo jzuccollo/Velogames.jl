{
 "cells": [
  {
   "attachments": {},
   "cell_type": "markdown",
   "metadata": {},
   "source": [
    "# Velogames solver: Giro d'Italia 2023\n",
    "\n",
    "## Load libraries"
   ]
  },
  {
   "cell_type": "code",
   "execution_count": 54,
   "metadata": {},
   "outputs": [
    {
     "name": "stderr",
     "output_type": "stream",
     "text": [
      "WARNING: redefinition of constant PCS_RANKING_URLS. This may fail, cause incorrect answers, or produce other errors.\n"
     ]
    }
   ],
   "source": [
    "using Statistics\n",
    "\n",
    "# include all files in src directory\n",
    "source_files = readdir(\"src\")\n",
    "for file in source_files\n",
    "    include(\"src/$file\")\n",
    "end"
   ]
  },
  {
   "attachments": {},
   "cell_type": "markdown",
   "metadata": {},
   "source": [
    "## Load data"
   ]
  },
  {
   "cell_type": "code",
   "execution_count": 3,
   "metadata": {},
   "outputs": [],
   "source": [
    "FORM_WEIGHT = 0\n",
    "\n",
    "rider_df = getvgriders(\"https://www.velogames.com/italy/2023/riders.php\")\n",
    "\n",
    "mycols = [:mountain_me :gc_me, :sprint_me, :overall_me]\n",
    "# getpcsranking for each col, filter the dataframe to only the points and riderkey columns, and rename the points column to the col name.\n",
    "pcs_dfs = map(mycols) do col\n",
    "    rename(getpcsranking(col), :points => col)[:, [col, :riderkey]]\n",
    "end\n",
    "\n",
    "# use reduce to join all dataframes in pcs_dfs on the riderkey column\n",
    "pcs_df = reduce((x, y) -> outerjoin(x, y, on=:riderkey), pcs_dfs)\n",
    "\n",
    "# join the velogames and pcs dataframes on the riderkey column\n",
    "rider_df = leftjoin(rider_df, pcs_df, on=:riderkey)\n",
    "rider_df = coalesce.(rider_df, 0)\n",
    "\n",
    "# create calcpcsscore column which is the sum of All Rounder * gc, Sprinter * sprint, Climber * mountain, and Unclassed * overall\n",
    "rider_df.calcpcsscore = rider_df.allrounder .* rider_df.gc_me .+ rider_df.sprinter .* rider_df.sprint_me .+ rider_df.climber .* rider_df.mountain_me .+ rider_df.unclassed .* rider_df.overall_me\n",
    "\n",
    "# create calc_score column which is a weighted average of the calcpcsscore and points columns, adjusted for the difference in magnitude\n",
    "ADJ_FACTOR = mean(rider_df.points) / mean(rider_df.calcpcsscore)\n",
    "rider_df.calc_score = (1 - FORM_WEIGHT) .* ADJ_FACTOR .* rider_df.calcpcsscore .+ FORM_WEIGHT .* rider_df.points;"
   ]
  },
  {
   "cell_type": "code",
   "execution_count": 57,
   "metadata": {},
   "outputs": [
    {
     "data": {
      "text/html": [
       "<div><div style = \"float: left;\"><span>176×14 DataFrame</span></div><div style = \"float: right;\"><span style = \"font-style: italic;\">151 rows omitted</span></div><div style = \"clear: both;\"></div></div><div class = \"data-frame\" style = \"overflow-x: scroll;\"><table class = \"data-frame\" style = \"margin-bottom: 6px;\"><thead><tr class = \"header\"><th class = \"rowNumber\" style = \"font-weight: bold; text-align: right;\">Row</th><th style = \"text-align: left;\"></th><th style = \"text-align: left;\">rider</th><th style = \"text-align: left;\">team</th><th style = \"text-align: left;\">class_raw</th><th style = \"text-align: left;\">cost</th><th style = \"text-align: left;\">selected</th><th style = \"text-align: left;\">points</th><th style = \"text-align: left;\">riderkey</th><th style = \"text-align: left;\">class</th><th style = \"text-align: left;\">allrounder</th><th style = \"text-align: left;\">climber</th><th style = \"text-align: left;\">sprinter</th><th style = \"text-align: left;\">unclassed</th><th style = \"text-align: left;\">value</th></tr><tr class = \"subheader headerLastRow\"><th class = \"rowNumber\" style = \"font-weight: bold; text-align: right;\"></th><th title = \"String\" style = \"text-align: left;\">String</th><th title = \"String\" style = \"text-align: left;\">String</th><th title = \"String\" style = \"text-align: left;\">String</th><th title = \"String\" style = \"text-align: left;\">String</th><th title = \"Int64\" style = \"text-align: left;\">Int64</th><th title = \"String\" style = \"text-align: left;\">String</th><th title = \"Float64\" style = \"text-align: left;\">Float64</th><th title = \"String\" style = \"text-align: left;\">String</th><th title = \"String\" style = \"text-align: left;\">String</th><th title = \"Bool\" style = \"text-align: left;\">Bool</th><th title = \"Bool\" style = \"text-align: left;\">Bool</th><th title = \"Bool\" style = \"text-align: left;\">Bool</th><th title = \"Bool\" style = \"text-align: left;\">Bool</th><th title = \"Float64\" style = \"text-align: left;\">Float64</th></tr></thead><tbody><tr><td class = \"rowNumber\" style = \"font-weight: bold; text-align: right;\">1</td><td style = \"text-align: left;\"></td><td style = \"text-align: left;\">Remco Evenepoel</td><td style = \"text-align: left;\">Soudal - Quick Step</td><td style = \"text-align: left;\">All Rounder</td><td style = \"text-align: right;\">26</td><td style = \"text-align: left;\">68.7%</td><td style = \"text-align: right;\">428.0</td><td style = \"text-align: left;\">ceeeeelmnooprv</td><td style = \"text-align: left;\">allrounder</td><td style = \"text-align: right;\">true</td><td style = \"text-align: right;\">false</td><td style = \"text-align: right;\">false</td><td style = \"text-align: right;\">false</td><td style = \"text-align: right;\">16.4615</td></tr><tr><td class = \"rowNumber\" style = \"font-weight: bold; text-align: right;\">2</td><td style = \"text-align: left;\"></td><td style = \"text-align: left;\">Primož Roglič</td><td style = \"text-align: left;\">Jumbo-Visma</td><td style = \"text-align: left;\">All Rounder</td><td style = \"text-align: right;\">24</td><td style = \"text-align: left;\">53.7%</td><td style = \"text-align: right;\">309.0</td><td style = \"text-align: left;\">giilmooprr</td><td style = \"text-align: left;\">allrounder</td><td style = \"text-align: right;\">true</td><td style = \"text-align: right;\">false</td><td style = \"text-align: right;\">false</td><td style = \"text-align: right;\">false</td><td style = \"text-align: right;\">12.875</td></tr><tr><td class = \"rowNumber\" style = \"font-weight: bold; text-align: right;\">3</td><td style = \"text-align: left;\"></td><td style = \"text-align: left;\">Geraint Thomas</td><td style = \"text-align: left;\">INEOS Grenadiers</td><td style = \"text-align: left;\">All Rounder</td><td style = \"text-align: right;\">18</td><td style = \"text-align: left;\">11.3%</td><td style = \"text-align: right;\">171.0</td><td style = \"text-align: left;\">aaeghimnorstt</td><td style = \"text-align: left;\">allrounder</td><td style = \"text-align: right;\">true</td><td style = \"text-align: right;\">false</td><td style = \"text-align: right;\">false</td><td style = \"text-align: right;\">false</td><td style = \"text-align: right;\">9.5</td></tr><tr><td class = \"rowNumber\" style = \"font-weight: bold; text-align: right;\">4</td><td style = \"text-align: left;\"></td><td style = \"text-align: left;\">Tao Geoghegan Hart</td><td style = \"text-align: left;\">INEOS Grenadiers</td><td style = \"text-align: left;\">Climber</td><td style = \"text-align: right;\">16</td><td style = \"text-align: left;\">25.2%</td><td style = \"text-align: right;\">292.0</td><td style = \"text-align: left;\">aaaeeggghhnoortt</td><td style = \"text-align: left;\">climber</td><td style = \"text-align: right;\">false</td><td style = \"text-align: right;\">true</td><td style = \"text-align: right;\">false</td><td style = \"text-align: right;\">false</td><td style = \"text-align: right;\">18.25</td></tr><tr><td class = \"rowNumber\" style = \"font-weight: bold; text-align: right;\">5</td><td style = \"text-align: left;\"></td><td style = \"text-align: left;\">João Almeida</td><td style = \"text-align: left;\">UAE Team Emirates</td><td style = \"text-align: left;\">All Rounder</td><td style = \"text-align: right;\">16</td><td style = \"text-align: left;\">38.6%</td><td style = \"text-align: right;\">303.0</td><td style = \"text-align: left;\">aadeijlmoo</td><td style = \"text-align: left;\">allrounder</td><td style = \"text-align: right;\">true</td><td style = \"text-align: right;\">false</td><td style = \"text-align: right;\">false</td><td style = \"text-align: right;\">false</td><td style = \"text-align: right;\">18.9375</td></tr><tr><td class = \"rowNumber\" style = \"font-weight: bold; text-align: right;\">6</td><td style = \"text-align: left;\"></td><td style = \"text-align: left;\">Aleksandr Vlasov</td><td style = \"text-align: left;\">BORA - hansgrohe</td><td style = \"text-align: left;\">All Rounder</td><td style = \"text-align: right;\">14</td><td style = \"text-align: left;\">12.9%</td><td style = \"text-align: right;\">200.0</td><td style = \"text-align: left;\">aaadekllnorssvv</td><td style = \"text-align: left;\">allrounder</td><td style = \"text-align: right;\">true</td><td style = \"text-align: right;\">false</td><td style = \"text-align: right;\">false</td><td style = \"text-align: right;\">false</td><td style = \"text-align: right;\">14.2857</td></tr><tr><td class = \"rowNumber\" style = \"font-weight: bold; text-align: right;\">7</td><td style = \"text-align: left;\"></td><td style = \"text-align: left;\">Mads Pedersen</td><td style = \"text-align: left;\">Trek - Segafredo</td><td style = \"text-align: left;\">Sprinter</td><td style = \"text-align: right;\">14</td><td style = \"text-align: left;\">39.0%</td><td style = \"text-align: right;\">422.0</td><td style = \"text-align: left;\">addeeemnprss</td><td style = \"text-align: left;\">sprinter</td><td style = \"text-align: right;\">false</td><td style = \"text-align: right;\">false</td><td style = \"text-align: right;\">true</td><td style = \"text-align: right;\">false</td><td style = \"text-align: right;\">30.1429</td></tr><tr><td class = \"rowNumber\" style = \"font-weight: bold; text-align: right;\">8</td><td style = \"text-align: left;\"></td><td style = \"text-align: left;\">Jack Haig</td><td style = \"text-align: left;\">Bahrain - Victorious</td><td style = \"text-align: left;\">Climber</td><td style = \"text-align: right;\">12</td><td style = \"text-align: left;\">10.6%</td><td style = \"text-align: right;\">41.0</td><td style = \"text-align: left;\">aacghijk</td><td style = \"text-align: left;\">climber</td><td style = \"text-align: right;\">false</td><td style = \"text-align: right;\">true</td><td style = \"text-align: right;\">false</td><td style = \"text-align: right;\">false</td><td style = \"text-align: right;\">3.41667</td></tr><tr><td class = \"rowNumber\" style = \"font-weight: bold; text-align: right;\">9</td><td style = \"text-align: left;\"></td><td style = \"text-align: left;\">Thymen Arensman</td><td style = \"text-align: left;\">INEOS Grenadiers</td><td style = \"text-align: left;\">All Rounder</td><td style = \"text-align: right;\">12</td><td style = \"text-align: left;\">4.7%</td><td style = \"text-align: right;\">31.0</td><td style = \"text-align: left;\">aaeehmmnnnrsty</td><td style = \"text-align: left;\">allrounder</td><td style = \"text-align: right;\">true</td><td style = \"text-align: right;\">false</td><td style = \"text-align: right;\">false</td><td style = \"text-align: right;\">false</td><td style = \"text-align: right;\">2.58333</td></tr><tr><td class = \"rowNumber\" style = \"font-weight: bold; text-align: right;\">10</td><td style = \"text-align: left;\"></td><td style = \"text-align: left;\">Pavel Sivakov</td><td style = \"text-align: left;\">INEOS Grenadiers</td><td style = \"text-align: left;\">All Rounder</td><td style = \"text-align: right;\">12</td><td style = \"text-align: left;\">3.5%</td><td style = \"text-align: right;\">50.0</td><td style = \"text-align: left;\">aaeiklopsvvv</td><td style = \"text-align: left;\">allrounder</td><td style = \"text-align: right;\">true</td><td style = \"text-align: right;\">false</td><td style = \"text-align: right;\">false</td><td style = \"text-align: right;\">false</td><td style = \"text-align: right;\">4.16667</td></tr><tr><td class = \"rowNumber\" style = \"font-weight: bold; text-align: right;\">11</td><td style = \"text-align: left;\"></td><td style = \"text-align: left;\">Jay Vine</td><td style = \"text-align: left;\">UAE Team Emirates</td><td style = \"text-align: left;\">Climber</td><td style = \"text-align: right;\">12</td><td style = \"text-align: left;\">21.8%</td><td style = \"text-align: right;\">185.0</td><td style = \"text-align: left;\">aeijnvy</td><td style = \"text-align: left;\">climber</td><td style = \"text-align: right;\">false</td><td style = \"text-align: right;\">true</td><td style = \"text-align: right;\">false</td><td style = \"text-align: right;\">false</td><td style = \"text-align: right;\">15.4167</td></tr><tr><td class = \"rowNumber\" style = \"font-weight: bold; text-align: right;\">12</td><td style = \"text-align: left;\"></td><td style = \"text-align: left;\">Damiano Caruso</td><td style = \"text-align: left;\">Bahrain - Victorious</td><td style = \"text-align: left;\">Climber</td><td style = \"text-align: right;\">10</td><td style = \"text-align: left;\">11.5%</td><td style = \"text-align: right;\">120.0</td><td style = \"text-align: left;\">aaacdimnoorsu</td><td style = \"text-align: left;\">climber</td><td style = \"text-align: right;\">false</td><td style = \"text-align: right;\">true</td><td style = \"text-align: right;\">false</td><td style = \"text-align: right;\">false</td><td style = \"text-align: right;\">12.0</td></tr><tr><td class = \"rowNumber\" style = \"font-weight: bold; text-align: right;\">13</td><td style = \"text-align: left;\"></td><td style = \"text-align: left;\">Lennard Kämna</td><td style = \"text-align: left;\">BORA - hansgrohe</td><td style = \"text-align: left;\">Climber</td><td style = \"text-align: right;\">10</td><td style = \"text-align: left;\">31.3%</td><td style = \"text-align: right;\">63.0</td><td style = \"text-align: left;\">aadeklmnnnr</td><td style = \"text-align: left;\">climber</td><td style = \"text-align: right;\">false</td><td style = \"text-align: right;\">true</td><td style = \"text-align: right;\">false</td><td style = \"text-align: right;\">false</td><td style = \"text-align: right;\">6.3</td></tr><tr><td style = \"text-align: right;\">&vellip;</td><td style = \"text-align: right;\">&vellip;</td><td style = \"text-align: right;\">&vellip;</td><td style = \"text-align: right;\">&vellip;</td><td style = \"text-align: right;\">&vellip;</td><td style = \"text-align: right;\">&vellip;</td><td style = \"text-align: right;\">&vellip;</td><td style = \"text-align: right;\">&vellip;</td><td style = \"text-align: right;\">&vellip;</td><td style = \"text-align: right;\">&vellip;</td><td style = \"text-align: right;\">&vellip;</td><td style = \"text-align: right;\">&vellip;</td><td style = \"text-align: right;\">&vellip;</td><td style = \"text-align: right;\">&vellip;</td><td style = \"text-align: right;\">&vellip;</td></tr><tr><td class = \"rowNumber\" style = \"font-weight: bold; text-align: right;\">165</td><td style = \"text-align: left;\"></td><td style = \"text-align: left;\">Karel Vacek</td><td style = \"text-align: left;\">Team Corratec</td><td style = \"text-align: left;\">Unclassed</td><td style = \"text-align: right;\">4</td><td style = \"text-align: left;\">0.2%</td><td style = \"text-align: right;\">0.0</td><td style = \"text-align: left;\">aaceekklrv</td><td style = \"text-align: left;\">unclassed</td><td style = \"text-align: right;\">false</td><td style = \"text-align: right;\">false</td><td style = \"text-align: right;\">false</td><td style = \"text-align: right;\">true</td><td style = \"text-align: right;\">0.0</td></tr><tr><td class = \"rowNumber\" style = \"font-weight: bold; text-align: right;\">166</td><td style = \"text-align: left;\"></td><td style = \"text-align: left;\">Jonas Iversby Hvideberg</td><td style = \"text-align: left;\">Team DSM</td><td style = \"text-align: left;\">Unclassed</td><td style = \"text-align: right;\">4</td><td style = \"text-align: left;\">0.3%</td><td style = \"text-align: right;\">20.0</td><td style = \"text-align: left;\">abbdeeeghiijnorrssvvy</td><td style = \"text-align: left;\">unclassed</td><td style = \"text-align: right;\">false</td><td style = \"text-align: right;\">false</td><td style = \"text-align: right;\">false</td><td style = \"text-align: right;\">true</td><td style = \"text-align: right;\">5.0</td></tr><tr><td class = \"rowNumber\" style = \"font-weight: bold; text-align: right;\">167</td><td style = \"text-align: left;\"></td><td style = \"text-align: left;\">Niklas Märkl</td><td style = \"text-align: left;\">Team DSM</td><td style = \"text-align: left;\">Unclassed</td><td style = \"text-align: right;\">4</td><td style = \"text-align: left;\">0.3%</td><td style = \"text-align: right;\">20.0</td><td style = \"text-align: left;\">aikkllmnrs</td><td style = \"text-align: left;\">unclassed</td><td style = \"text-align: right;\">false</td><td style = \"text-align: right;\">false</td><td style = \"text-align: right;\">false</td><td style = \"text-align: right;\">true</td><td style = \"text-align: right;\">5.0</td></tr><tr><td class = \"rowNumber\" style = \"font-weight: bold; text-align: right;\">168</td><td style = \"text-align: left;\"></td><td style = \"text-align: left;\">Florian Stork</td><td style = \"text-align: left;\">Team DSM</td><td style = \"text-align: left;\">Unclassed</td><td style = \"text-align: right;\">4</td><td style = \"text-align: left;\">0.6%</td><td style = \"text-align: right;\">20.0</td><td style = \"text-align: left;\">afiklnoorrst</td><td style = \"text-align: left;\">unclassed</td><td style = \"text-align: right;\">false</td><td style = \"text-align: right;\">false</td><td style = \"text-align: right;\">false</td><td style = \"text-align: right;\">true</td><td style = \"text-align: right;\">5.0</td></tr><tr><td class = \"rowNumber\" style = \"font-weight: bold; text-align: right;\">169</td><td style = \"text-align: left;\"></td><td style = \"text-align: left;\">Martijn Tusveld</td><td style = \"text-align: left;\">Team DSM</td><td style = \"text-align: left;\">Unclassed</td><td style = \"text-align: right;\">4</td><td style = \"text-align: left;\">0.5%</td><td style = \"text-align: right;\">20.0</td><td style = \"text-align: left;\">adeijlmnrsttuv</td><td style = \"text-align: left;\">unclassed</td><td style = \"text-align: right;\">false</td><td style = \"text-align: right;\">false</td><td style = \"text-align: right;\">false</td><td style = \"text-align: right;\">true</td><td style = \"text-align: right;\">5.0</td></tr><tr><td class = \"rowNumber\" style = \"font-weight: bold; text-align: right;\">170</td><td style = \"text-align: left;\"></td><td style = \"text-align: left;\">Lukas Pöstlberger</td><td style = \"text-align: left;\">Team Jayco AlUla</td><td style = \"text-align: left;\">Unclassed</td><td style = \"text-align: right;\">4</td><td style = \"text-align: left;\">4.2%</td><td style = \"text-align: right;\">8.0</td><td style = \"text-align: left;\">abeegkllprrsstu</td><td style = \"text-align: left;\">unclassed</td><td style = \"text-align: right;\">false</td><td style = \"text-align: right;\">false</td><td style = \"text-align: right;\">false</td><td style = \"text-align: right;\">true</td><td style = \"text-align: right;\">2.0</td></tr><tr><td class = \"rowNumber\" style = \"font-weight: bold; text-align: right;\">171</td><td style = \"text-align: left;\"></td><td style = \"text-align: left;\">Callum Scotson</td><td style = \"text-align: left;\">Team Jayco AlUla</td><td style = \"text-align: left;\">Unclassed</td><td style = \"text-align: right;\">4</td><td style = \"text-align: left;\">0.9%</td><td style = \"text-align: right;\">8.0</td><td style = \"text-align: left;\">accllmnoosstu</td><td style = \"text-align: left;\">unclassed</td><td style = \"text-align: right;\">false</td><td style = \"text-align: right;\">false</td><td style = \"text-align: right;\">false</td><td style = \"text-align: right;\">true</td><td style = \"text-align: right;\">2.0</td></tr><tr><td class = \"rowNumber\" style = \"font-weight: bold; text-align: right;\">172</td><td style = \"text-align: left;\"></td><td style = \"text-align: left;\">Campbell Stewart</td><td style = \"text-align: left;\">Team Jayco AlUla</td><td style = \"text-align: left;\">Unclassed</td><td style = \"text-align: right;\">4</td><td style = \"text-align: left;\">0.6%</td><td style = \"text-align: right;\">28.0</td><td style = \"text-align: left;\">aabceellmprsttw</td><td style = \"text-align: left;\">unclassed</td><td style = \"text-align: right;\">false</td><td style = \"text-align: right;\">false</td><td style = \"text-align: right;\">false</td><td style = \"text-align: right;\">true</td><td style = \"text-align: right;\">7.0</td></tr><tr><td class = \"rowNumber\" style = \"font-weight: bold; text-align: right;\">173</td><td style = \"text-align: left;\"></td><td style = \"text-align: left;\">Amanuel Ghebreigzabhier</td><td style = \"text-align: left;\">Trek - Segafredo</td><td style = \"text-align: left;\">Unclassed</td><td style = \"text-align: right;\">4</td><td style = \"text-align: left;\">1.3%</td><td style = \"text-align: right;\">154.0</td><td style = \"text-align: left;\">aaabbeeeegghhiilmnrruz</td><td style = \"text-align: left;\">unclassed</td><td style = \"text-align: right;\">false</td><td style = \"text-align: right;\">false</td><td style = \"text-align: right;\">false</td><td style = \"text-align: right;\">true</td><td style = \"text-align: right;\">38.5</td></tr><tr><td class = \"rowNumber\" style = \"font-weight: bold; text-align: right;\">174</td><td style = \"text-align: left;\"></td><td style = \"text-align: left;\">Daan Hoole</td><td style = \"text-align: left;\">Trek - Segafredo</td><td style = \"text-align: left;\">Unclassed</td><td style = \"text-align: right;\">4</td><td style = \"text-align: left;\">2.1%</td><td style = \"text-align: right;\">23.0</td><td style = \"text-align: left;\">aadehlnoo</td><td style = \"text-align: left;\">unclassed</td><td style = \"text-align: right;\">false</td><td style = \"text-align: right;\">false</td><td style = \"text-align: right;\">false</td><td style = \"text-align: right;\">true</td><td style = \"text-align: right;\">5.75</td></tr><tr><td class = \"rowNumber\" style = \"font-weight: bold; text-align: right;\">175</td><td style = \"text-align: left;\"></td><td style = \"text-align: left;\">Alex Kirsch</td><td style = \"text-align: left;\">Trek - Segafredo</td><td style = \"text-align: left;\">Unclassed</td><td style = \"text-align: right;\">4</td><td style = \"text-align: left;\">3.9%</td><td style = \"text-align: right;\">8.0</td><td style = \"text-align: left;\">acehiklrsx</td><td style = \"text-align: left;\">unclassed</td><td style = \"text-align: right;\">false</td><td style = \"text-align: right;\">false</td><td style = \"text-align: right;\">false</td><td style = \"text-align: right;\">true</td><td style = \"text-align: right;\">2.0</td></tr><tr><td class = \"rowNumber\" style = \"font-weight: bold; text-align: right;\">176</td><td style = \"text-align: left;\"></td><td style = \"text-align: left;\">Otto Vergaerde</td><td style = \"text-align: left;\">Trek - Segafredo</td><td style = \"text-align: left;\">Unclassed</td><td style = \"text-align: right;\">4</td><td style = \"text-align: left;\">0.7%</td><td style = \"text-align: right;\">8.0</td><td style = \"text-align: left;\">adeeegoorrttv</td><td style = \"text-align: left;\">unclassed</td><td style = \"text-align: right;\">false</td><td style = \"text-align: right;\">false</td><td style = \"text-align: right;\">false</td><td style = \"text-align: right;\">true</td><td style = \"text-align: right;\">2.0</td></tr></tbody></table></div>"
      ],
      "text/latex": [
       "\\begin{tabular}{r|ccccccc}\n",
       "\t&  & rider & team & class\\_raw & cost & selected & \\\\\n",
       "\t\\hline\n",
       "\t& String & String & String & String & Int64 & String & \\\\\n",
       "\t\\hline\n",
       "\t1 &  & Remco Evenepoel & Soudal - Quick Step & All Rounder & 26 & 68.7\\% & $\\dots$ \\\\\n",
       "\t2 &  & Primož Roglič & Jumbo-Visma & All Rounder & 24 & 53.7\\% & $\\dots$ \\\\\n",
       "\t3 &  & Geraint Thomas & INEOS Grenadiers & All Rounder & 18 & 11.3\\% & $\\dots$ \\\\\n",
       "\t4 &  & Tao Geoghegan Hart & INEOS Grenadiers & Climber & 16 & 25.2\\% & $\\dots$ \\\\\n",
       "\t5 &  & João Almeida & UAE Team Emirates & All Rounder & 16 & 38.6\\% & $\\dots$ \\\\\n",
       "\t6 &  & Aleksandr Vlasov & BORA - hansgrohe & All Rounder & 14 & 12.9\\% & $\\dots$ \\\\\n",
       "\t7 &  & Mads Pedersen & Trek - Segafredo & Sprinter & 14 & 39.0\\% & $\\dots$ \\\\\n",
       "\t8 &  & Jack Haig & Bahrain - Victorious & Climber & 12 & 10.6\\% & $\\dots$ \\\\\n",
       "\t9 &  & Thymen Arensman & INEOS Grenadiers & All Rounder & 12 & 4.7\\% & $\\dots$ \\\\\n",
       "\t10 &  & Pavel Sivakov & INEOS Grenadiers & All Rounder & 12 & 3.5\\% & $\\dots$ \\\\\n",
       "\t11 &  & Jay Vine & UAE Team Emirates & Climber & 12 & 21.8\\% & $\\dots$ \\\\\n",
       "\t12 &  & Damiano Caruso & Bahrain - Victorious & Climber & 10 & 11.5\\% & $\\dots$ \\\\\n",
       "\t13 &  & Lennard Kämna & BORA - hansgrohe & Climber & 10 & 31.3\\% & $\\dots$ \\\\\n",
       "\t14 &  & Hugh Carthy & EF Education-EasyPost & Climber & 10 & 21.5\\% & $\\dots$ \\\\\n",
       "\t15 &  & Thibaut Pinot & Groupama - FDJ & Climber & 10 & 16.1\\% & $\\dots$ \\\\\n",
       "\t16 &  & Filippo Ganna & INEOS Grenadiers & Unclassed & 10 & 39.3\\% & $\\dots$ \\\\\n",
       "\t17 &  & Fernando Gaviria & Movistar Team & Sprinter & 10 & 15.7\\% & $\\dots$ \\\\\n",
       "\t18 &  & Michael Matthews & Team Jayco AlUla & Sprinter & 10 & 10.4\\% & $\\dots$ \\\\\n",
       "\t19 &  & Pascal Ackermann & UAE Team Emirates & Sprinter & 10 & 6.2\\% & $\\dots$ \\\\\n",
       "\t20 &  & Brandon McNulty & UAE Team Emirates & All Rounder & 10 & 7.3\\% & $\\dots$ \\\\\n",
       "\t21 &  & Kaden Groves & Alpecin-Deceuninck & Sprinter & 8 & 21.4\\% & $\\dots$ \\\\\n",
       "\t22 &  & Mark Cavendish & Astana Qazaqstan Team & Sprinter & 8 & 14.9\\% & $\\dots$ \\\\\n",
       "\t23 &  & Santiago Buitrago & Bahrain - Victorious & Climber & 8 & 19.8\\% & $\\dots$ \\\\\n",
       "\t24 &  & Jonathan Milan & Bahrain - Victorious & Sprinter & 8 & 1.2\\% & $\\dots$ \\\\\n",
       "\t25 &  & Bob Jungels & BORA - hansgrohe & All Rounder & 8 & 2.4\\% & $\\dots$ \\\\\n",
       "\t26 &  & Simone Consonni & Cofidis & Sprinter & 8 & 1.7\\% & $\\dots$ \\\\\n",
       "\t27 &  & Magnus Cort & EF Education-EasyPost & Unclassed & 8 & 33.9\\% & $\\dots$ \\\\\n",
       "\t28 &  & Rigoberto Urán & EF Education-EasyPost & All Rounder & 8 & 5.2\\% & $\\dots$ \\\\\n",
       "\t29 &  & Lorenzo Fortunato & EOLO-Kometa & Climber & 8 & 8.7\\% & $\\dots$ \\\\\n",
       "\t30 &  & Stefan Küng & Groupama - FDJ & Unclassed & 8 & 19.2\\% & $\\dots$ \\\\\n",
       "\t$\\dots$ & $\\dots$ & $\\dots$ & $\\dots$ & $\\dots$ & $\\dots$ & $\\dots$ &  \\\\\n",
       "\\end{tabular}\n"
      ],
      "text/plain": [
       "\u001b[1m176×14 DataFrame\u001b[0m\n",
       "\u001b[1m Row \u001b[0m│\u001b[1m        \u001b[0m\u001b[1m rider                   \u001b[0m\u001b[1m team                  \u001b[0m\u001b[1m class_raw   \u001b[0m\u001b[1m co\u001b[0m ⋯\n",
       "     │\u001b[90m String \u001b[0m\u001b[90m String                  \u001b[0m\u001b[90m String                \u001b[0m\u001b[90m String      \u001b[0m\u001b[90m In\u001b[0m ⋯\n",
       "─────┼──────────────────────────────────────────────────────────────────────────\n",
       "   1 │         Remco Evenepoel          Soudal - Quick Step    All Rounder     ⋯\n",
       "   2 │         Primož Roglič            Jumbo-Visma            All Rounder\n",
       "   3 │         Geraint Thomas           INEOS Grenadiers       All Rounder\n",
       "   4 │         Tao Geoghegan Hart       INEOS Grenadiers       Climber\n",
       "   5 │         João Almeida             UAE Team Emirates      All Rounder     ⋯\n",
       "   6 │         Aleksandr Vlasov         BORA - hansgrohe       All Rounder\n",
       "   7 │         Mads Pedersen            Trek - Segafredo       Sprinter\n",
       "   8 │         Jack Haig                Bahrain - Victorious   Climber\n",
       "   9 │         Thymen Arensman          INEOS Grenadiers       All Rounder     ⋯\n",
       "  10 │         Pavel Sivakov            INEOS Grenadiers       All Rounder\n",
       "  11 │         Jay Vine                 UAE Team Emirates      Climber\n",
       "  ⋮  │   ⋮                ⋮                       ⋮                 ⋮          ⋱\n",
       " 167 │         Niklas Märkl             Team DSM               Unclassed\n",
       " 168 │         Florian Stork            Team DSM               Unclassed       ⋯\n",
       " 169 │         Martijn Tusveld          Team DSM               Unclassed\n",
       " 170 │         Lukas Pöstlberger        Team Jayco AlUla       Unclassed\n",
       " 171 │         Callum Scotson           Team Jayco AlUla       Unclassed\n",
       " 172 │         Campbell Stewart         Team Jayco AlUla       Unclassed       ⋯\n",
       " 173 │         Amanuel Ghebreigzabhier  Trek - Segafredo       Unclassed\n",
       " 174 │         Daan Hoole               Trek - Segafredo       Unclassed\n",
       " 175 │         Alex Kirsch              Trek - Segafredo       Unclassed\n",
       " 176 │         Otto Vergaerde           Trek - Segafredo       Unclassed       ⋯\n",
       "\u001b[36m                                                 10 columns and 155 rows omitted\u001b[0m"
      ]
     },
     "execution_count": 57,
     "metadata": {},
     "output_type": "execute_result"
    }
   ],
   "source": [
    "rider_df = getvgriders(\"https://www.velogames.com/italy/2023/riders.php\")\n"
   ]
  },
  {
   "cell_type": "code",
   "execution_count": 58,
   "metadata": {},
   "outputs": [
    {
     "ename": "LoadError",
     "evalue": "UndefVarError: riderdf not defined",
     "output_type": "error",
     "traceback": [
      "UndefVarError: riderdf not defined",
      ""
     ]
    }
   ],
   "source": [
    "# for each rider, get pcsriderpts for that rider\n",
    "pcsriderpts = map(x -> getpcsriderpts(x), rider_df.rider)\n"
   ]
  },
  {
   "cell_type": "code",
   "execution_count": 82,
   "metadata": {},
   "outputs": [
    {
     "data": {
      "text/html": [
       "<div><div style = \"float: left;\"><span>168×5 DataFrame</span></div><div style = \"float: right;\"><span style = \"font-style: italic;\">143 rows omitted</span></div><div style = \"clear: both;\"></div></div><div class = \"data-frame\" style = \"overflow-x: scroll;\"><table class = \"data-frame\" style = \"margin-bottom: 6px;\"><thead><tr class = \"header\"><th class = \"rowNumber\" style = \"font-weight: bold; text-align: right;\">Row</th><th style = \"text-align: left;\">pts_climber</th><th style = \"text-align: left;\">pts_gc</th><th style = \"text-align: left;\">pts_oneday</th><th style = \"text-align: left;\">pts_sprint</th><th style = \"text-align: left;\">pts_tt</th></tr><tr class = \"subheader headerLastRow\"><th class = \"rowNumber\" style = \"font-weight: bold; text-align: right;\"></th><th title = \"Int64\" style = \"text-align: left;\">Int64</th><th title = \"Int64\" style = \"text-align: left;\">Int64</th><th title = \"Int64\" style = \"text-align: left;\">Int64</th><th title = \"Int64\" style = \"text-align: left;\">Int64</th><th title = \"Int64\" style = \"text-align: left;\">Int64</th></tr></thead><tbody><tr><td class = \"rowNumber\" style = \"font-weight: bold; text-align: right;\">1</td><td style = \"text-align: right;\">2506</td><td style = \"text-align: right;\">2894</td><td style = \"text-align: right;\">1889</td><td style = \"text-align: right;\">104</td><td style = \"text-align: right;\">1993</td></tr><tr><td class = \"rowNumber\" style = \"font-weight: bold; text-align: right;\">2</td><td style = \"text-align: right;\">7444</td><td style = \"text-align: right;\">6294</td><td style = \"text-align: right;\">1537</td><td style = \"text-align: right;\">163</td><td style = \"text-align: right;\">4526</td></tr><tr><td class = \"rowNumber\" style = \"font-weight: bold; text-align: right;\">3</td><td style = \"text-align: right;\">5096</td><td style = \"text-align: right;\">5778</td><td style = \"text-align: right;\">1236</td><td style = \"text-align: right;\">909</td><td style = \"text-align: right;\">4817</td></tr><tr><td class = \"rowNumber\" style = \"font-weight: bold; text-align: right;\">4</td><td style = \"text-align: right;\">2320</td><td style = \"text-align: right;\">2397</td><td style = \"text-align: right;\">261</td><td style = \"text-align: right;\">100</td><td style = \"text-align: right;\">709</td></tr><tr><td class = \"rowNumber\" style = \"font-weight: bold; text-align: right;\">5</td><td style = \"text-align: right;\">2754</td><td style = \"text-align: right;\">2634</td><td style = \"text-align: right;\">396</td><td style = \"text-align: right;\">107</td><td style = \"text-align: right;\">1452</td></tr><tr><td class = \"rowNumber\" style = \"font-weight: bold; text-align: right;\">6</td><td style = \"text-align: right;\">3282</td><td style = \"text-align: right;\">2593</td><td style = \"text-align: right;\">918</td><td style = \"text-align: right;\">81</td><td style = \"text-align: right;\">624</td></tr><tr><td class = \"rowNumber\" style = \"font-weight: bold; text-align: right;\">7</td><td style = \"text-align: right;\">1410</td><td style = \"text-align: right;\">863</td><td style = \"text-align: right;\">2552</td><td style = \"text-align: right;\">2043</td><td style = \"text-align: right;\">1237</td></tr><tr><td class = \"rowNumber\" style = \"font-weight: bold; text-align: right;\">8</td><td style = \"text-align: right;\">2606</td><td style = \"text-align: right;\">2483</td><td style = \"text-align: right;\">605</td><td style = \"text-align: right;\">93</td><td style = \"text-align: right;\">268</td></tr><tr><td class = \"rowNumber\" style = \"font-weight: bold; text-align: right;\">9</td><td style = \"text-align: right;\">986</td><td style = \"text-align: right;\">870</td><td style = \"text-align: right;\">32</td><td style = \"text-align: right;\">18</td><td style = \"text-align: right;\">681</td></tr><tr><td class = \"rowNumber\" style = \"font-weight: bold; text-align: right;\">10</td><td style = \"text-align: right;\">1619</td><td style = \"text-align: right;\">1834</td><td style = \"text-align: right;\">459</td><td style = \"text-align: right;\">39</td><td style = \"text-align: right;\">430</td></tr><tr><td class = \"rowNumber\" style = \"font-weight: bold; text-align: right;\">11</td><td style = \"text-align: right;\">754</td><td style = \"text-align: right;\">642</td><td style = \"text-align: right;\">37</td><td style = \"text-align: right;\">9</td><td style = \"text-align: right;\">190</td></tr><tr><td class = \"rowNumber\" style = \"font-weight: bold; text-align: right;\">12</td><td style = \"text-align: right;\">4882</td><td style = \"text-align: right;\">4069</td><td style = \"text-align: right;\">835</td><td style = \"text-align: right;\">608</td><td style = \"text-align: right;\">1078</td></tr><tr><td class = \"rowNumber\" style = \"font-weight: bold; text-align: right;\">13</td><td style = \"text-align: right;\">1626</td><td style = \"text-align: right;\">729</td><td style = \"text-align: right;\">245</td><td style = \"text-align: right;\">50</td><td style = \"text-align: right;\">631</td></tr><tr><td style = \"text-align: right;\">&vellip;</td><td style = \"text-align: right;\">&vellip;</td><td style = \"text-align: right;\">&vellip;</td><td style = \"text-align: right;\">&vellip;</td><td style = \"text-align: right;\">&vellip;</td><td style = \"text-align: right;\">&vellip;</td></tr><tr><td class = \"rowNumber\" style = \"font-weight: bold; text-align: right;\">157</td><td style = \"text-align: right;\">20</td><td style = \"text-align: right;\">4</td><td style = \"text-align: right;\">55</td><td style = \"text-align: right;\">0</td><td style = \"text-align: right;\">0</td></tr><tr><td class = \"rowNumber\" style = \"font-weight: bold; text-align: right;\">158</td><td style = \"text-align: right;\">41</td><td style = \"text-align: right;\">28</td><td style = \"text-align: right;\">105</td><td style = \"text-align: right;\">6</td><td style = \"text-align: right;\">2</td></tr><tr><td class = \"rowNumber\" style = \"font-weight: bold; text-align: right;\">159</td><td style = \"text-align: right;\">12</td><td style = \"text-align: right;\">34</td><td style = \"text-align: right;\">123</td><td style = \"text-align: right;\">148</td><td style = \"text-align: right;\">45</td></tr><tr><td class = \"rowNumber\" style = \"font-weight: bold; text-align: right;\">160</td><td style = \"text-align: right;\">92</td><td style = \"text-align: right;\">93</td><td style = \"text-align: right;\">47</td><td style = \"text-align: right;\">13</td><td style = \"text-align: right;\">7</td></tr><tr><td class = \"rowNumber\" style = \"font-weight: bold; text-align: right;\">161</td><td style = \"text-align: right;\">362</td><td style = \"text-align: right;\">506</td><td style = \"text-align: right;\">148</td><td style = \"text-align: right;\">110</td><td style = \"text-align: right;\">313</td></tr><tr><td class = \"rowNumber\" style = \"font-weight: bold; text-align: right;\">162</td><td style = \"text-align: right;\">368</td><td style = \"text-align: right;\">239</td><td style = \"text-align: right;\">571</td><td style = \"text-align: right;\">303</td><td style = \"text-align: right;\">331</td></tr><tr><td class = \"rowNumber\" style = \"font-weight: bold; text-align: right;\">163</td><td style = \"text-align: right;\">104</td><td style = \"text-align: right;\">173</td><td style = \"text-align: right;\">22</td><td style = \"text-align: right;\">38</td><td style = \"text-align: right;\">50</td></tr><tr><td class = \"rowNumber\" style = \"font-weight: bold; text-align: right;\">164</td><td style = \"text-align: right;\">24</td><td style = \"text-align: right;\">38</td><td style = \"text-align: right;\">50</td><td style = \"text-align: right;\">139</td><td style = \"text-align: right;\">30</td></tr><tr><td class = \"rowNumber\" style = \"font-weight: bold; text-align: right;\">165</td><td style = \"text-align: right;\">606</td><td style = \"text-align: right;\">530</td><td style = \"text-align: right;\">390</td><td style = \"text-align: right;\">288</td><td style = \"text-align: right;\">170</td></tr><tr><td class = \"rowNumber\" style = \"font-weight: bold; text-align: right;\">166</td><td style = \"text-align: right;\">40</td><td style = \"text-align: right;\">47</td><td style = \"text-align: right;\">128</td><td style = \"text-align: right;\">34</td><td style = \"text-align: right;\">276</td></tr><tr><td class = \"rowNumber\" style = \"font-weight: bold; text-align: right;\">167</td><td style = \"text-align: right;\">310</td><td style = \"text-align: right;\">312</td><td style = \"text-align: right;\">443</td><td style = \"text-align: right;\">430</td><td style = \"text-align: right;\">543</td></tr><tr><td class = \"rowNumber\" style = \"font-weight: bold; text-align: right;\">168</td><td style = \"text-align: right;\">47</td><td style = \"text-align: right;\">77</td><td style = \"text-align: right;\">189</td><td style = \"text-align: right;\">74</td><td style = \"text-align: right;\">12</td></tr></tbody></table></div>"
      ],
      "text/latex": [
       "\\begin{tabular}{r|ccccc}\n",
       "\t& pts\\_climber & pts\\_gc & pts\\_oneday & pts\\_sprint & pts\\_tt\\\\\n",
       "\t\\hline\n",
       "\t& Int64 & Int64 & Int64 & Int64 & Int64\\\\\n",
       "\t\\hline\n",
       "\t1 & 2506 & 2894 & 1889 & 104 & 1993 \\\\\n",
       "\t2 & 7444 & 6294 & 1537 & 163 & 4526 \\\\\n",
       "\t3 & 5096 & 5778 & 1236 & 909 & 4817 \\\\\n",
       "\t4 & 2320 & 2397 & 261 & 100 & 709 \\\\\n",
       "\t5 & 2754 & 2634 & 396 & 107 & 1452 \\\\\n",
       "\t6 & 3282 & 2593 & 918 & 81 & 624 \\\\\n",
       "\t7 & 1410 & 863 & 2552 & 2043 & 1237 \\\\\n",
       "\t8 & 2606 & 2483 & 605 & 93 & 268 \\\\\n",
       "\t9 & 986 & 870 & 32 & 18 & 681 \\\\\n",
       "\t10 & 1619 & 1834 & 459 & 39 & 430 \\\\\n",
       "\t11 & 754 & 642 & 37 & 9 & 190 \\\\\n",
       "\t12 & 4882 & 4069 & 835 & 608 & 1078 \\\\\n",
       "\t13 & 1626 & 729 & 245 & 50 & 631 \\\\\n",
       "\t14 & 2412 & 2427 & 265 & 31 & 389 \\\\\n",
       "\t15 & 8148 & 6513 & 1915 & 170 & 1444 \\\\\n",
       "\t16 & 528 & 523 & 495 & 108 & 4118 \\\\\n",
       "\t17 & 1158 & 166 & 1723 & 4020 & 77 \\\\\n",
       "\t18 & 6583 & 812 & 6450 & 3244 & 1640 \\\\\n",
       "\t19 & 1164 & 283 & 3214 & 3443 & 66 \\\\\n",
       "\t20 & 1574 & 1321 & 529 & 54 & 1074 \\\\\n",
       "\t21 & 708 & 176 & 199 & 880 & 357 \\\\\n",
       "\t22 & 1282 & 1407 & 3063 & 13043 & 712 \\\\\n",
       "\t23 & 228 & 50 & 58 & 228 & 73 \\\\\n",
       "\t24 & 2502 & 2469 & 1140 & 332 & 2685 \\\\\n",
       "\t25 & 919 & 278 & 1376 & 1156 & 25 \\\\\n",
       "\t26 & 7790 & 5685 & 3076 & 762 & 1757 \\\\\n",
       "\t27 & 784 & 767 & 111 & 30 & 0 \\\\\n",
       "\t28 & 1264 & 1477 & 2077 & 442 & 4538 \\\\\n",
       "\t29 & 7620 & 6298 & 2562 & 702 & 819 \\\\\n",
       "\t30 & 780 & 659 & 123 & 65 & 387 \\\\\n",
       "\t$\\dots$ & $\\dots$ & $\\dots$ & $\\dots$ & $\\dots$ & $\\dots$ \\\\\n",
       "\\end{tabular}\n"
      ],
      "text/plain": [
       "\u001b[1m168×5 DataFrame\u001b[0m\n",
       "\u001b[1m Row \u001b[0m│\u001b[1m pts_climber \u001b[0m\u001b[1m pts_gc \u001b[0m\u001b[1m pts_oneday \u001b[0m\u001b[1m pts_sprint \u001b[0m\u001b[1m pts_tt \u001b[0m\n",
       "     │\u001b[90m Int64       \u001b[0m\u001b[90m Int64  \u001b[0m\u001b[90m Int64      \u001b[0m\u001b[90m Int64      \u001b[0m\u001b[90m Int64  \u001b[0m\n",
       "─────┼─────────────────────────────────────────────────────\n",
       "   1 │        2506    2894        1889         104    1993\n",
       "   2 │        7444    6294        1537         163    4526\n",
       "   3 │        5096    5778        1236         909    4817\n",
       "   4 │        2320    2397         261         100     709\n",
       "   5 │        2754    2634         396         107    1452\n",
       "   6 │        3282    2593         918          81     624\n",
       "   7 │        1410     863        2552        2043    1237\n",
       "   8 │        2606    2483         605          93     268\n",
       "   9 │         986     870          32          18     681\n",
       "  10 │        1619    1834         459          39     430\n",
       "  11 │         754     642          37           9     190\n",
       "  ⋮  │      ⋮         ⋮         ⋮           ⋮         ⋮\n",
       " 159 │          12      34         123         148      45\n",
       " 160 │          92      93          47          13       7\n",
       " 161 │         362     506         148         110     313\n",
       " 162 │         368     239         571         303     331\n",
       " 163 │         104     173          22          38      50\n",
       " 164 │          24      38          50         139      30\n",
       " 165 │         606     530         390         288     170\n",
       " 166 │          40      47         128          34     276\n",
       " 167 │         310     312         443         430     543\n",
       " 168 │          47      77         189          74      12\n",
       "\u001b[36m                                           147 rows omitted\u001b[0m"
      ]
     },
     "execution_count": 82,
     "metadata": {},
     "output_type": "execute_result"
    }
   ],
   "source": [
    "df_pcsriderpts = vcat(DataFrame.(rider_df.pcsriderpts)...)\n",
    "rename!(\n",
    "    df_pcsriderpts, \n",
    "    [x => \"pts_\" * string(x) for x in names(df_pcsriderpts)]\n",
    "    )\n",
    "# hcat(rider_df, df_pcsriderpts)"
   ]
  },
  {
   "cell_type": "code",
   "execution_count": 84,
   "metadata": {},
   "outputs": [
    {
     "name": "stdout",
     "output_type": "stream",
     "text": [
      "\u001b[1m176×15 DataFrame\u001b[0m\n",
      "\u001b[1m Row \u001b[0m│\u001b[1m        \u001b[0m\u001b[1m rider                   \u001b[0m\u001b[1m team                  \u001b[0m\u001b[1m class_raw   \u001b[0m\u001b[1m co\u001b[0m ⋯\n",
      "     │\u001b[90m String \u001b[0m\u001b[90m String                  \u001b[0m\u001b[90m String                \u001b[0m\u001b[90m String      \u001b[0m\u001b[90m In\u001b[0m ⋯\n",
      "─────┼──────────────────────────────────────────────────────────────────────────\n",
      "   1 │         Remco Evenepoel          Soudal - Quick Step    All Rounder     ⋯\n",
      "   2 │         Primož Roglič            Jumbo-Visma            All Rounder\n",
      "   3 │         Geraint Thomas           INEOS Grenadiers       All Rounder\n",
      "   4 │         Tao Geoghegan Hart       INEOS Grenadiers       Climber\n",
      "   5 │         João Almeida             UAE Team Emirates      All Rounder     ⋯\n",
      "   6 │         Aleksandr Vlasov         BORA - hansgrohe       All Rounder\n",
      "   7 │         Mads Pedersen            Trek - Segafredo       Sprinter\n",
      "   8 │         Jack Haig                Bahrain - Victorious   Climber\n",
      "   9 │         Thymen Arensman          INEOS Grenadiers       All Rounder     ⋯\n",
      "  10 │         Pavel Sivakov            INEOS Grenadiers       All Rounder\n",
      "  11 │         Jay Vine                 UAE Team Emirates      Climber\n",
      "  ⋮  │   ⋮                ⋮                       ⋮                 ⋮          ⋱\n",
      " 167 │         Niklas Märkl             Team DSM               Unclassed\n",
      " 168 │         Florian Stork            Team DSM               Unclassed       ⋯\n",
      " 169 │         Martijn Tusveld          Team DSM               Unclassed\n",
      " 170 │         Lukas Pöstlberger        Team Jayco AlUla       Unclassed\n",
      " 171 │         Callum Scotson           Team Jayco AlUla       Unclassed\n",
      " 172 │         Campbell Stewart         Team Jayco AlUla       Unclassed       ⋯\n",
      " 173 │         Amanuel Ghebreigzabhier  Trek - Segafredo       Unclassed\n",
      " 174 │         Daan Hoole               Trek - Segafredo       Unclassed\n",
      " 175 │         Alex Kirsch              Trek - Segafredo       Unclassed\n",
      " 176 │         Otto Vergaerde           Trek - Segafredo       Unclassed       ⋯\n",
      "\u001b[36m                                                 11 columns and 155 rows omitted\u001b[0m"
     ]
    }
   ],
   "source": [
    "show(rider_df)"
   ]
  },
  {
   "cell_type": "code",
   "execution_count": 69,
   "metadata": {},
   "outputs": [
    {
     "data": {
      "text/html": [
       "<div><div style = \"float: left;\"><span>168×5 DataFrame</span></div><div style = \"float: right;\"><span style = \"font-style: italic;\">143 rows omitted</span></div><div style = \"clear: both;\"></div></div><div class = \"data-frame\" style = \"overflow-x: scroll;\"><table class = \"data-frame\" style = \"margin-bottom: 6px;\"><thead><tr class = \"header\"><th class = \"rowNumber\" style = \"font-weight: bold; text-align: right;\">Row</th><th style = \"text-align: left;\">climber</th><th style = \"text-align: left;\">gc</th><th style = \"text-align: left;\">oneday</th><th style = \"text-align: left;\">sprint</th><th style = \"text-align: left;\">tt</th></tr><tr class = \"subheader headerLastRow\"><th class = \"rowNumber\" style = \"font-weight: bold; text-align: right;\"></th><th title = \"Int64\" style = \"text-align: left;\">Int64</th><th title = \"Int64\" style = \"text-align: left;\">Int64</th><th title = \"Int64\" style = \"text-align: left;\">Int64</th><th title = \"Int64\" style = \"text-align: left;\">Int64</th><th title = \"Int64\" style = \"text-align: left;\">Int64</th></tr></thead><tbody><tr><td class = \"rowNumber\" style = \"font-weight: bold; text-align: right;\">1</td><td style = \"text-align: right;\">2506</td><td style = \"text-align: right;\">2894</td><td style = \"text-align: right;\">1889</td><td style = \"text-align: right;\">104</td><td style = \"text-align: right;\">1993</td></tr><tr><td class = \"rowNumber\" style = \"font-weight: bold; text-align: right;\">2</td><td style = \"text-align: right;\">7444</td><td style = \"text-align: right;\">6294</td><td style = \"text-align: right;\">1537</td><td style = \"text-align: right;\">163</td><td style = \"text-align: right;\">4526</td></tr><tr><td class = \"rowNumber\" style = \"font-weight: bold; text-align: right;\">3</td><td style = \"text-align: right;\">5096</td><td style = \"text-align: right;\">5778</td><td style = \"text-align: right;\">1236</td><td style = \"text-align: right;\">909</td><td style = \"text-align: right;\">4817</td></tr><tr><td class = \"rowNumber\" style = \"font-weight: bold; text-align: right;\">4</td><td style = \"text-align: right;\">2320</td><td style = \"text-align: right;\">2397</td><td style = \"text-align: right;\">261</td><td style = \"text-align: right;\">100</td><td style = \"text-align: right;\">709</td></tr><tr><td class = \"rowNumber\" style = \"font-weight: bold; text-align: right;\">5</td><td style = \"text-align: right;\">2754</td><td style = \"text-align: right;\">2634</td><td style = \"text-align: right;\">396</td><td style = \"text-align: right;\">107</td><td style = \"text-align: right;\">1452</td></tr><tr><td class = \"rowNumber\" style = \"font-weight: bold; text-align: right;\">6</td><td style = \"text-align: right;\">3282</td><td style = \"text-align: right;\">2593</td><td style = \"text-align: right;\">918</td><td style = \"text-align: right;\">81</td><td style = \"text-align: right;\">624</td></tr><tr><td class = \"rowNumber\" style = \"font-weight: bold; text-align: right;\">7</td><td style = \"text-align: right;\">1410</td><td style = \"text-align: right;\">863</td><td style = \"text-align: right;\">2552</td><td style = \"text-align: right;\">2043</td><td style = \"text-align: right;\">1237</td></tr><tr><td class = \"rowNumber\" style = \"font-weight: bold; text-align: right;\">8</td><td style = \"text-align: right;\">2606</td><td style = \"text-align: right;\">2483</td><td style = \"text-align: right;\">605</td><td style = \"text-align: right;\">93</td><td style = \"text-align: right;\">268</td></tr><tr><td class = \"rowNumber\" style = \"font-weight: bold; text-align: right;\">9</td><td style = \"text-align: right;\">986</td><td style = \"text-align: right;\">870</td><td style = \"text-align: right;\">32</td><td style = \"text-align: right;\">18</td><td style = \"text-align: right;\">681</td></tr><tr><td class = \"rowNumber\" style = \"font-weight: bold; text-align: right;\">10</td><td style = \"text-align: right;\">1619</td><td style = \"text-align: right;\">1834</td><td style = \"text-align: right;\">459</td><td style = \"text-align: right;\">39</td><td style = \"text-align: right;\">430</td></tr><tr><td class = \"rowNumber\" style = \"font-weight: bold; text-align: right;\">11</td><td style = \"text-align: right;\">754</td><td style = \"text-align: right;\">642</td><td style = \"text-align: right;\">37</td><td style = \"text-align: right;\">9</td><td style = \"text-align: right;\">190</td></tr><tr><td class = \"rowNumber\" style = \"font-weight: bold; text-align: right;\">12</td><td style = \"text-align: right;\">4882</td><td style = \"text-align: right;\">4069</td><td style = \"text-align: right;\">835</td><td style = \"text-align: right;\">608</td><td style = \"text-align: right;\">1078</td></tr><tr><td class = \"rowNumber\" style = \"font-weight: bold; text-align: right;\">13</td><td style = \"text-align: right;\">1626</td><td style = \"text-align: right;\">729</td><td style = \"text-align: right;\">245</td><td style = \"text-align: right;\">50</td><td style = \"text-align: right;\">631</td></tr><tr><td style = \"text-align: right;\">&vellip;</td><td style = \"text-align: right;\">&vellip;</td><td style = \"text-align: right;\">&vellip;</td><td style = \"text-align: right;\">&vellip;</td><td style = \"text-align: right;\">&vellip;</td><td style = \"text-align: right;\">&vellip;</td></tr><tr><td class = \"rowNumber\" style = \"font-weight: bold; text-align: right;\">157</td><td style = \"text-align: right;\">20</td><td style = \"text-align: right;\">4</td><td style = \"text-align: right;\">55</td><td style = \"text-align: right;\">0</td><td style = \"text-align: right;\">0</td></tr><tr><td class = \"rowNumber\" style = \"font-weight: bold; text-align: right;\">158</td><td style = \"text-align: right;\">41</td><td style = \"text-align: right;\">28</td><td style = \"text-align: right;\">105</td><td style = \"text-align: right;\">6</td><td style = \"text-align: right;\">2</td></tr><tr><td class = \"rowNumber\" style = \"font-weight: bold; text-align: right;\">159</td><td style = \"text-align: right;\">12</td><td style = \"text-align: right;\">34</td><td style = \"text-align: right;\">123</td><td style = \"text-align: right;\">148</td><td style = \"text-align: right;\">45</td></tr><tr><td class = \"rowNumber\" style = \"font-weight: bold; text-align: right;\">160</td><td style = \"text-align: right;\">92</td><td style = \"text-align: right;\">93</td><td style = \"text-align: right;\">47</td><td style = \"text-align: right;\">13</td><td style = \"text-align: right;\">7</td></tr><tr><td class = \"rowNumber\" style = \"font-weight: bold; text-align: right;\">161</td><td style = \"text-align: right;\">362</td><td style = \"text-align: right;\">506</td><td style = \"text-align: right;\">148</td><td style = \"text-align: right;\">110</td><td style = \"text-align: right;\">313</td></tr><tr><td class = \"rowNumber\" style = \"font-weight: bold; text-align: right;\">162</td><td style = \"text-align: right;\">368</td><td style = \"text-align: right;\">239</td><td style = \"text-align: right;\">571</td><td style = \"text-align: right;\">303</td><td style = \"text-align: right;\">331</td></tr><tr><td class = \"rowNumber\" style = \"font-weight: bold; text-align: right;\">163</td><td style = \"text-align: right;\">104</td><td style = \"text-align: right;\">173</td><td style = \"text-align: right;\">22</td><td style = \"text-align: right;\">38</td><td style = \"text-align: right;\">50</td></tr><tr><td class = \"rowNumber\" style = \"font-weight: bold; text-align: right;\">164</td><td style = \"text-align: right;\">24</td><td style = \"text-align: right;\">38</td><td style = \"text-align: right;\">50</td><td style = \"text-align: right;\">139</td><td style = \"text-align: right;\">30</td></tr><tr><td class = \"rowNumber\" style = \"font-weight: bold; text-align: right;\">165</td><td style = \"text-align: right;\">606</td><td style = \"text-align: right;\">530</td><td style = \"text-align: right;\">390</td><td style = \"text-align: right;\">288</td><td style = \"text-align: right;\">170</td></tr><tr><td class = \"rowNumber\" style = \"font-weight: bold; text-align: right;\">166</td><td style = \"text-align: right;\">40</td><td style = \"text-align: right;\">47</td><td style = \"text-align: right;\">128</td><td style = \"text-align: right;\">34</td><td style = \"text-align: right;\">276</td></tr><tr><td class = \"rowNumber\" style = \"font-weight: bold; text-align: right;\">167</td><td style = \"text-align: right;\">310</td><td style = \"text-align: right;\">312</td><td style = \"text-align: right;\">443</td><td style = \"text-align: right;\">430</td><td style = \"text-align: right;\">543</td></tr><tr><td class = \"rowNumber\" style = \"font-weight: bold; text-align: right;\">168</td><td style = \"text-align: right;\">47</td><td style = \"text-align: right;\">77</td><td style = \"text-align: right;\">189</td><td style = \"text-align: right;\">74</td><td style = \"text-align: right;\">12</td></tr></tbody></table></div>"
      ],
      "text/latex": [
       "\\begin{tabular}{r|ccccc}\n",
       "\t& climber & gc & oneday & sprint & tt\\\\\n",
       "\t\\hline\n",
       "\t& Int64 & Int64 & Int64 & Int64 & Int64\\\\\n",
       "\t\\hline\n",
       "\t1 & 2506 & 2894 & 1889 & 104 & 1993 \\\\\n",
       "\t2 & 7444 & 6294 & 1537 & 163 & 4526 \\\\\n",
       "\t3 & 5096 & 5778 & 1236 & 909 & 4817 \\\\\n",
       "\t4 & 2320 & 2397 & 261 & 100 & 709 \\\\\n",
       "\t5 & 2754 & 2634 & 396 & 107 & 1452 \\\\\n",
       "\t6 & 3282 & 2593 & 918 & 81 & 624 \\\\\n",
       "\t7 & 1410 & 863 & 2552 & 2043 & 1237 \\\\\n",
       "\t8 & 2606 & 2483 & 605 & 93 & 268 \\\\\n",
       "\t9 & 986 & 870 & 32 & 18 & 681 \\\\\n",
       "\t10 & 1619 & 1834 & 459 & 39 & 430 \\\\\n",
       "\t11 & 754 & 642 & 37 & 9 & 190 \\\\\n",
       "\t12 & 4882 & 4069 & 835 & 608 & 1078 \\\\\n",
       "\t13 & 1626 & 729 & 245 & 50 & 631 \\\\\n",
       "\t14 & 2412 & 2427 & 265 & 31 & 389 \\\\\n",
       "\t15 & 8148 & 6513 & 1915 & 170 & 1444 \\\\\n",
       "\t16 & 528 & 523 & 495 & 108 & 4118 \\\\\n",
       "\t17 & 1158 & 166 & 1723 & 4020 & 77 \\\\\n",
       "\t18 & 6583 & 812 & 6450 & 3244 & 1640 \\\\\n",
       "\t19 & 1164 & 283 & 3214 & 3443 & 66 \\\\\n",
       "\t20 & 1574 & 1321 & 529 & 54 & 1074 \\\\\n",
       "\t21 & 708 & 176 & 199 & 880 & 357 \\\\\n",
       "\t22 & 1282 & 1407 & 3063 & 13043 & 712 \\\\\n",
       "\t23 & 228 & 50 & 58 & 228 & 73 \\\\\n",
       "\t24 & 2502 & 2469 & 1140 & 332 & 2685 \\\\\n",
       "\t25 & 919 & 278 & 1376 & 1156 & 25 \\\\\n",
       "\t26 & 7790 & 5685 & 3076 & 762 & 1757 \\\\\n",
       "\t27 & 784 & 767 & 111 & 30 & 0 \\\\\n",
       "\t28 & 1264 & 1477 & 2077 & 442 & 4538 \\\\\n",
       "\t29 & 7620 & 6298 & 2562 & 702 & 819 \\\\\n",
       "\t30 & 780 & 659 & 123 & 65 & 387 \\\\\n",
       "\t$\\dots$ & $\\dots$ & $\\dots$ & $\\dots$ & $\\dots$ & $\\dots$ \\\\\n",
       "\\end{tabular}\n"
      ],
      "text/plain": [
       "\u001b[1m168×5 DataFrame\u001b[0m\n",
       "\u001b[1m Row \u001b[0m│\u001b[1m climber \u001b[0m\u001b[1m gc    \u001b[0m\u001b[1m oneday \u001b[0m\u001b[1m sprint \u001b[0m\u001b[1m tt    \u001b[0m\n",
       "     │\u001b[90m Int64   \u001b[0m\u001b[90m Int64 \u001b[0m\u001b[90m Int64  \u001b[0m\u001b[90m Int64  \u001b[0m\u001b[90m Int64 \u001b[0m\n",
       "─────┼───────────────────────────────────────\n",
       "   1 │    2506   2894    1889     104   1993\n",
       "   2 │    7444   6294    1537     163   4526\n",
       "   3 │    5096   5778    1236     909   4817\n",
       "   4 │    2320   2397     261     100    709\n",
       "   5 │    2754   2634     396     107   1452\n",
       "   6 │    3282   2593     918      81    624\n",
       "   7 │    1410    863    2552    2043   1237\n",
       "   8 │    2606   2483     605      93    268\n",
       "   9 │     986    870      32      18    681\n",
       "  10 │    1619   1834     459      39    430\n",
       "  11 │     754    642      37       9    190\n",
       "  ⋮  │    ⋮       ⋮      ⋮       ⋮       ⋮\n",
       " 159 │      12     34     123     148     45\n",
       " 160 │      92     93      47      13      7\n",
       " 161 │     362    506     148     110    313\n",
       " 162 │     368    239     571     303    331\n",
       " 163 │     104    173      22      38     50\n",
       " 164 │      24     38      50     139     30\n",
       " 165 │     606    530     390     288    170\n",
       " 166 │      40     47     128      34    276\n",
       " 167 │     310    312     443     430    543\n",
       " 168 │      47     77     189      74     12\n",
       "\u001b[36m                             147 rows omitted\u001b[0m"
      ]
     },
     "execution_count": 69,
     "metadata": {},
     "output_type": "execute_result"
    }
   ],
   "source": []
  },
  {
   "attachments": {},
   "cell_type": "markdown",
   "metadata": {},
   "source": [
    "## Build model"
   ]
  },
  {
   "cell_type": "code",
   "execution_count": 4,
   "metadata": {},
   "outputs": [
    {
     "name": "stdout",
     "output_type": "stream",
     "text": [
      "Running HiGHS 1.5.1 [date: 1970-01-01, git hash: 93f1876e4]\n",
      "Copyright (c) 2023 HiGHS under MIT licence terms\n",
      "Presolving model\n",
      "6 rows, 176 cols, 528 nonzeros\n",
      "6 rows, 56 cols, 153 nonzeros\n",
      "6 rows, 52 cols, 142 nonzeros\n",
      "\n",
      "Solving MIP model with:\n",
      "   6 rows\n",
      "   52 cols (49 binary, 3 integer, 0 implied int., 0 continuous)\n",
      "   142 nonzeros\n",
      "\n",
      "        Nodes      |    B&B Tree     |            Objective Bounds              |  Dynamic Constraints |       Work      \n",
      "     Proc. InQueue |  Leaves   Expl. | BestBound       BestSol              Gap |   Cuts   InLp Confl. | LpIters     Time\n",
      "\n",
      "         0       0         0   0.00%   10636           -inf                 inf        0      0      0         0     0.0s\n",
      " T       0       0         0   0.00%   10636           3439.860572      209.20%        0      0      0         7     0.0s\n",
      "\n",
      "Solving report\n",
      "  Status            Optimal\n",
      "  Primal bound      3439.86057201\n",
      "  Dual bound        3439.86057201\n",
      "  Gap               0% (tolerance: 0.01%)\n",
      "  Solution status   feasible\n",
      "                    3439.86057201 (objective)\n",
      "                    0 (bound viol.)\n",
      "                    6.66133814775e-16 (int. viol.)\n",
      "                    0 (row viol.)\n",
      "  Timing            0.01 (total)\n",
      "                    0.00 (presolve)\n",
      "                    0.00 (postsolve)\n",
      "  Nodes             1\n",
      "  LP iterations     7 (total)\n",
      "                    0 (strong br.)\n",
      "                    0 (separation)\n",
      "                    0 (heuristics)\n"
     ]
    }
   ],
   "source": [
    "model_results = build_model_stage(rider_df);"
   ]
  },
  {
   "cell_type": "code",
   "execution_count": 5,
   "metadata": {},
   "outputs": [
    {
     "data": {
      "text/plain": [
       "9.0"
      ]
     },
     "execution_count": 5,
     "metadata": {},
     "output_type": "execute_result"
    }
   ],
   "source": [
    "model_results.data |> sum"
   ]
  },
  {
   "cell_type": "code",
   "execution_count": 6,
   "metadata": {},
   "outputs": [
    {
     "data": {
      "text/plain": [
       "100.0"
      ]
     },
     "execution_count": 6,
     "metadata": {},
     "output_type": "execute_result"
    }
   ],
   "source": [
    "# total cost\n",
    "rider_df.cost .* model_results.data |> sum"
   ]
  },
  {
   "attachments": {},
   "cell_type": "markdown",
   "metadata": {},
   "source": [
    "## Results"
   ]
  },
  {
   "cell_type": "code",
   "execution_count": 7,
   "metadata": {},
   "outputs": [
    {
     "data": {
      "text/html": [
       "<div><div style = \"float: left;\"><span>9×7 DataFrame</span></div><div style = \"clear: both;\"></div></div><div class = \"data-frame\" style = \"overflow-x: scroll;\"><table class = \"data-frame\" style = \"margin-bottom: 6px;\"><thead><tr class = \"header\"><th class = \"rowNumber\" style = \"font-weight: bold; text-align: right;\">Row</th><th style = \"text-align: left;\">rider</th><th style = \"text-align: left;\">team</th><th style = \"text-align: left;\">class_raw</th><th style = \"text-align: left;\">selected</th><th style = \"text-align: left;\">points</th><th style = \"text-align: left;\">calcpcsscore</th><th style = \"text-align: left;\">cost</th></tr><tr class = \"subheader headerLastRow\"><th class = \"rowNumber\" style = \"font-weight: bold; text-align: right;\"></th><th title = \"String\" style = \"text-align: left;\">String</th><th title = \"String\" style = \"text-align: left;\">String</th><th title = \"String\" style = \"text-align: left;\">String</th><th title = \"String\" style = \"text-align: left;\">String</th><th title = \"Float64\" style = \"text-align: left;\">Float64</th><th title = \"Float64\" style = \"text-align: left;\">Float64</th><th title = \"Int64\" style = \"text-align: left;\">Int64</th></tr></thead><tbody><tr><td class = \"rowNumber\" style = \"font-weight: bold; text-align: right;\">1</td><td style = \"text-align: left;\">Mads Pedersen</td><td style = \"text-align: left;\">Trek - Segafredo</td><td style = \"text-align: left;\">Sprinter</td><td style = \"text-align: left;\">39.0%</td><td style = \"text-align: right;\">422.0</td><td style = \"text-align: right;\">937.0</td><td style = \"text-align: right;\">14</td></tr><tr><td class = \"rowNumber\" style = \"font-weight: bold; text-align: right;\">2</td><td style = \"text-align: left;\">Remco Evenepoel</td><td style = \"text-align: left;\">Soudal - Quick Step</td><td style = \"text-align: left;\">All Rounder</td><td style = \"text-align: left;\">68.7%</td><td style = \"text-align: right;\">428.0</td><td style = \"text-align: right;\">1105.0</td><td style = \"text-align: right;\">26</td></tr><tr><td class = \"rowNumber\" style = \"font-weight: bold; text-align: right;\">3</td><td style = \"text-align: left;\">João Almeida</td><td style = \"text-align: left;\">UAE Team Emirates</td><td style = \"text-align: left;\">All Rounder</td><td style = \"text-align: left;\">38.6%</td><td style = \"text-align: right;\">303.0</td><td style = \"text-align: right;\">720.0</td><td style = \"text-align: right;\">16</td></tr><tr><td class = \"rowNumber\" style = \"font-weight: bold; text-align: right;\">4</td><td style = \"text-align: left;\">Santiago Buitrago</td><td style = \"text-align: left;\">Bahrain - Victorious</td><td style = \"text-align: left;\">Climber</td><td style = \"text-align: left;\">19.8%</td><td style = \"text-align: right;\">53.0</td><td style = \"text-align: right;\">552.0</td><td style = \"text-align: right;\">8</td></tr><tr><td class = \"rowNumber\" style = \"font-weight: bold; text-align: right;\">5</td><td style = \"text-align: left;\">Lorenzo Rota</td><td style = \"text-align: left;\">Intermarché - Circus - Wanty</td><td style = \"text-align: left;\">Unclassed</td><td style = \"text-align: left;\">3.2%</td><td style = \"text-align: right;\">0.0</td><td style = \"text-align: right;\">983.0</td><td style = \"text-align: right;\">6</td></tr><tr><td class = \"rowNumber\" style = \"font-weight: bold; text-align: right;\">6</td><td style = \"text-align: left;\">Stefan Küng</td><td style = \"text-align: left;\">Groupama - FDJ</td><td style = \"text-align: left;\">Unclassed</td><td style = \"text-align: left;\">19.2%</td><td style = \"text-align: right;\">174.0</td><td style = \"text-align: right;\">1100.7</td><td style = \"text-align: right;\">8</td></tr><tr><td class = \"rowNumber\" style = \"font-weight: bold; text-align: right;\">7</td><td style = \"text-align: left;\">Patrick Konrad</td><td style = \"text-align: left;\">BORA - hansgrohe</td><td style = \"text-align: left;\">Climber</td><td style = \"text-align: left;\">5.2%</td><td style = \"text-align: right;\">50.0</td><td style = \"text-align: right;\">460.0</td><td style = \"text-align: right;\">6</td></tr><tr><td class = \"rowNumber\" style = \"font-weight: bold; text-align: right;\">8</td><td style = \"text-align: left;\">Ben Healy</td><td style = \"text-align: left;\">EF Education-EasyPost</td><td style = \"text-align: left;\">Unclassed</td><td style = \"text-align: left;\">35.3%</td><td style = \"text-align: right;\">0.0</td><td style = \"text-align: right;\">705.0</td><td style = \"text-align: right;\">6</td></tr><tr><td class = \"rowNumber\" style = \"font-weight: bold; text-align: right;\">9</td><td style = \"text-align: left;\">Filippo Ganna</td><td style = \"text-align: left;\">INEOS Grenadiers</td><td style = \"text-align: left;\">Unclassed</td><td style = \"text-align: left;\">39.3%</td><td style = \"text-align: right;\">272.0</td><td style = \"text-align: right;\">1036.3</td><td style = \"text-align: right;\">10</td></tr></tbody></table></div>"
      ],
      "text/latex": [
       "\\begin{tabular}{r|cccccc}\n",
       "\t& rider & team & class\\_raw & selected & points & \\\\\n",
       "\t\\hline\n",
       "\t& String & String & String & String & Float64 & \\\\\n",
       "\t\\hline\n",
       "\t1 & Mads Pedersen & Trek - Segafredo & Sprinter & 39.0\\% & 422.0 & $\\dots$ \\\\\n",
       "\t2 & Remco Evenepoel & Soudal - Quick Step & All Rounder & 68.7\\% & 428.0 & $\\dots$ \\\\\n",
       "\t3 & João Almeida & UAE Team Emirates & All Rounder & 38.6\\% & 303.0 & $\\dots$ \\\\\n",
       "\t4 & Santiago Buitrago & Bahrain - Victorious & Climber & 19.8\\% & 53.0 & $\\dots$ \\\\\n",
       "\t5 & Lorenzo Rota & Intermarché - Circus - Wanty & Unclassed & 3.2\\% & 0.0 & $\\dots$ \\\\\n",
       "\t6 & Stefan Küng & Groupama - FDJ & Unclassed & 19.2\\% & 174.0 & $\\dots$ \\\\\n",
       "\t7 & Patrick Konrad & BORA - hansgrohe & Climber & 5.2\\% & 50.0 & $\\dots$ \\\\\n",
       "\t8 & Ben Healy & EF Education-EasyPost & Unclassed & 35.3\\% & 0.0 & $\\dots$ \\\\\n",
       "\t9 & Filippo Ganna & INEOS Grenadiers & Unclassed & 39.3\\% & 272.0 & $\\dots$ \\\\\n",
       "\\end{tabular}\n"
      ],
      "text/plain": [
       "\u001b[1m9×7 DataFrame\u001b[0m\n",
       "\u001b[1m Row \u001b[0m│\u001b[1m rider             \u001b[0m\u001b[1m team                         \u001b[0m\u001b[1m class_raw   \u001b[0m\u001b[1m selected \u001b[0m\u001b[1m\u001b[0m ⋯\n",
       "     │\u001b[90m String            \u001b[0m\u001b[90m String                       \u001b[0m\u001b[90m String      \u001b[0m\u001b[90m String   \u001b[0m\u001b[90m\u001b[0m ⋯\n",
       "─────┼──────────────────────────────────────────────────────────────────────────\n",
       "   1 │ Mads Pedersen      Trek - Segafredo              Sprinter     39.0%     ⋯\n",
       "   2 │ Remco Evenepoel    Soudal - Quick Step           All Rounder  68.7%\n",
       "   3 │ João Almeida       UAE Team Emirates             All Rounder  38.6%\n",
       "   4 │ Santiago Buitrago  Bahrain - Victorious          Climber      19.8%\n",
       "   5 │ Lorenzo Rota       Intermarché - Circus - Wanty  Unclassed    3.2%      ⋯\n",
       "   6 │ Stefan Küng        Groupama - FDJ                Unclassed    19.2%\n",
       "   7 │ Patrick Konrad     BORA - hansgrohe              Climber      5.2%\n",
       "   8 │ Ben Healy          EF Education-EasyPost         Unclassed    35.3%\n",
       "   9 │ Filippo Ganna      INEOS Grenadiers              Unclassed    39.3%     ⋯\n",
       "\u001b[36m                                                               3 columns omitted\u001b[0m"
      ]
     },
     "execution_count": 7,
     "metadata": {},
     "output_type": "execute_result"
    }
   ],
   "source": [
    "# selected riders\n",
    "rider_df[!, :chosen] = model_results.data .> 0.5\n",
    "chosen_team = filter(:chosen => ==(true), rider_df)\n",
    "chosen_team[:, [:rider, :team, :class_raw, :selected, :points, :calcpcsscore, :cost]]"
   ]
  },
  {
   "cell_type": "code",
   "execution_count": 8,
   "metadata": {},
   "outputs": [
    {
     "data": {
      "text/plain": [
       "1702.0"
      ]
     },
     "execution_count": 8,
     "metadata": {},
     "output_type": "execute_result"
    }
   ],
   "source": [
    "# how much would that team have scored so far?\n",
    "chosen_team.points |> sum"
   ]
  },
  {
   "attachments": {},
   "cell_type": "markdown",
   "metadata": {},
   "source": [
    "### Mucking about"
   ]
  },
  {
   "cell_type": "code",
   "execution_count": 16,
   "metadata": {},
   "outputs": [
    {
     "data": {
      "text/plain": [
       "2-element Vector{TableScraper.Table}:\n",
       " TableScraper.Table(Any[[\"06.05 » 28.05\", \"\", \"\", \"\", \"Giro d'Italia (2.UWT)\", \"\", \"\", \"\", \"more\"], [\"10.05\", \"1\", \"80\", \"\", \"Stage 5 - Atripalda  › Salerno\", \"171\", \"80\", \"180\", \"more\"], [\"09.05\", \"118\", \"84\", \"\", \"Stage 4 - Venosa › Lago Laceno\", \"175\", \"\", \"\", \"more\"], [\"08.05\", \"3\", \"51\", \"\", \"Stage 3 - Vasto › Melfi\", \"213\", \"35\", \"95\", \"more\"], [\"07.05\", \"3\", \"105\", \"\", \"Stage 2 - Teramo › San Salvo\", \"202\", \"35\", \"95\", \"more\"], [\"06.05\", \"142\", \"142\", \"\", \"Stage 1 (ITT) - Fossacesia Marina › Ortona\", \"19.6\", \"\", \"\", \"more\"], [\"09.04\", \"31\", \"\", \"\", \"Paris-Roubaix (1.UWT)\", \"256.6\", \"9\", \"15\", \"more\"], [\"01.04\", \"1\", \"\", \"\", \"Volta Limburg Classic (1.1)94k\", \"193.4\", \"75\", \"125\", \"more\"], [\"20.03 » 26.03\", \"\", \"\", \"\", \"Volta Ciclista a Catalunya (2.UWT)\", \"\", \"\", \"\", \"more\"], [\"\", \"3\", \"\", \"\", \"Points classification\", \"\", \"\", \"\", \"more\"]  …  [\"17.01 » 22.01\", \"\", \"\", \"\", \"Santos Tour Down Under (2.UWT)\", \"\", \"\", \"\", \"more\"], [\"\", \"23\", \"\", \"\", \"Points classification\", \"\", \"\", \"\", \"more\"], [\"\", \"36\", \"\", \"\", \"General classification\", \"\", \"5\", \"10\", \"more\"], [\"22.01\", \"35\", \"\", \"\", \"Stage 5 - Unley › Mount Lofty\", \"112.5\", \"\", \"\", \"more\"], [\"21.01\", \"98\", \"37\", \"\", \"Stage 4 - Port Willunga › Willunga Township\", \"133.2\", \"\", \"\", \"more\"], [\"20.01\", \"31\", \"13\", \"\", \"Stage 3 - Norwood › Campbelltown\", \"116.8\", \"\", \"\", \"more\"], [\"19.01\", \"9\", \"7\", \"\", \"Stage 2 - Brighton › Victor Harbor\", \"154.8\", \"2\", \"5\", \"more\"], [\"18.01\", \"29\", \"5\", \"\", \"Stage 1 - Tanunda › Tanunda\", \"149.9\", \"\", \"\", \"more\"], [\"17.01\", \"4\", \"4\", \"\", \"Prologue - Adelaide  › Adelaide \", \"5.5\", \"13\", \"25\", \"more\"], [\"14.01\", \"3\", \"\", \"\", \"Schwalbe Classic (NAT)\", \"52.65\", \"\", \"\", \"more\"]], Any[\"Date\", \"Result\", \"\", \"\", \"Race\", \"Distance\", \"PointsPCS\", \"PointsUCI\", \"\"])\n",
       " TableScraper.Table(Any[[\"2023\", \"380\", \"43\"], [\"2022\", \"484\", \"108\"], [\"2021\", \"82\", \"510\"], [\"2020\", \"130\", \"259\"], [\"2019\", \"99\", \"604\"], [\"2018\", \"168\", \"372\"], [\"2017\", \"29\", \"1212\"]], Any[\"\", \"Points\", \"position\"])"
      ]
     },
     "execution_count": 16,
     "metadata": {},
     "output_type": "execute_result"
    }
   ],
   "source": [
    "using TableScraper\n",
    "\n",
    "page_tables = scrape_tables(\"https://www.procyclingstats.com/rider/kaden-groves\")"
   ]
  },
  {
   "cell_type": "code",
   "execution_count": 18,
   "metadata": {},
   "outputs": [
    {
     "data": {
      "text/html": [
       "<div><div style = \"float: left;\"><span>7×3 DataFrame</span></div><div style = \"clear: both;\"></div></div><div class = \"data-frame\" style = \"overflow-x: scroll;\"><table class = \"data-frame\" style = \"margin-bottom: 6px;\"><thead><tr class = \"header\"><th class = \"rowNumber\" style = \"font-weight: bold; text-align: right;\">Row</th><th style = \"text-align: left;\"></th><th style = \"text-align: left;\">Points</th><th style = \"text-align: left;\">position</th></tr><tr class = \"subheader headerLastRow\"><th class = \"rowNumber\" style = \"font-weight: bold; text-align: right;\"></th><th title = \"String\" style = \"text-align: left;\">String</th><th title = \"String\" style = \"text-align: left;\">String</th><th title = \"String\" style = \"text-align: left;\">String</th></tr></thead><tbody><tr><td class = \"rowNumber\" style = \"font-weight: bold; text-align: right;\">1</td><td style = \"text-align: left;\">2023</td><td style = \"text-align: left;\">380</td><td style = \"text-align: left;\">43</td></tr><tr><td class = \"rowNumber\" style = \"font-weight: bold; text-align: right;\">2</td><td style = \"text-align: left;\">2022</td><td style = \"text-align: left;\">484</td><td style = \"text-align: left;\">108</td></tr><tr><td class = \"rowNumber\" style = \"font-weight: bold; text-align: right;\">3</td><td style = \"text-align: left;\">2021</td><td style = \"text-align: left;\">82</td><td style = \"text-align: left;\">510</td></tr><tr><td class = \"rowNumber\" style = \"font-weight: bold; text-align: right;\">4</td><td style = \"text-align: left;\">2020</td><td style = \"text-align: left;\">130</td><td style = \"text-align: left;\">259</td></tr><tr><td class = \"rowNumber\" style = \"font-weight: bold; text-align: right;\">5</td><td style = \"text-align: left;\">2019</td><td style = \"text-align: left;\">99</td><td style = \"text-align: left;\">604</td></tr><tr><td class = \"rowNumber\" style = \"font-weight: bold; text-align: right;\">6</td><td style = \"text-align: left;\">2018</td><td style = \"text-align: left;\">168</td><td style = \"text-align: left;\">372</td></tr><tr><td class = \"rowNumber\" style = \"font-weight: bold; text-align: right;\">7</td><td style = \"text-align: left;\">2017</td><td style = \"text-align: left;\">29</td><td style = \"text-align: left;\">1212</td></tr></tbody></table></div>"
      ],
      "text/latex": [
       "\\begin{tabular}{r|ccc}\n",
       "\t&  & Points & position\\\\\n",
       "\t\\hline\n",
       "\t& String & String & String\\\\\n",
       "\t\\hline\n",
       "\t1 & 2023 & 380 & 43 \\\\\n",
       "\t2 & 2022 & 484 & 108 \\\\\n",
       "\t3 & 2021 & 82 & 510 \\\\\n",
       "\t4 & 2020 & 130 & 259 \\\\\n",
       "\t5 & 2019 & 99 & 604 \\\\\n",
       "\t6 & 2018 & 168 & 372 \\\\\n",
       "\t7 & 2017 & 29 & 1212 \\\\\n",
       "\\end{tabular}\n"
      ],
      "text/plain": [
       "\u001b[1m7×3 DataFrame\u001b[0m\n",
       "\u001b[1m Row \u001b[0m│\u001b[1m        \u001b[0m\u001b[1m Points \u001b[0m\u001b[1m position \u001b[0m\n",
       "     │\u001b[90m String \u001b[0m\u001b[90m String \u001b[0m\u001b[90m String   \u001b[0m\n",
       "─────┼──────────────────────────\n",
       "   1 │ 2023    380     43\n",
       "   2 │ 2022    484     108\n",
       "   3 │ 2021    82      510\n",
       "   4 │ 2020    130     259\n",
       "   5 │ 2019    99      604\n",
       "   6 │ 2018    168     372\n",
       "   7 │ 2017    29      1212"
      ]
     },
     "execution_count": 18,
     "metadata": {},
     "output_type": "execute_result"
    }
   ],
   "source": []
  },
  {
   "cell_type": "code",
   "execution_count": 49,
   "metadata": {},
   "outputs": [
    {
     "data": {
      "text/html": [
       "<div><div style = \"float: left;\"><span>7×3 DataFrame</span></div><div style = \"clear: both;\"></div></div><div class = \"data-frame\" style = \"overflow-x: scroll;\"><table class = \"data-frame\" style = \"margin-bottom: 6px;\"><thead><tr class = \"header\"><th class = \"rowNumber\" style = \"font-weight: bold; text-align: right;\">Row</th><th style = \"text-align: left;\">year</th><th style = \"text-align: left;\">points</th><th style = \"text-align: left;\">rank</th></tr><tr class = \"subheader headerLastRow\"><th class = \"rowNumber\" style = \"font-weight: bold; text-align: right;\"></th><th title = \"String\" style = \"text-align: left;\">String</th><th title = \"String\" style = \"text-align: left;\">String</th><th title = \"String\" style = \"text-align: left;\">String</th></tr></thead><tbody><tr><td class = \"rowNumber\" style = \"font-weight: bold; text-align: right;\">1</td><td style = \"text-align: left;\">2023</td><td style = \"text-align: left;\">1674</td><td style = \"text-align: left;\">1</td></tr><tr><td class = \"rowNumber\" style = \"font-weight: bold; text-align: right;\">2</td><td style = \"text-align: left;\">2022</td><td style = \"text-align: left;\">3413</td><td style = \"text-align: left;\">1</td></tr><tr><td class = \"rowNumber\" style = \"font-weight: bold; text-align: right;\">3</td><td style = \"text-align: left;\">2021</td><td style = \"text-align: left;\">3305</td><td style = \"text-align: left;\">1</td></tr><tr><td class = \"rowNumber\" style = \"font-weight: bold; text-align: right;\">4</td><td style = \"text-align: left;\">2020</td><td style = \"text-align: left;\">2063</td><td style = \"text-align: left;\">2</td></tr><tr><td class = \"rowNumber\" style = \"font-weight: bold; text-align: right;\">5</td><td style = \"text-align: left;\">2019</td><td style = \"text-align: left;\">1515</td><td style = \"text-align: left;\">13</td></tr><tr><td class = \"rowNumber\" style = \"font-weight: bold; text-align: right;\">6</td><td style = \"text-align: left;\">2018</td><td style = \"text-align: left;\">241</td><td style = \"text-align: left;\">268</td></tr><tr><td class = \"rowNumber\" style = \"font-weight: bold; text-align: right;\">7</td><td style = \"text-align: left;\">2017</td><td style = \"text-align: left;\">79</td><td style = \"text-align: left;\">718</td></tr></tbody></table></div>"
      ],
      "text/latex": [
       "\\begin{tabular}{r|ccc}\n",
       "\t& year & points & rank\\\\\n",
       "\t\\hline\n",
       "\t& String & String & String\\\\\n",
       "\t\\hline\n",
       "\t1 & 2023 & 1674 & 1 \\\\\n",
       "\t2 & 2022 & 3413 & 1 \\\\\n",
       "\t3 & 2021 & 3305 & 1 \\\\\n",
       "\t4 & 2020 & 2063 & 2 \\\\\n",
       "\t5 & 2019 & 1515 & 13 \\\\\n",
       "\t6 & 2018 & 241 & 268 \\\\\n",
       "\t7 & 2017 & 79 & 718 \\\\\n",
       "\\end{tabular}\n"
      ],
      "text/plain": [
       "\u001b[1m7×3 DataFrame\u001b[0m\n",
       "\u001b[1m Row \u001b[0m│\u001b[1m year   \u001b[0m\u001b[1m points \u001b[0m\u001b[1m rank   \u001b[0m\n",
       "     │\u001b[90m String \u001b[0m\u001b[90m String \u001b[0m\u001b[90m String \u001b[0m\n",
       "─────┼────────────────────────\n",
       "   1 │ 2023    1674    1\n",
       "   2 │ 2022    3413    1\n",
       "   3 │ 2021    3305    1\n",
       "   4 │ 2020    2063    2\n",
       "   5 │ 2019    1515    13\n",
       "   6 │ 2018    241     268\n",
       "   7 │ 2017    79      718"
      ]
     },
     "execution_count": 49,
     "metadata": {},
     "output_type": "execute_result"
    }
   ],
   "source": [
    "\n",
    "rider_name = \"Tadej Pogačar\"\n",
    "\n",
    "regularised_name = replace(\n",
    "    Unicode.normalize(rider_name, stripmark=true, stripcc=true, casefold=true),\n",
    "    \" \" => \"-\"\n",
    "    )\n",
    "pageurl = \"https://www.procyclingstats.com/rider/\" * regularised_name\n",
    "\n",
    "raw_pts = DataFrame(scrape_tables(pageurl)[2])\n",
    "rename!(raw_pts, [:year, :points, :rank])"
   ]
  },
  {
   "cell_type": "code",
   "execution_count": 47,
   "metadata": {},
   "outputs": [
    {
     "data": {
      "text/html": [
       "<div><div style = \"float: left;\"><span>7×3 DataFrame</span></div><div style = \"clear: both;\"></div></div><div class = \"data-frame\" style = \"overflow-x: scroll;\"><table class = \"data-frame\" style = \"margin-bottom: 6px;\"><thead><tr class = \"header\"><th class = \"rowNumber\" style = \"font-weight: bold; text-align: right;\">Row</th><th style = \"text-align: left;\"></th><th style = \"text-align: left;\">Points</th><th style = \"text-align: left;\">position</th></tr><tr class = \"subheader headerLastRow\"><th class = \"rowNumber\" style = \"font-weight: bold; text-align: right;\"></th><th title = \"String\" style = \"text-align: left;\">String</th><th title = \"String\" style = \"text-align: left;\">String</th><th title = \"String\" style = \"text-align: left;\">String</th></tr></thead><tbody><tr><td class = \"rowNumber\" style = \"font-weight: bold; text-align: right;\">1</td><td style = \"text-align: left;\">2023</td><td style = \"text-align: left;\">1674</td><td style = \"text-align: left;\">1</td></tr><tr><td class = \"rowNumber\" style = \"font-weight: bold; text-align: right;\">2</td><td style = \"text-align: left;\">2022</td><td style = \"text-align: left;\">3413</td><td style = \"text-align: left;\">1</td></tr><tr><td class = \"rowNumber\" style = \"font-weight: bold; text-align: right;\">3</td><td style = \"text-align: left;\">2021</td><td style = \"text-align: left;\">3305</td><td style = \"text-align: left;\">1</td></tr><tr><td class = \"rowNumber\" style = \"font-weight: bold; text-align: right;\">4</td><td style = \"text-align: left;\">2020</td><td style = \"text-align: left;\">2063</td><td style = \"text-align: left;\">2</td></tr><tr><td class = \"rowNumber\" style = \"font-weight: bold; text-align: right;\">5</td><td style = \"text-align: left;\">2019</td><td style = \"text-align: left;\">1515</td><td style = \"text-align: left;\">13</td></tr><tr><td class = \"rowNumber\" style = \"font-weight: bold; text-align: right;\">6</td><td style = \"text-align: left;\">2018</td><td style = \"text-align: left;\">241</td><td style = \"text-align: left;\">268</td></tr><tr><td class = \"rowNumber\" style = \"font-weight: bold; text-align: right;\">7</td><td style = \"text-align: left;\">2017</td><td style = \"text-align: left;\">79</td><td style = \"text-align: left;\">718</td></tr></tbody></table></div>"
      ],
      "text/latex": [
       "\\begin{tabular}{r|ccc}\n",
       "\t&  & Points & position\\\\\n",
       "\t\\hline\n",
       "\t& String & String & String\\\\\n",
       "\t\\hline\n",
       "\t1 & 2023 & 1674 & 1 \\\\\n",
       "\t2 & 2022 & 3413 & 1 \\\\\n",
       "\t3 & 2021 & 3305 & 1 \\\\\n",
       "\t4 & 2020 & 2063 & 2 \\\\\n",
       "\t5 & 2019 & 1515 & 13 \\\\\n",
       "\t6 & 2018 & 241 & 268 \\\\\n",
       "\t7 & 2017 & 79 & 718 \\\\\n",
       "\\end{tabular}\n"
      ],
      "text/plain": [
       "\u001b[1m7×3 DataFrame\u001b[0m\n",
       "\u001b[1m Row \u001b[0m│\u001b[1m        \u001b[0m\u001b[1m Points \u001b[0m\u001b[1m position \u001b[0m\n",
       "     │\u001b[90m String \u001b[0m\u001b[90m String \u001b[0m\u001b[90m String   \u001b[0m\n",
       "─────┼──────────────────────────\n",
       "   1 │ 2023    1674    1\n",
       "   2 │ 2022    3413    1\n",
       "   3 │ 2021    3305    1\n",
       "   4 │ 2020    2063    2\n",
       "   5 │ 2019    1515    13\n",
       "   6 │ 2018    241     268\n",
       "   7 │ 2017    79      718"
      ]
     },
     "execution_count": 47,
     "metadata": {},
     "output_type": "execute_result"
    }
   ],
   "source": [
    "DataFrame(raw_pts)"
   ]
  }
 ],
 "metadata": {
  "kernelspec": {
   "display_name": "Julia 1.8.5",
   "language": "julia",
   "name": "julia-1.8"
  },
  "language_info": {
   "file_extension": ".jl",
   "mimetype": "application/julia",
   "name": "julia",
   "version": "1.8.5"
  },
  "orig_nbformat": 4
 },
 "nbformat": 4,
 "nbformat_minor": 2
}
