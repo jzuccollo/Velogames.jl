{
 "cells": [
  {
   "attachments": {},
   "cell_type": "markdown",
   "metadata": {},
   "source": [
    "# Velogames solver: Giro d'Italia 2023\n",
    "\n",
    "A script to calculate the optimal team that could have been chosen for a given race in [Velogames fantasy cycling](https://www.velogames.com/)\n",
    "\n",
    "This Julia script uses the [Gumbo](https://github.com/JuliaWeb/Gumbo.jl) and [Cascadia](https://github.com/Algocircle/Cascadia.jl) libraries to scrape rider data, and the [JuMP](https://jump.dev/JuMP.jl/stable/) optimisation library / [HiGHS](https://highs.dev/) solver to construct and solve a mixed-integer program (MIP) described below\n",
    "\n",
    "In Velogames fantasy cycling, you must select a team of 9 riders, each with a specific cost based on their expected performance, spending no more than 100 points. \n",
    "\n",
    "Each rider is classed as either an All-Rounder, a Climber, a Sprinter or is Unclassed. A team must contain 2 All-Rounders, 2 Climbers, 1 Sprinter and 3 Unclassed riders. The 9th selection can be from any of these categories.\n",
    "\n",
    "At the end of the race, each rider will have accumulated a score based on their performance, and the aim is to pick a team with the highest combined score at the end of the race.\n",
    "\n",
    "The optimisation problem can be stated as:\n",
    "\n",
    "$maximise \\sum_{j=1}^{n} x_j y_j$\n",
    "\n",
    "$s.t.$ \n",
    "\n",
    "$\\sum_{j=1}^{n} x_j=9$\n",
    "\n",
    "$\\sum_{j=1}^{n} x_j z_j \\leq 100$\n",
    "\n",
    "$\\sum_{j=1}^{n} x_j a_j \\geq 2$\n",
    "\n",
    "$\\sum_{j=1}^{n} x_j c_j \\geq 2$\n",
    "\n",
    "$\\sum_{j=1}^{n} x_j s_j \\geq 1$\n",
    "\n",
    "$\\sum_{j=1}^{n} x_j u_j \\geq 3$\n",
    "\n",
    "where $j=1...n$ is the set of all riders\n",
    "\n",
    "$x_j\\in[0,1]$ is a binary decision variable denoting if rider $j$ is chosen (1 for chosen, 0 for not chosen)\n",
    "\n",
    "$z_j\\in Z^+$ and $y_j\\in Z^+$ are the cost and score parameters of rider $j$ respectively\n",
    "\n",
    "$a_j\\in[0,1]$, $c_j\\in[0,1]$, $s_j\\in[0,1]$ and $u_j\\in[0,1]$ are binary parameters denoting if rider $j$ is an All-Rounder, Climber, Sprinter or Unclassed respectively, with the further parameter constraint that $a_i+c_i+s_i+u_i=1$ $\\forall i=1...n$ (i.e. each rider is allocated to one and only one of the 4 categories) and by implication $\\sum_{j=1}^{n} a_j+\\sum_{j=1}^{n} c_j+\\sum_{j=1}^{n} s_j+\\sum_{j=1}^{n} u_j=n$ (i.e. the sum of the number of riders in each category is equal to the total number of riders)\n",
    "\n",
    "## Load libraries"
   ]
  },
  {
   "cell_type": "code",
   "execution_count": 9,
   "metadata": {},
   "outputs": [
    {
     "name": "stderr",
     "output_type": "stream",
     "text": [
      "WARNING: redefinition of constant PCS_RANKING_URLS. This may fail, cause incorrect answers, or produce other errors.\n"
     ]
    }
   ],
   "source": [
    "# include all files in src directory\n",
    "source_files = readdir(\"src\")\n",
    "for file in source_files\n",
    "    include(\"src/$file\")\n",
    "end"
   ]
  },
  {
   "cell_type": "code",
   "execution_count": 12,
   "metadata": {},
   "outputs": [
    {
     "data": {
      "text/html": [
       "<div><div style = \"float: left;\"><span>176×13 DataFrame</span></div><div style = \"float: right;\"><span style = \"font-style: italic;\">151 rows omitted</span></div><div style = \"clear: both;\"></div></div><div class = \"data-frame\" style = \"overflow-x: scroll;\"><table class = \"data-frame\" style = \"margin-bottom: 6px;\"><thead><tr class = \"header\"><th class = \"rowNumber\" style = \"font-weight: bold; text-align: right;\">Row</th><th style = \"text-align: left;\"></th><th style = \"text-align: left;\">rider</th><th style = \"text-align: left;\">team</th><th style = \"text-align: left;\">class</th><th style = \"text-align: left;\">cost</th><th style = \"text-align: left;\">selected</th><th style = \"text-align: left;\">points</th><th style = \"text-align: left;\">riderkey</th><th style = \"text-align: left;\">All Rounder</th><th style = \"text-align: left;\">Climber</th><th style = \"text-align: left;\">Sprinter</th><th style = \"text-align: left;\">Unclassed</th><th style = \"text-align: left;\">value</th></tr><tr class = \"subheader headerLastRow\"><th class = \"rowNumber\" style = \"font-weight: bold; text-align: right;\"></th><th title = \"String\" style = \"text-align: left;\">String</th><th title = \"String\" style = \"text-align: left;\">String</th><th title = \"String\" style = \"text-align: left;\">String</th><th title = \"String\" style = \"text-align: left;\">String</th><th title = \"Int64\" style = \"text-align: left;\">Int64</th><th title = \"String\" style = \"text-align: left;\">String</th><th title = \"Int64\" style = \"text-align: left;\">Int64</th><th title = \"String\" style = \"text-align: left;\">String</th><th title = \"Bool\" style = \"text-align: left;\">Bool</th><th title = \"Bool\" style = \"text-align: left;\">Bool</th><th title = \"Bool\" style = \"text-align: left;\">Bool</th><th title = \"Bool\" style = \"text-align: left;\">Bool</th><th title = \"Float64\" style = \"text-align: left;\">Float64</th></tr></thead><tbody><tr><td class = \"rowNumber\" style = \"font-weight: bold; text-align: right;\">1</td><td style = \"text-align: left;\"></td><td style = \"text-align: left;\">Remco Evenepoel</td><td style = \"text-align: left;\">Soudal - Quick Step</td><td style = \"text-align: left;\">All Rounder</td><td style = \"text-align: right;\">26</td><td style = \"text-align: left;\">68.7%</td><td style = \"text-align: right;\">402</td><td style = \"text-align: left;\">ceeeeelmnooprv</td><td style = \"text-align: right;\">true</td><td style = \"text-align: right;\">false</td><td style = \"text-align: right;\">false</td><td style = \"text-align: right;\">false</td><td style = \"text-align: right;\">15.4615</td></tr><tr><td class = \"rowNumber\" style = \"font-weight: bold; text-align: right;\">2</td><td style = \"text-align: left;\"></td><td style = \"text-align: left;\">Primož Roglič</td><td style = \"text-align: left;\">Jumbo-Visma</td><td style = \"text-align: left;\">All Rounder</td><td style = \"text-align: right;\">24</td><td style = \"text-align: left;\">53.7%</td><td style = \"text-align: right;\">289</td><td style = \"text-align: left;\">giilmooprr</td><td style = \"text-align: right;\">true</td><td style = \"text-align: right;\">false</td><td style = \"text-align: right;\">false</td><td style = \"text-align: right;\">false</td><td style = \"text-align: right;\">12.0417</td></tr><tr><td class = \"rowNumber\" style = \"font-weight: bold; text-align: right;\">3</td><td style = \"text-align: left;\"></td><td style = \"text-align: left;\">Geraint Thomas</td><td style = \"text-align: left;\">INEOS Grenadiers</td><td style = \"text-align: left;\">All Rounder</td><td style = \"text-align: right;\">18</td><td style = \"text-align: left;\">11.3%</td><td style = \"text-align: right;\">148</td><td style = \"text-align: left;\">aaeghimnorstt</td><td style = \"text-align: right;\">true</td><td style = \"text-align: right;\">false</td><td style = \"text-align: right;\">false</td><td style = \"text-align: right;\">false</td><td style = \"text-align: right;\">8.22222</td></tr><tr><td class = \"rowNumber\" style = \"font-weight: bold; text-align: right;\">4</td><td style = \"text-align: left;\"></td><td style = \"text-align: left;\">Tao Geoghegan Hart</td><td style = \"text-align: left;\">INEOS Grenadiers</td><td style = \"text-align: left;\">Climber</td><td style = \"text-align: right;\">16</td><td style = \"text-align: left;\">25.2%</td><td style = \"text-align: right;\">272</td><td style = \"text-align: left;\">aaaeeggghhnoortt</td><td style = \"text-align: right;\">false</td><td style = \"text-align: right;\">true</td><td style = \"text-align: right;\">false</td><td style = \"text-align: right;\">false</td><td style = \"text-align: right;\">17.0</td></tr><tr><td class = \"rowNumber\" style = \"font-weight: bold; text-align: right;\">5</td><td style = \"text-align: left;\"></td><td style = \"text-align: left;\">João Almeida</td><td style = \"text-align: left;\">UAE Team Emirates</td><td style = \"text-align: left;\">All Rounder</td><td style = \"text-align: right;\">16</td><td style = \"text-align: left;\">38.6%</td><td style = \"text-align: right;\">285</td><td style = \"text-align: left;\">aadeijlmoo</td><td style = \"text-align: right;\">true</td><td style = \"text-align: right;\">false</td><td style = \"text-align: right;\">false</td><td style = \"text-align: right;\">false</td><td style = \"text-align: right;\">17.8125</td></tr><tr><td class = \"rowNumber\" style = \"font-weight: bold; text-align: right;\">6</td><td style = \"text-align: left;\"></td><td style = \"text-align: left;\">Aleksandr Vlasov</td><td style = \"text-align: left;\">BORA - hansgrohe</td><td style = \"text-align: left;\">All Rounder</td><td style = \"text-align: right;\">14</td><td style = \"text-align: left;\">12.9%</td><td style = \"text-align: right;\">186</td><td style = \"text-align: left;\">aaadekllnorssvv</td><td style = \"text-align: right;\">true</td><td style = \"text-align: right;\">false</td><td style = \"text-align: right;\">false</td><td style = \"text-align: right;\">false</td><td style = \"text-align: right;\">13.2857</td></tr><tr><td class = \"rowNumber\" style = \"font-weight: bold; text-align: right;\">7</td><td style = \"text-align: left;\"></td><td style = \"text-align: left;\">Mads Pedersen</td><td style = \"text-align: left;\">Trek - Segafredo</td><td style = \"text-align: left;\">Sprinter</td><td style = \"text-align: right;\">14</td><td style = \"text-align: left;\">39.0%</td><td style = \"text-align: right;\">256</td><td style = \"text-align: left;\">addeeemnprss</td><td style = \"text-align: right;\">false</td><td style = \"text-align: right;\">false</td><td style = \"text-align: right;\">true</td><td style = \"text-align: right;\">false</td><td style = \"text-align: right;\">18.2857</td></tr><tr><td class = \"rowNumber\" style = \"font-weight: bold; text-align: right;\">8</td><td style = \"text-align: left;\"></td><td style = \"text-align: left;\">Jack Haig</td><td style = \"text-align: left;\">Bahrain - Victorious</td><td style = \"text-align: left;\">Climber</td><td style = \"text-align: right;\">12</td><td style = \"text-align: left;\">10.6%</td><td style = \"text-align: right;\">29</td><td style = \"text-align: left;\">aacghijk</td><td style = \"text-align: right;\">false</td><td style = \"text-align: right;\">true</td><td style = \"text-align: right;\">false</td><td style = \"text-align: right;\">false</td><td style = \"text-align: right;\">2.41667</td></tr><tr><td class = \"rowNumber\" style = \"font-weight: bold; text-align: right;\">9</td><td style = \"text-align: left;\"></td><td style = \"text-align: left;\">Thymen Arensman</td><td style = \"text-align: left;\">INEOS Grenadiers</td><td style = \"text-align: left;\">All Rounder</td><td style = \"text-align: right;\">12</td><td style = \"text-align: left;\">4.7%</td><td style = \"text-align: right;\">20</td><td style = \"text-align: left;\">aaeehmmnnnrsty</td><td style = \"text-align: right;\">true</td><td style = \"text-align: right;\">false</td><td style = \"text-align: right;\">false</td><td style = \"text-align: right;\">false</td><td style = \"text-align: right;\">1.66667</td></tr><tr><td class = \"rowNumber\" style = \"font-weight: bold; text-align: right;\">10</td><td style = \"text-align: left;\"></td><td style = \"text-align: left;\">Pavel Sivakov</td><td style = \"text-align: left;\">INEOS Grenadiers</td><td style = \"text-align: left;\">All Rounder</td><td style = \"text-align: right;\">12</td><td style = \"text-align: left;\">3.5%</td><td style = \"text-align: right;\">35</td><td style = \"text-align: left;\">aaeiklopsvvv</td><td style = \"text-align: right;\">true</td><td style = \"text-align: right;\">false</td><td style = \"text-align: right;\">false</td><td style = \"text-align: right;\">false</td><td style = \"text-align: right;\">2.91667</td></tr><tr><td class = \"rowNumber\" style = \"font-weight: bold; text-align: right;\">11</td><td style = \"text-align: left;\"></td><td style = \"text-align: left;\">Jay Vine</td><td style = \"text-align: left;\">UAE Team Emirates</td><td style = \"text-align: left;\">Climber</td><td style = \"text-align: right;\">12</td><td style = \"text-align: left;\">21.8%</td><td style = \"text-align: right;\">185</td><td style = \"text-align: left;\">aeijnvy</td><td style = \"text-align: right;\">false</td><td style = \"text-align: right;\">true</td><td style = \"text-align: right;\">false</td><td style = \"text-align: right;\">false</td><td style = \"text-align: right;\">15.4167</td></tr><tr><td class = \"rowNumber\" style = \"font-weight: bold; text-align: right;\">12</td><td style = \"text-align: left;\"></td><td style = \"text-align: left;\">Damiano Caruso</td><td style = \"text-align: left;\">Bahrain - Victorious</td><td style = \"text-align: left;\">Climber</td><td style = \"text-align: right;\">10</td><td style = \"text-align: left;\">11.5%</td><td style = \"text-align: right;\">107</td><td style = \"text-align: left;\">aaacdimnoorsu</td><td style = \"text-align: right;\">false</td><td style = \"text-align: right;\">true</td><td style = \"text-align: right;\">false</td><td style = \"text-align: right;\">false</td><td style = \"text-align: right;\">10.7</td></tr><tr><td class = \"rowNumber\" style = \"font-weight: bold; text-align: right;\">13</td><td style = \"text-align: left;\"></td><td style = \"text-align: left;\">Lennard Kämna</td><td style = \"text-align: left;\">BORA - hansgrohe</td><td style = \"text-align: left;\">Climber</td><td style = \"text-align: right;\">10</td><td style = \"text-align: left;\">31.3%</td><td style = \"text-align: right;\">33</td><td style = \"text-align: left;\">aadeklmnnnr</td><td style = \"text-align: right;\">false</td><td style = \"text-align: right;\">true</td><td style = \"text-align: right;\">false</td><td style = \"text-align: right;\">false</td><td style = \"text-align: right;\">3.3</td></tr><tr><td style = \"text-align: right;\">&vellip;</td><td style = \"text-align: right;\">&vellip;</td><td style = \"text-align: right;\">&vellip;</td><td style = \"text-align: right;\">&vellip;</td><td style = \"text-align: right;\">&vellip;</td><td style = \"text-align: right;\">&vellip;</td><td style = \"text-align: right;\">&vellip;</td><td style = \"text-align: right;\">&vellip;</td><td style = \"text-align: right;\">&vellip;</td><td style = \"text-align: right;\">&vellip;</td><td style = \"text-align: right;\">&vellip;</td><td style = \"text-align: right;\">&vellip;</td><td style = \"text-align: right;\">&vellip;</td><td style = \"text-align: right;\">&vellip;</td></tr><tr><td class = \"rowNumber\" style = \"font-weight: bold; text-align: right;\">165</td><td style = \"text-align: left;\"></td><td style = \"text-align: left;\">Karel Vacek</td><td style = \"text-align: left;\">Team Corratec</td><td style = \"text-align: left;\">Unclassed</td><td style = \"text-align: right;\">4</td><td style = \"text-align: left;\">0.2%</td><td style = \"text-align: right;\">0</td><td style = \"text-align: left;\">aaceekklrv</td><td style = \"text-align: right;\">false</td><td style = \"text-align: right;\">false</td><td style = \"text-align: right;\">false</td><td style = \"text-align: right;\">true</td><td style = \"text-align: right;\">0.0</td></tr><tr><td class = \"rowNumber\" style = \"font-weight: bold; text-align: right;\">166</td><td style = \"text-align: left;\"></td><td style = \"text-align: left;\">Jonas Iversby Hvideberg</td><td style = \"text-align: left;\">Team DSM</td><td style = \"text-align: left;\">Unclassed</td><td style = \"text-align: right;\">4</td><td style = \"text-align: left;\">0.3%</td><td style = \"text-align: right;\">12</td><td style = \"text-align: left;\">abbdeeeghiijnorrssvvy</td><td style = \"text-align: right;\">false</td><td style = \"text-align: right;\">false</td><td style = \"text-align: right;\">false</td><td style = \"text-align: right;\">true</td><td style = \"text-align: right;\">3.0</td></tr><tr><td class = \"rowNumber\" style = \"font-weight: bold; text-align: right;\">167</td><td style = \"text-align: left;\"></td><td style = \"text-align: left;\">Niklas Märkl</td><td style = \"text-align: left;\">Team DSM</td><td style = \"text-align: left;\">Unclassed</td><td style = \"text-align: right;\">4</td><td style = \"text-align: left;\">0.3%</td><td style = \"text-align: right;\">12</td><td style = \"text-align: left;\">aikkllmnrs</td><td style = \"text-align: right;\">false</td><td style = \"text-align: right;\">false</td><td style = \"text-align: right;\">false</td><td style = \"text-align: right;\">true</td><td style = \"text-align: right;\">3.0</td></tr><tr><td class = \"rowNumber\" style = \"font-weight: bold; text-align: right;\">168</td><td style = \"text-align: left;\"></td><td style = \"text-align: left;\">Florian Stork</td><td style = \"text-align: left;\">Team DSM</td><td style = \"text-align: left;\">Unclassed</td><td style = \"text-align: right;\">4</td><td style = \"text-align: left;\">0.6%</td><td style = \"text-align: right;\">12</td><td style = \"text-align: left;\">afiklnoorrst</td><td style = \"text-align: right;\">false</td><td style = \"text-align: right;\">false</td><td style = \"text-align: right;\">false</td><td style = \"text-align: right;\">true</td><td style = \"text-align: right;\">3.0</td></tr><tr><td class = \"rowNumber\" style = \"font-weight: bold; text-align: right;\">169</td><td style = \"text-align: left;\"></td><td style = \"text-align: left;\">Martijn Tusveld</td><td style = \"text-align: left;\">Team DSM</td><td style = \"text-align: left;\">Unclassed</td><td style = \"text-align: right;\">4</td><td style = \"text-align: left;\">0.5%</td><td style = \"text-align: right;\">12</td><td style = \"text-align: left;\">adeijlmnrsttuv</td><td style = \"text-align: right;\">false</td><td style = \"text-align: right;\">false</td><td style = \"text-align: right;\">false</td><td style = \"text-align: right;\">true</td><td style = \"text-align: right;\">3.0</td></tr><tr><td class = \"rowNumber\" style = \"font-weight: bold; text-align: right;\">170</td><td style = \"text-align: left;\"></td><td style = \"text-align: left;\">Lukas Pöstlberger</td><td style = \"text-align: left;\">Team Jayco AlUla</td><td style = \"text-align: left;\">Unclassed</td><td style = \"text-align: right;\">4</td><td style = \"text-align: left;\">4.2%</td><td style = \"text-align: right;\">8</td><td style = \"text-align: left;\">abeegkllprrsstu</td><td style = \"text-align: right;\">false</td><td style = \"text-align: right;\">false</td><td style = \"text-align: right;\">false</td><td style = \"text-align: right;\">true</td><td style = \"text-align: right;\">2.0</td></tr><tr><td class = \"rowNumber\" style = \"font-weight: bold; text-align: right;\">171</td><td style = \"text-align: left;\"></td><td style = \"text-align: left;\">Callum Scotson</td><td style = \"text-align: left;\">Team Jayco AlUla</td><td style = \"text-align: left;\">Unclassed</td><td style = \"text-align: right;\">4</td><td style = \"text-align: left;\">0.9%</td><td style = \"text-align: right;\">8</td><td style = \"text-align: left;\">accllmnoosstu</td><td style = \"text-align: right;\">false</td><td style = \"text-align: right;\">false</td><td style = \"text-align: right;\">false</td><td style = \"text-align: right;\">true</td><td style = \"text-align: right;\">2.0</td></tr><tr><td class = \"rowNumber\" style = \"font-weight: bold; text-align: right;\">172</td><td style = \"text-align: left;\"></td><td style = \"text-align: left;\">Campbell Stewart</td><td style = \"text-align: left;\">Team Jayco AlUla</td><td style = \"text-align: left;\">Unclassed</td><td style = \"text-align: right;\">4</td><td style = \"text-align: left;\">0.6%</td><td style = \"text-align: right;\">28</td><td style = \"text-align: left;\">aabceellmprsttw</td><td style = \"text-align: right;\">false</td><td style = \"text-align: right;\">false</td><td style = \"text-align: right;\">false</td><td style = \"text-align: right;\">true</td><td style = \"text-align: right;\">7.0</td></tr><tr><td class = \"rowNumber\" style = \"font-weight: bold; text-align: right;\">173</td><td style = \"text-align: left;\"></td><td style = \"text-align: left;\">Amanuel Ghebreigzabhier</td><td style = \"text-align: left;\">Trek - Segafredo</td><td style = \"text-align: left;\">Unclassed</td><td style = \"text-align: right;\">4</td><td style = \"text-align: left;\">1.3%</td><td style = \"text-align: right;\">144</td><td style = \"text-align: left;\">aaabbeeeegghhiilmnrruz</td><td style = \"text-align: right;\">false</td><td style = \"text-align: right;\">false</td><td style = \"text-align: right;\">false</td><td style = \"text-align: right;\">true</td><td style = \"text-align: right;\">36.0</td></tr><tr><td class = \"rowNumber\" style = \"font-weight: bold; text-align: right;\">174</td><td style = \"text-align: left;\"></td><td style = \"text-align: left;\">Daan Hoole</td><td style = \"text-align: left;\">Trek - Segafredo</td><td style = \"text-align: left;\">Unclassed</td><td style = \"text-align: right;\">4</td><td style = \"text-align: left;\">2.1%</td><td style = \"text-align: right;\">21</td><td style = \"text-align: left;\">aadehlnoo</td><td style = \"text-align: right;\">false</td><td style = \"text-align: right;\">false</td><td style = \"text-align: right;\">false</td><td style = \"text-align: right;\">true</td><td style = \"text-align: right;\">5.25</td></tr><tr><td class = \"rowNumber\" style = \"font-weight: bold; text-align: right;\">175</td><td style = \"text-align: left;\"></td><td style = \"text-align: left;\">Alex Kirsch</td><td style = \"text-align: left;\">Trek - Segafredo</td><td style = \"text-align: left;\">Unclassed</td><td style = \"text-align: right;\">4</td><td style = \"text-align: left;\">3.9%</td><td style = \"text-align: right;\">6</td><td style = \"text-align: left;\">acehiklrsx</td><td style = \"text-align: right;\">false</td><td style = \"text-align: right;\">false</td><td style = \"text-align: right;\">false</td><td style = \"text-align: right;\">true</td><td style = \"text-align: right;\">1.5</td></tr><tr><td class = \"rowNumber\" style = \"font-weight: bold; text-align: right;\">176</td><td style = \"text-align: left;\"></td><td style = \"text-align: left;\">Otto Vergaerde</td><td style = \"text-align: left;\">Trek - Segafredo</td><td style = \"text-align: left;\">Unclassed</td><td style = \"text-align: right;\">4</td><td style = \"text-align: left;\">0.7%</td><td style = \"text-align: right;\">6</td><td style = \"text-align: left;\">adeeegoorrttv</td><td style = \"text-align: right;\">false</td><td style = \"text-align: right;\">false</td><td style = \"text-align: right;\">false</td><td style = \"text-align: right;\">true</td><td style = \"text-align: right;\">1.5</td></tr></tbody></table></div>"
      ],
      "text/latex": [
       "\\begin{tabular}{r|ccccccc}\n",
       "\t&  & rider & team & class & cost & selected & \\\\\n",
       "\t\\hline\n",
       "\t& String & String & String & String & Int64 & String & \\\\\n",
       "\t\\hline\n",
       "\t1 &  & Remco Evenepoel & Soudal - Quick Step & All Rounder & 26 & 68.7\\% & $\\dots$ \\\\\n",
       "\t2 &  & Primož Roglič & Jumbo-Visma & All Rounder & 24 & 53.7\\% & $\\dots$ \\\\\n",
       "\t3 &  & Geraint Thomas & INEOS Grenadiers & All Rounder & 18 & 11.3\\% & $\\dots$ \\\\\n",
       "\t4 &  & Tao Geoghegan Hart & INEOS Grenadiers & Climber & 16 & 25.2\\% & $\\dots$ \\\\\n",
       "\t5 &  & João Almeida & UAE Team Emirates & All Rounder & 16 & 38.6\\% & $\\dots$ \\\\\n",
       "\t6 &  & Aleksandr Vlasov & BORA - hansgrohe & All Rounder & 14 & 12.9\\% & $\\dots$ \\\\\n",
       "\t7 &  & Mads Pedersen & Trek - Segafredo & Sprinter & 14 & 39.0\\% & $\\dots$ \\\\\n",
       "\t8 &  & Jack Haig & Bahrain - Victorious & Climber & 12 & 10.6\\% & $\\dots$ \\\\\n",
       "\t9 &  & Thymen Arensman & INEOS Grenadiers & All Rounder & 12 & 4.7\\% & $\\dots$ \\\\\n",
       "\t10 &  & Pavel Sivakov & INEOS Grenadiers & All Rounder & 12 & 3.5\\% & $\\dots$ \\\\\n",
       "\t11 &  & Jay Vine & UAE Team Emirates & Climber & 12 & 21.8\\% & $\\dots$ \\\\\n",
       "\t12 &  & Damiano Caruso & Bahrain - Victorious & Climber & 10 & 11.5\\% & $\\dots$ \\\\\n",
       "\t13 &  & Lennard Kämna & BORA - hansgrohe & Climber & 10 & 31.3\\% & $\\dots$ \\\\\n",
       "\t14 &  & Hugh Carthy & EF Education-EasyPost & Climber & 10 & 21.5\\% & $\\dots$ \\\\\n",
       "\t15 &  & Thibaut Pinot & Groupama - FDJ & Climber & 10 & 16.1\\% & $\\dots$ \\\\\n",
       "\t16 &  & Filippo Ganna & INEOS Grenadiers & Unclassed & 10 & 39.3\\% & $\\dots$ \\\\\n",
       "\t17 &  & Fernando Gaviria & Movistar Team & Sprinter & 10 & 15.7\\% & $\\dots$ \\\\\n",
       "\t18 &  & Michael Matthews & Team Jayco AlUla & Sprinter & 10 & 10.4\\% & $\\dots$ \\\\\n",
       "\t19 &  & Pascal Ackermann & UAE Team Emirates & Sprinter & 10 & 6.2\\% & $\\dots$ \\\\\n",
       "\t20 &  & Brandon McNulty & UAE Team Emirates & All Rounder & 10 & 7.3\\% & $\\dots$ \\\\\n",
       "\t21 &  & Kaden Groves & Alpecin-Deceuninck & Sprinter & 8 & 21.4\\% & $\\dots$ \\\\\n",
       "\t22 &  & Mark Cavendish & Astana Qazaqstan Team & Sprinter & 8 & 14.9\\% & $\\dots$ \\\\\n",
       "\t23 &  & Santiago Buitrago & Bahrain - Victorious & Climber & 8 & 19.8\\% & $\\dots$ \\\\\n",
       "\t24 &  & Jonathan Milan & Bahrain - Victorious & Sprinter & 8 & 1.2\\% & $\\dots$ \\\\\n",
       "\t25 &  & Bob Jungels & BORA - hansgrohe & All Rounder & 8 & 2.4\\% & $\\dots$ \\\\\n",
       "\t26 &  & Simone Consonni & Cofidis & Sprinter & 8 & 1.7\\% & $\\dots$ \\\\\n",
       "\t27 &  & Magnus Cort & EF Education-EasyPost & Unclassed & 8 & 33.9\\% & $\\dots$ \\\\\n",
       "\t28 &  & Rigoberto Urán & EF Education-EasyPost & All Rounder & 8 & 5.2\\% & $\\dots$ \\\\\n",
       "\t29 &  & Lorenzo Fortunato & EOLO-Kometa & Climber & 8 & 8.7\\% & $\\dots$ \\\\\n",
       "\t30 &  & Stefan Küng & Groupama - FDJ & Unclassed & 8 & 19.2\\% & $\\dots$ \\\\\n",
       "\t$\\dots$ & $\\dots$ & $\\dots$ & $\\dots$ & $\\dots$ & $\\dots$ & $\\dots$ &  \\\\\n",
       "\\end{tabular}\n"
      ],
      "text/plain": [
       "\u001b[1m176×13 DataFrame\u001b[0m\n",
       "\u001b[1m Row \u001b[0m│\u001b[1m        \u001b[0m\u001b[1m rider                   \u001b[0m\u001b[1m team                  \u001b[0m\u001b[1m class       \u001b[0m\u001b[1m co\u001b[0m ⋯\n",
       "     │\u001b[90m String \u001b[0m\u001b[90m String                  \u001b[0m\u001b[90m String                \u001b[0m\u001b[90m String      \u001b[0m\u001b[90m In\u001b[0m ⋯\n",
       "─────┼──────────────────────────────────────────────────────────────────────────\n",
       "   1 │         Remco Evenepoel          Soudal - Quick Step    All Rounder     ⋯\n",
       "   2 │         Primož Roglič            Jumbo-Visma            All Rounder\n",
       "   3 │         Geraint Thomas           INEOS Grenadiers       All Rounder\n",
       "   4 │         Tao Geoghegan Hart       INEOS Grenadiers       Climber\n",
       "   5 │         João Almeida             UAE Team Emirates      All Rounder     ⋯\n",
       "   6 │         Aleksandr Vlasov         BORA - hansgrohe       All Rounder\n",
       "   7 │         Mads Pedersen            Trek - Segafredo       Sprinter\n",
       "   8 │         Jack Haig                Bahrain - Victorious   Climber\n",
       "   9 │         Thymen Arensman          INEOS Grenadiers       All Rounder     ⋯\n",
       "  10 │         Pavel Sivakov            INEOS Grenadiers       All Rounder\n",
       "  11 │         Jay Vine                 UAE Team Emirates      Climber\n",
       "  ⋮  │   ⋮                ⋮                       ⋮                 ⋮          ⋱\n",
       " 167 │         Niklas Märkl             Team DSM               Unclassed\n",
       " 168 │         Florian Stork            Team DSM               Unclassed       ⋯\n",
       " 169 │         Martijn Tusveld          Team DSM               Unclassed\n",
       " 170 │         Lukas Pöstlberger        Team Jayco AlUla       Unclassed\n",
       " 171 │         Callum Scotson           Team Jayco AlUla       Unclassed\n",
       " 172 │         Campbell Stewart         Team Jayco AlUla       Unclassed       ⋯\n",
       " 173 │         Amanuel Ghebreigzabhier  Trek - Segafredo       Unclassed\n",
       " 174 │         Daan Hoole               Trek - Segafredo       Unclassed\n",
       " 175 │         Alex Kirsch              Trek - Segafredo       Unclassed\n",
       " 176 │         Otto Vergaerde           Trek - Segafredo       Unclassed       ⋯\n",
       "\u001b[36m                                                  9 columns and 155 rows omitted\u001b[0m"
      ]
     },
     "execution_count": 12,
     "metadata": {},
     "output_type": "execute_result"
    }
   ],
   "source": [
    "rider_df = getvgriders(\"https://www.velogames.com/italy/2023/riders.php\")\n",
    "\n",
    "\n",
    "\n",
    "rider_df"
   ]
  },
  {
   "cell_type": "code",
   "execution_count": 13,
   "metadata": {},
   "outputs": [
    {
     "name": "stdout",
     "output_type": "stream",
     "text": [
      "Running HiGHS 1.5.1 [date: 1970-01-01, git hash: 93f1876e4]\n",
      "Copyright (c) 2023 HiGHS under MIT licence terms\n",
      "Presolving model\n",
      "6 rows, 176 cols, 528 nonzeros\n",
      "6 rows, 97 cols, 253 nonzeros\n",
      "6 rows, 95 cols, 248 nonzeros\n",
      "Objective function is integral with scale 1\n",
      "\n",
      "Solving MIP model with:\n",
      "   6 rows\n",
      "   95 cols (77 binary, 18 integer, 0 implied int., 0 continuous)\n",
      "   248 nonzeros\n",
      "\n",
      "        Nodes      |    B&B Tree     |            Objective Bounds              |  Dynamic Constraints |       Work      \n",
      "     Proc. InQueue |  Leaves   Expl. | BestBound       BestSol              Gap |   Cuts   InLp Confl. | LpIters     Time\n",
      "\n",
      "         0       0         0   0.00%   8447            -inf                 inf        0      0      0         0     0.0s\n",
      " R       0       0         0   0.00%   2630.5          1995              31.85%        0      0      0         9     0.0s\n",
      " C       0       0         0   0.00%   2627            2027              29.60%       20      2      4        11     0.0s\n",
      "\n",
      "Solving report\n",
      "  Status            Optimal\n",
      "  Primal bound      2627\n",
      "  Dual bound        2627\n",
      "  Gap               0% (tolerance: 0.01%)\n",
      "  Solution status   feasible\n",
      "                    2627 (objective)\n",
      "                    0 (bound viol.)\n",
      "                    0 (int. viol.)\n",
      "                    0 (row viol.)\n",
      "  Timing            0.01 (total)\n",
      "                    0.00 (presolve)\n",
      "                    0.00 (postsolve)\n",
      "  Nodes             1\n",
      "  LP iterations     11 (total)\n",
      "                    0 (strong br.)\n",
      "                    2 (separation)\n",
      "                    0 (heuristics)\n"
     ]
    }
   ],
   "source": [
    "model = Model(HiGHS.Optimizer)\n",
    "@variable(model, x[rider_df.rider], Bin)\n",
    "@objective(model, Max, rider_df.points' * x) # maximise the total score\n",
    "@constraint(model, rider_df.cost' * x <= 100) # cost must be <= 100\n",
    "@constraint(model, sum(x) == 9) # exactly 9 riders must be chosen\n",
    "@constraint(model, rider_df[!, \"All Rounder\"]' * x >= 2) # at least 2 must be all rounders\n",
    "@constraint(model, rider_df[!, \"Sprinter\"]' * x >= 1) # at least 1 must be a sprinter\n",
    "@constraint(model, rider_df[!, \"Climber\"]' * x >= 2) # at least 2 must be climbers\n",
    "@constraint(model, rider_df[!, \"Unclassed\"]' * x >= 3) # at least 3 must be unclassed\n",
    "optimize!(model)"
   ]
  },
  {
   "cell_type": "code",
   "execution_count": 14,
   "metadata": {},
   "outputs": [
    {
     "data": {
      "text/plain": [
       "2627.0"
      ]
     },
     "execution_count": 14,
     "metadata": {},
     "output_type": "execute_result"
    }
   ],
   "source": [
    "# total score\n",
    "objective_value(model)"
   ]
  },
  {
   "cell_type": "code",
   "execution_count": 15,
   "metadata": {},
   "outputs": [
    {
     "data": {
      "text/plain": [
       "100.0"
      ]
     },
     "execution_count": 15,
     "metadata": {},
     "output_type": "execute_result"
    }
   ],
   "source": [
    "# total cost\n",
    "rider_df.cost.*value.(x).data |> sum"
   ]
  },
  {
   "cell_type": "code",
   "execution_count": 16,
   "metadata": {},
   "outputs": [
    {
     "data": {
      "text/html": [
       "<div><div style = \"float: left;\"><span>9×14 DataFrame</span></div><div style = \"clear: both;\"></div></div><div class = \"data-frame\" style = \"overflow-x: scroll;\"><table class = \"data-frame\" style = \"margin-bottom: 6px;\"><thead><tr class = \"header\"><th class = \"rowNumber\" style = \"font-weight: bold; text-align: right;\">Row</th><th style = \"text-align: left;\"></th><th style = \"text-align: left;\">rider</th><th style = \"text-align: left;\">team</th><th style = \"text-align: left;\">class</th><th style = \"text-align: left;\">cost</th><th style = \"text-align: left;\">selected</th><th style = \"text-align: left;\">points</th><th style = \"text-align: left;\">riderkey</th><th style = \"text-align: left;\">All Rounder</th><th style = \"text-align: left;\">Climber</th><th style = \"text-align: left;\">Sprinter</th><th style = \"text-align: left;\">Unclassed</th><th style = \"text-align: left;\">value</th><th style = \"text-align: left;\">chosen</th></tr><tr class = \"subheader headerLastRow\"><th class = \"rowNumber\" style = \"font-weight: bold; text-align: right;\"></th><th title = \"String\" style = \"text-align: left;\">String</th><th title = \"String\" style = \"text-align: left;\">String</th><th title = \"String\" style = \"text-align: left;\">String</th><th title = \"String\" style = \"text-align: left;\">String</th><th title = \"Int64\" style = \"text-align: left;\">Int64</th><th title = \"String\" style = \"text-align: left;\">String</th><th title = \"Int64\" style = \"text-align: left;\">Int64</th><th title = \"String\" style = \"text-align: left;\">String</th><th title = \"Bool\" style = \"text-align: left;\">Bool</th><th title = \"Bool\" style = \"text-align: left;\">Bool</th><th title = \"Bool\" style = \"text-align: left;\">Bool</th><th title = \"Bool\" style = \"text-align: left;\">Bool</th><th title = \"Float64\" style = \"text-align: left;\">Float64</th><th title = \"Bool\" style = \"text-align: left;\">Bool</th></tr></thead><tbody><tr><td class = \"rowNumber\" style = \"font-weight: bold; text-align: right;\">1</td><td style = \"text-align: left;\"></td><td style = \"text-align: left;\">Remco Evenepoel</td><td style = \"text-align: left;\">Soudal - Quick Step</td><td style = \"text-align: left;\">All Rounder</td><td style = \"text-align: right;\">26</td><td style = \"text-align: left;\">68.7%</td><td style = \"text-align: right;\">402</td><td style = \"text-align: left;\">ceeeeelmnooprv</td><td style = \"text-align: right;\">true</td><td style = \"text-align: right;\">false</td><td style = \"text-align: right;\">false</td><td style = \"text-align: right;\">false</td><td style = \"text-align: right;\">15.4615</td><td style = \"text-align: right;\">true</td></tr><tr><td class = \"rowNumber\" style = \"font-weight: bold; text-align: right;\">2</td><td style = \"text-align: left;\"></td><td style = \"text-align: left;\">Tao Geoghegan Hart</td><td style = \"text-align: left;\">INEOS Grenadiers</td><td style = \"text-align: left;\">Climber</td><td style = \"text-align: right;\">16</td><td style = \"text-align: left;\">25.2%</td><td style = \"text-align: right;\">272</td><td style = \"text-align: left;\">aaaeeggghhnoortt</td><td style = \"text-align: right;\">false</td><td style = \"text-align: right;\">true</td><td style = \"text-align: right;\">false</td><td style = \"text-align: right;\">false</td><td style = \"text-align: right;\">17.0</td><td style = \"text-align: right;\">true</td></tr><tr><td class = \"rowNumber\" style = \"font-weight: bold; text-align: right;\">3</td><td style = \"text-align: left;\"></td><td style = \"text-align: left;\">João Almeida</td><td style = \"text-align: left;\">UAE Team Emirates</td><td style = \"text-align: left;\">All Rounder</td><td style = \"text-align: right;\">16</td><td style = \"text-align: left;\">38.6%</td><td style = \"text-align: right;\">285</td><td style = \"text-align: left;\">aadeijlmoo</td><td style = \"text-align: right;\">true</td><td style = \"text-align: right;\">false</td><td style = \"text-align: right;\">false</td><td style = \"text-align: right;\">false</td><td style = \"text-align: right;\">17.8125</td><td style = \"text-align: right;\">true</td></tr><tr><td class = \"rowNumber\" style = \"font-weight: bold; text-align: right;\">4</td><td style = \"text-align: left;\"></td><td style = \"text-align: left;\">Michael Matthews</td><td style = \"text-align: left;\">Team Jayco AlUla</td><td style = \"text-align: left;\">Sprinter</td><td style = \"text-align: right;\">10</td><td style = \"text-align: left;\">10.4%</td><td style = \"text-align: right;\">358</td><td style = \"text-align: left;\">aaceehhilmmsttw</td><td style = \"text-align: right;\">false</td><td style = \"text-align: right;\">false</td><td style = \"text-align: right;\">true</td><td style = \"text-align: right;\">false</td><td style = \"text-align: right;\">35.8</td><td style = \"text-align: right;\">true</td></tr><tr><td class = \"rowNumber\" style = \"font-weight: bold; text-align: right;\">5</td><td style = \"text-align: left;\"></td><td style = \"text-align: left;\">Koen Bouwman</td><td style = \"text-align: left;\">Jumbo-Visma</td><td style = \"text-align: left;\">Climber</td><td style = \"text-align: right;\">8</td><td style = \"text-align: left;\">3.0%</td><td style = \"text-align: right;\">146</td><td style = \"text-align: left;\">abekmnnoouw</td><td style = \"text-align: right;\">false</td><td style = \"text-align: right;\">true</td><td style = \"text-align: right;\">false</td><td style = \"text-align: right;\">false</td><td style = \"text-align: right;\">18.25</td><td style = \"text-align: right;\">true</td></tr><tr><td class = \"rowNumber\" style = \"font-weight: bold; text-align: right;\">6</td><td style = \"text-align: left;\"></td><td style = \"text-align: left;\">Aurélien Paret-Peintre</td><td style = \"text-align: left;\">AG2R Citroën Team</td><td style = \"text-align: left;\">Unclassed</td><td style = \"text-align: right;\">6</td><td style = \"text-align: left;\">8.3%</td><td style = \"text-align: right;\">300</td><td style = \"text-align: left;\">aaeeeeiilnnpprrrttu</td><td style = \"text-align: right;\">false</td><td style = \"text-align: right;\">false</td><td style = \"text-align: right;\">false</td><td style = \"text-align: right;\">true</td><td style = \"text-align: right;\">50.0</td><td style = \"text-align: right;\">true</td></tr><tr><td class = \"rowNumber\" style = \"font-weight: bold; text-align: right;\">7</td><td style = \"text-align: left;\"></td><td style = \"text-align: left;\">Vincenzo Albanese</td><td style = \"text-align: left;\">EOLO-Kometa</td><td style = \"text-align: left;\">Sprinter</td><td style = \"text-align: right;\">6</td><td style = \"text-align: left;\">5.8%</td><td style = \"text-align: right;\">336</td><td style = \"text-align: left;\">aabceeeilnnnosvz</td><td style = \"text-align: right;\">false</td><td style = \"text-align: right;\">false</td><td style = \"text-align: right;\">true</td><td style = \"text-align: right;\">false</td><td style = \"text-align: right;\">56.0</td><td style = \"text-align: right;\">true</td></tr><tr><td class = \"rowNumber\" style = \"font-weight: bold; text-align: right;\">8</td><td style = \"text-align: left;\"></td><td style = \"text-align: left;\">Andreas Leknessund</td><td style = \"text-align: left;\">Team DSM</td><td style = \"text-align: left;\">Unclassed</td><td style = \"text-align: right;\">6</td><td style = \"text-align: left;\">5.6%</td><td style = \"text-align: right;\">255</td><td style = \"text-align: left;\">aaddeeeklnnnrsssu</td><td style = \"text-align: right;\">false</td><td style = \"text-align: right;\">false</td><td style = \"text-align: right;\">false</td><td style = \"text-align: right;\">true</td><td style = \"text-align: right;\">42.5</td><td style = \"text-align: right;\">true</td></tr><tr><td class = \"rowNumber\" style = \"font-weight: bold; text-align: right;\">9</td><td style = \"text-align: left;\"></td><td style = \"text-align: left;\">Toms Skujiņš</td><td style = \"text-align: left;\">Trek - Segafredo</td><td style = \"text-align: left;\">Unclassed</td><td style = \"text-align: right;\">6</td><td style = \"text-align: left;\">1.1%</td><td style = \"text-align: right;\">273</td><td style = \"text-align: left;\">ijkmosstu</td><td style = \"text-align: right;\">false</td><td style = \"text-align: right;\">false</td><td style = \"text-align: right;\">false</td><td style = \"text-align: right;\">true</td><td style = \"text-align: right;\">45.5</td><td style = \"text-align: right;\">true</td></tr></tbody></table></div>"
      ],
      "text/latex": [
       "\\begin{tabular}{r|ccccccc}\n",
       "\t&  & rider & team & class & cost & selected & \\\\\n",
       "\t\\hline\n",
       "\t& String & String & String & String & Int64 & String & \\\\\n",
       "\t\\hline\n",
       "\t1 &  & Remco Evenepoel & Soudal - Quick Step & All Rounder & 26 & 68.7\\% & $\\dots$ \\\\\n",
       "\t2 &  & Tao Geoghegan Hart & INEOS Grenadiers & Climber & 16 & 25.2\\% & $\\dots$ \\\\\n",
       "\t3 &  & João Almeida & UAE Team Emirates & All Rounder & 16 & 38.6\\% & $\\dots$ \\\\\n",
       "\t4 &  & Michael Matthews & Team Jayco AlUla & Sprinter & 10 & 10.4\\% & $\\dots$ \\\\\n",
       "\t5 &  & Koen Bouwman & Jumbo-Visma & Climber & 8 & 3.0\\% & $\\dots$ \\\\\n",
       "\t6 &  & Aurélien Paret-Peintre & AG2R Citroën Team & Unclassed & 6 & 8.3\\% & $\\dots$ \\\\\n",
       "\t7 &  & Vincenzo Albanese & EOLO-Kometa & Sprinter & 6 & 5.8\\% & $\\dots$ \\\\\n",
       "\t8 &  & Andreas Leknessund & Team DSM & Unclassed & 6 & 5.6\\% & $\\dots$ \\\\\n",
       "\t9 &  & Toms Skujiņš & Trek - Segafredo & Unclassed & 6 & 1.1\\% & $\\dots$ \\\\\n",
       "\\end{tabular}\n"
      ],
      "text/plain": [
       "\u001b[1m9×14 DataFrame\u001b[0m\n",
       "\u001b[1m Row \u001b[0m│\u001b[1m        \u001b[0m\u001b[1m rider                  \u001b[0m\u001b[1m team                \u001b[0m\u001b[1m class       \u001b[0m\u001b[1m cost \u001b[0m ⋯\n",
       "     │\u001b[90m String \u001b[0m\u001b[90m String                 \u001b[0m\u001b[90m String              \u001b[0m\u001b[90m String      \u001b[0m\u001b[90m Int64\u001b[0m ⋯\n",
       "─────┼──────────────────────────────────────────────────────────────────────────\n",
       "   1 │         Remco Evenepoel         Soudal - Quick Step  All Rounder     26 ⋯\n",
       "   2 │         Tao Geoghegan Hart      INEOS Grenadiers     Climber         16\n",
       "   3 │         João Almeida            UAE Team Emirates    All Rounder     16\n",
       "   4 │         Michael Matthews        Team Jayco AlUla     Sprinter        10\n",
       "   5 │         Koen Bouwman            Jumbo-Visma          Climber          8 ⋯\n",
       "   6 │         Aurélien Paret-Peintre  AG2R Citroën Team    Unclassed        6\n",
       "   7 │         Vincenzo Albanese       EOLO-Kometa          Sprinter         6\n",
       "   8 │         Andreas Leknessund      Team DSM             Unclassed        6\n",
       "   9 │         Toms Skujiņš            Trek - Segafredo     Unclassed        6 ⋯\n",
       "\u001b[36m                                                               9 columns omitted\u001b[0m"
      ]
     },
     "execution_count": 16,
     "metadata": {},
     "output_type": "execute_result"
    }
   ],
   "source": [
    "# selected riders\n",
    "rider_df[!,:chosen] = value.(x).data .|>  !iszero\n",
    "filter(:chosen => ==(true), rider_df)"
   ]
  }
 ],
 "metadata": {
  "kernelspec": {
   "display_name": "Julia 1.8.5",
   "language": "julia",
   "name": "julia-1.8"
  },
  "language_info": {
   "file_extension": ".jl",
   "mimetype": "application/julia",
   "name": "julia",
   "version": "1.8.5"
  },
  "orig_nbformat": 4
 },
 "nbformat": 4,
 "nbformat_minor": 2
}
